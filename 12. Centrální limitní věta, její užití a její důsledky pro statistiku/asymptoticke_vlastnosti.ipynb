{
 "cells": [
  {
   "cell_type": "markdown",
   "metadata": {},
   "source": [
    "# Asymptotické vlastnosti náhodných veličin"
   ]
  },
  {
   "cell_type": "markdown",
   "metadata": {},
   "source": [
    "## Čebyševova věta"
   ]
  },
  {
   "cell_type": "markdown",
   "metadata": {},
   "source": [
    " **Věta**(Bienaymé-Čebyšev).\n",
    "Nechť \\(X\\) je nezáporná náhodná veličina a nechť \\(\\varepsilon > 0\\). Potom platí nerovnost:\n",
    "\\begin{equation}\\label{eq: Bienaymé}\n",
    "P(\\{X \\ge \\varepsilon\\}) \\le \\frac{EX}{\\varepsilon}\n",
    "\\end{equation}"
   ]
  },
  {
   "cell_type": "markdown",
   "metadata": {},
   "source": [
    "**Důkaz.**\n",
    "V případě, kdy je n.v. \\(X\\) absoltně spojitá lze postupovat následovně.\n",
    "\n",
    "$$\n",
    "EX = \\int_{-\\infty}^{\\infty} xf_X(x)dx = \\int_{0}^{\\infty}xf_X(x)dx.\n",
    "$$\n",
    "\n",
    "Zde podle předpokladu je $X\\ge 0$ a tudíž $f_X = 0, x < 0.$ Dále platí:\n",
    "\n",
    "$$\n",
    "EX \\ge \\int_{\\varepsilon}^{\\infty} xf_X(x)dx\n",
    "$$\n",
    "\n",
    "pro \\(\\varepsilon>0.\\)\n",
    "Je-li $x\\ge \\varepsilon,$ pak platí:\n",
    "\n",
    "$$\n",
    "\\int_{\\varepsilon}^{\\infty} xf_X(x)dx \\ge \\int_{\\varepsilon}^{\\infty}\\varepsilon f_X(x)dx = \\varepsilon P(\\{X\\ge\\varepsilon\\}).\n",
    "$$\n",
    "\n",
    "Obecněji lze důkaz vést následovně. Položme $A_{\\varepsilon}=\\{X\\ge \\varepsilon\\}.$ Potom platí $X \\ge X\\cdot I_{A_{\\varepsilon}}.$ Odtud dostáváme $EX \\ge E(X\\cdot I_{A_{\\varepsilon}}).$ Dále $X\\cdot I_{A_{\\varepsilon}}\\ge \\varepsilon\\cdot I_{A_{\\varepsilon}}$. Pak máme:\n",
    "\n",
    "$$\n",
    "EX \\ge E(X\\cdot I_{A_{\\varepsilon}})\\ge E(\\varepsilon\\cdot I_{A_{\\varepsilon}}) = \\varepsilon\\cdot E(I_{A_{\\varepsilon}})=\n",
    "\\varepsilon P(A_{\\varepsilon}).\n",
    "$$\n",
    "\n",
    "Odtud máme $P(A_{\\varepsilon})\\le EX/\\varepsilon,$ což jsme chtěli dokázat.\n",
    "\\(\\Box\\)"
   ]
  },
  {
   "cell_type": "markdown",
   "metadata": {},
   "source": [
    "V předchozím důkazu jsme využili následujících vlastností střední hodnoty:\n",
    "\n",
    "- $E(I_A) = P(A).$\n",
    "\n",
    "- $X\\ge Y\\implies EX \\ge EY.$\n",
    "\n",
    "- $E(c\\cdot X) = c\\cdot EX.$\n",
    "\n"
   ]
  },
  {
   "cell_type": "markdown",
   "metadata": {},
   "source": [
    "**Věta**(Čebyšev).\n",
    "Nechť \\(X\\) je náhodná veličina a \\(\\varepsilon > 0.\\)\n",
    "Pak platí:\n",
    "\\begin{equation}\\label{eq: 1}\n",
    "P(|X -EX|\\ge \\varepsilon)\\le\\frac{DX}{\\varepsilon^2}.\n",
    "\\end{equation}\n",
    "Tuto nerovnost pak nazýváme Čebyševovou nerovností.\n",
    "\n"
   ]
  },
  {
   "cell_type": "markdown",
   "metadata": {},
   "source": [
    "Následující nerovnost je snadným důsledkem předchozí Čebyševovy věty:\n",
    "$$\n",
    "P(|X -EX| < \\varepsilon) \\ge 1 - \\frac{DX}{\\varepsilon^2}.\n",
    "$$"
   ]
  },
  {
   "cell_type": "markdown",
   "metadata": {},
   "source": [
    "**Důkaz.**\n",
    "Uvažujme n.v. \\(Y = |X - EX|^2\\). Pak z předchozí věty plyne:\n",
    "\\[\n",
    "P(|X - EX|\\ge\\varepsilon) = P(|X - EX|^2\\ge\\varepsilon^2) = P(Y\\ge\\varepsilon^2)\\le \\frac{EY}{\\varepsilon^2} = \\frac{DX}{\\varepsilon^2}\n",
    "\\]\n",
    "\\(\\Box\\)\n"
   ]
  },
  {
   "cell_type": "markdown",
   "metadata": {},
   "source": [
    "**Poznámka.**\n",
    "Pokud položíme v Čebyševově nerovnosti (\\ref{eq: 1}) \\(\\varepsilon = \n",
    "3\\sigma,\\) dostaneme odhad:\n",
    "\\begin{equation}\\label{eq: Cebysev89}\n",
    "P(|X - EX| < 3\\sigma)\\ge 1 - \\frac{DX}{(3\\sigma)^2}= \\frac{8}{9}.\n",
    "\\end{equation}\n",
    "Například, má-li náhodná proměnná normální rozdělení pravděpodobností, pak je pravděpodobnost dokonce ještě vyšší než 8/9, totiž 0.997. Dále v důsledku Čebyševovy nerovnosti platí pravidlo: pokud neznáme rozdělení náhodné veličiny \\(X\\), ale pokud známe střední hodnotu \\(EX\\) a disperzi \\(DX\\), lze považovat interval \\((EX - 3\\sigma,EX + 3\\sigma)\\) za interval prakticky možných hodnot náhodné veličiny \\(X\\)."
   ]
  },
  {
   "cell_type": "markdown",
   "metadata": {},
   "source": [
    "## Konvergence podle pravděpodobnosti"
   ]
  },
  {
   "cell_type": "markdown",
   "metadata": {},
   "source": [
    "**Definice.**\n",
    "Nechť $\\{X_n\\}$ je posloupnost náhodných veličin. Říkáme, že tato posloupnost konverguje podle pravděpodobnosti \\(P\\) k nějaké konstantě \\(c\\), jestliže pro libovolné číslo \\(\\varepsilon > 0\\) platí:\n",
    "\\begin{equation}\\label{eq:}\n",
    "\\lim_{n\\to\\infty} P(\\{|X_n - c| < \\varepsilon\\}) = 1.\n",
    "\\end{equation}\n",
    "Tuto skutečnost zapíšeme symbolicky $X_n \\stackrel{P}{\\longrightarrow}c$ pro $n\\to\\infty.$"
   ]
  },
  {
   "cell_type": "markdown",
   "metadata": {},
   "source": [
    "## Zákon velkých čísel"
   ]
  },
  {
   "cell_type": "markdown",
   "metadata": {},
   "source": [
    "**Věta** (Slabý zákon velkých čísel)\n",
    "Nechť pro každé \\(n = 1,2,\\ldots\\) jsou n.v \\(X_1,X_2,\\ldots,X_n\\) jsou nezávislé n.v. definované na daném pravděpodobnostním prostoru a každá nechť má konečnou střední hodnotu a disperzi. Předpokládejme dále, že exituje kladná konstanta \\(M\\) taková, že pro každé \\(i\\) je \\(DX_i\\le M.\\)\n",
    "Je-li \\(S_n = \\sum_{i=1}^n X_i.\\) potom pro každé \\(\\varepsilon>0\\),\n",
    "\\[\n",
    "P\\left(\\left\\{\\left|\\frac{S_n - ES_n}{n}\\right|\\ge\\varepsilon\\right\\}\\right) \\to 0\\ \\ \\ \\text{pro}\\ \\ \\ n\\to\\infty.  \n",
    "\\]\n",
    "\\{\\}"
   ]
  },
  {
   "cell_type": "markdown",
   "metadata": {},
   "source": [
    "**Důkaz.**\n",
    "Věta je vlastně důsledkem Čebyševovy nerovnosti. Z ní vyplývá, že \n",
    "\\begin{eqnarray*}\n",
    "P(\\{|\\frac{1}{n} (\\sum_{i=1}^n X_i - E(\\sum_{i=1}^n X_i) )|\\ge\\varepsilon\\}) = P( \\{ | \\sum_{i=1}^n X_i - E(\\sum_{i=1}^n X_i) )| \\ge n\\varepsilon\\}) \\le\\\\\n",
    "\\le \\frac{D( \\sum_{i=1}^n X_i )}{n^2 \\varepsilon^2} = \\frac{\\sum_{i=1}^n DX_i}{n^2\\varepsilon^2}\\le \\frac{nM}{n^2\\varepsilon^2} = \\frac{M}{n\\varepsilon^2}\\to 0,\n",
    "\\end{eqnarray*}\n",
    "pro $n\\to\\infty.$\n",
    "\\(\\Box\\)"
   ]
  },
  {
   "cell_type": "markdown",
   "metadata": {},
   "source": [
    "**Poznámka.** V důkazu jsme využili předpoklad, že $X_1,\\ldots,X_n$ jsou nezávislými veličinami a tudíž platí:\n",
    "$$\n",
    "D(\\sum_{i=1}^n X_i)= \\sum_{i=1}^n DX_i.\n",
    "$$\n"
   ]
  },
  {
   "cell_type": "markdown",
   "metadata": {},
   "source": [
    "### Příklady"
   ]
  },
  {
   "cell_type": "markdown",
   "metadata": {},
   "source": [
    "#### (a)"
   ]
  },
  {
   "cell_type": "markdown",
   "metadata": {},
   "source": [
    "(a) Předpokládejme, že \\(EX_i = m\\) pro všechna \\(i\\) a \\(DX_i = \\sigma^2\\) pro všechna \\(i\\). Potom máme:\n",
    "\\begin{eqnarray*}\n",
    "ES_n &=& \\sum_{i=1}^n EX_i = nm\\\\\n",
    "\\frac{S_n - ES_n}{n} &=& \\frac{S_n}{n} - m = \\frac{X_1 + \\ldots X_n}{n} - m\n",
    "\\end{eqnarray*}\n",
    "Tedy pro libovolné \\(\\varepsilon > 0\\) je pro dostatečně velké \\(n\\) vysoká pravděpodobnost, že aritmetický průměr liší od střední hodnoty \\(m\\) o méně než \\(\\varepsilon\\)."
   ]
  },
  {
   "cell_type": "markdown",
   "metadata": {},
   "source": [
    "#### (b)"
   ]
  },
  {
   "cell_type": "markdown",
   "metadata": {},
   "source": [
    "(b) Uvažujme serii n Bernoulliho pokusů a nechť \\(X_i = I_{A_i}\\) kde \\(A_i = \\{\\text{ úspěch v i-tém pokusu }\\}.\\) Pak \\((X_1 +\\ldots + X_n)/n\\) vyjadřuje relativní frekvenci úspěšných pokusů mezi celkem \\(n\\) pokusy. Nyní \\(EX_i = P(A_i) = p =\\)\"pravděpodobnost úspěchu v i-tém pokusu. Pak pro dostatečně velké \\(n\\) se relativní frekvence liší od \\(p\\) o méně než \\(\\varepsilon\\)."
   ]
  },
  {
   "cell_type": "markdown",
   "metadata": {},
   "source": [
    " #### (c)"
   ]
  },
  {
   "cell_type": "markdown",
   "metadata": {},
   "source": [
    " (c) Nechť \\(X\\) je n.v. se střední hodnotou \\(EX = 8\\) a disperzí \\(DX = 5.\\) Odhadněte poté zdola hodnotu pravděpodobnosti \\(P(5 < X < 11).\\)\n",
    " \n",
    " **Řešení.**\n",
    "\\begin{equation*}\n",
    "P(5 < X < 11) = P(5 - 8 < X - 8 < 11 - 8) = P(-3 < X - 8 < 3) = P(|X - 8| < 3) \\ge 1 - \\frac{5}{3^2}.\n",
    "\\end{equation*}\n"
   ]
  },
  {
   "cell_type": "markdown",
   "metadata": {},
   "source": [
    "#### (d) "
   ]
  },
  {
   "cell_type": "markdown",
   "metadata": {},
   "source": [
    "Z balíčku 32 karet čtyř barev opakovaně vytahujeme jednu kartu a poté kartu vracíme zpět do balíčku.\n",
    "\n",
    "(i) Můžeme s pravděpodobností větší než 0.8 tvrdit, že četnost vytažení esa v 1000 pokusech bude v mezích od 100 do 150?\n",
    "\n",
    "(ii) Kolik tahů musíme provést, abychom s pravděpodobností alespoň 0.9 mohli očekávat, že relativní četnost vytažení esa vyhovuje nerovnostím:\n",
    "\\[\n",
    "0.065 \\le \\frac{m}{n} \\le 0.185.\n",
    "\\]"
   ]
  },
  {
   "cell_type": "markdown",
   "metadata": {},
   "source": [
    "**Řešení.**\n",
    "\n",
    "(i) Nechť \\(X\\) repreznetuje četnost vytažení esa v n nezávislých pokusech. Jedná se tedy o diskrétní n.v. s konečně mnoha možnými funkčními hodnotami s binomickým rozložení pravděpodobností s parametry n = 1000, p = 1/8 a q = 7/8.\n",
    "Jak víme, platí pro každé \\(k = 0,1,2,\\ldots\\),\n",
    "\\[\n",
    "P(X = k) = \\binom{n}{k}p^kq^{n-k}.\n",
    "\\]\n",
    "Dále \\(EX = np\\) a \\(DX = npq.\\) Tedy \\(EX = 1000\\cdot 1/8 = 125,\\)\n",
    "\\(DX = 1000\\cdot 1/8\\cdot 7/8 = 109.375.\\) Dále pak platí:\n",
    "\\begin{equation*}\n",
    "P(100 < X < 150) = P(|X - 125| < 25).\n",
    "\\end{equation*}\n",
    "Z Čebyševovy nerovnosti vyplývá, že\n",
    "\\begin{equation*}\n",
    "P(|X - 125| < 25) \\ge 1 - \\frac{109.375}{25^2} = 0.825 > 0.8.\n",
    "\\end{equation*}\n",
    "\n"
   ]
  },
  {
   "cell_type": "markdown",
   "metadata": {},
   "source": [
    "(ii) Uvažujme nyní n.v. \\(Y = \\frac{X}{n}\\) vyjadřující relativní četnost vytažení esa mezi n nezávislými pokusy. Potom lze spočítat střední hodnotu a disperzi n.v. \\(Y\\).\n",
    "\n",
    "\\begin{equation*}\n",
    "EY = E(\\frac{X}{n}) = \\frac{1}{n}EX = \\frac{1}{n}np = p = 1/8.\n",
    "\\end{equation*}\n",
    "\n",
    "\\begin{equation*}\n",
    "DY = D(\\frac{X}{n}) = \\frac{1}{n^2}DX = \\frac{1}{n^2}npq = \\frac{pq}{n} = \\frac{7}{n\\cdot 8^2}.\n",
    "\\end{equation*}\n",
    "\n",
    "Z Čebyševovy nerovnosti nyní vyplývá, že:\n",
    "\n",
    "\\begin{equation*}\n",
    "P(|(X/n) - E(X/n)| < 0.06) = P(|Y - EY| < 0.06) \\ge 1 - \\frac{DY}{0.06^2} = 1 - \\frac{7}{64n\\cdot 0.0036} = 1 - \\frac{7}{0.2304n}.\n",
    "\\end{equation*}\n",
    "Nyní stačí řešit nerovnici:"
   ]
  },
  {
   "cell_type": "code",
   "execution_count": 4,
   "metadata": {},
   "outputs": [
    {
     "data": {
      "text/latex": [
       "$\\displaystyle \\left(- \\infty < n \\wedge n < 0\\right) \\vee \\left(303.819444444444 < n \\wedge n < \\infty\\right)$"
      ],
      "text/plain": [
       "((-inf < n) & (n < 0)) | ((303.819444444444 < n) & (n < inf))"
      ]
     },
     "execution_count": 4,
     "metadata": {},
     "output_type": "execute_result"
    }
   ],
   "source": [
    "from sympy import *\n",
    "n = symbols(\"n\")\n",
    "solve(1 - (7)/(0.2304 * n) > 0.9)"
   ]
  },
  {
   "cell_type": "markdown",
   "metadata": {},
   "source": [
    "Odtud je vidět, že po zaokrouhlení lze vzít za n číslo 304."
   ]
  },
  {
   "cell_type": "markdown",
   "metadata": {},
   "source": [
    "## Centrální limitní věta"
   ]
  }
 ],
 "metadata": {
  "kernelspec": {
   "display_name": "Python 3",
   "language": "python",
   "name": "python3"
  },
  "language_info": {
   "codemirror_mode": {
    "name": "ipython",
    "version": 3
   },
   "file_extension": ".py",
   "mimetype": "text/x-python",
   "name": "python",
   "nbconvert_exporter": "python",
   "pygments_lexer": "ipython3",
   "version": "3.6.9"
  },
  "latex_envs": {
   "LaTeX_envs_menu_present": true,
   "autoclose": false,
   "autocomplete": true,
   "bibliofile": "biblio.bib",
   "cite_by": "apalike",
   "current_citInitial": 1,
   "eqLabelWithNumbers": true,
   "eqNumInitial": 1,
   "hotkeys": {
    "equation": "Ctrl-E",
    "itemize": "Ctrl-I"
   },
   "labels_anchors": false,
   "latex_user_defs": false,
   "report_style_numbering": false,
   "user_envs_cfg": false
  },
  "toc": {
   "base_numbering": 1,
   "nav_menu": {},
   "number_sections": true,
   "sideBar": true,
   "skip_h1_title": false,
   "title_cell": "Table of Contents",
   "title_sidebar": "Obsah",
   "toc_cell": false,
   "toc_position": {},
   "toc_section_display": true,
   "toc_window_display": false
  }
 },
 "nbformat": 4,
 "nbformat_minor": 2
}

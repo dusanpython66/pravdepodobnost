{
  "nbformat": 4,
  "nbformat_minor": 0,
  "metadata": {
    "colab": {
      "name": "kombinatorika.ipynb",
      "provenance": [],
      "collapsed_sections": [],
      "authorship_tag": "ABX9TyOKAyMS3IRRQYInaXwRIF+m",
      "include_colab_link": true
    },
    "kernelspec": {
      "name": "python3",
      "display_name": "Python 3"
    },
    "language_info": {
      "name": "python"
    }
  },
  "cells": [
    {
      "cell_type": "markdown",
      "metadata": {
        "id": "view-in-github",
        "colab_type": "text"
      },
      "source": [
        "<a href=\"https://colab.research.google.com/github/dusanpython66/pravdepodobnost/blob/main/2.%20Kombinatorika/kombinatorika.ipynb\" target=\"_parent\"><img src=\"https://colab.research.google.com/assets/colab-badge.svg\" alt=\"Open In Colab\"/></a>"
      ]
    },
    {
      "cell_type": "markdown",
      "source": [
        "# Permutace bez opakování"
      ],
      "metadata": {
        "id": "MN0WK-itdXd6"
      }
    },
    {
      "cell_type": "code",
      "execution_count": null,
      "metadata": {
        "colab": {
          "base_uri": "https://localhost:8080/"
        },
        "id": "AILSJTeSb61C",
        "outputId": "dbfcfdf2-3ec5-4cf3-d519-db25177f738a"
      },
      "outputs": [
        {
          "output_type": "execute_result",
          "data": {
            "text/plain": [
              "3628800"
            ]
          },
          "metadata": {},
          "execution_count": 2
        }
      ],
      "source": [
        "# Výpočet faktoriálu\n",
        "import math as mat\n",
        "mat.factorial(10)"
      ]
    },
    {
      "cell_type": "code",
      "source": [
        "# postupně vypočítejme počty permutací\n",
        "# pro n = 1,..,10\n",
        "for n in range(11):\n",
        "    print(f\"{n}! = \", mat.factorial(n))"
      ],
      "metadata": {
        "colab": {
          "base_uri": "https://localhost:8080/"
        },
        "id": "Kf6QgxFad58g",
        "outputId": "9eb09b10-929e-426a-b6bf-b27729a2787d"
      },
      "execution_count": null,
      "outputs": [
        {
          "output_type": "stream",
          "name": "stdout",
          "text": [
            "0! =  1\n",
            "1! =  1\n",
            "2! =  2\n",
            "3! =  6\n",
            "4! =  24\n",
            "5! =  120\n",
            "6! =  720\n",
            "7! =  5040\n",
            "8! =  40320\n",
            "9! =  362880\n",
            "10! =  3628800\n"
          ]
        }
      ]
    },
    {
      "cell_type": "code",
      "source": [
        "# Napišme vlastní funkci, která vypočítá počet \n",
        "# permutací z n prvků\n",
        "def pocetPermutaci(n):\n",
        "    # definujme lokální dočasnou proměnnou p\n",
        "    p = 1\n",
        "    for k in range(1,n + 1):\n",
        "        p *= k  # hodnota proměnné p se přepíše hodnotou p * k\n",
        "    return p"
      ],
      "metadata": {
        "id": "d7RmyBLZj7Js"
      },
      "execution_count": null,
      "outputs": []
    },
    {
      "cell_type": "code",
      "source": [
        "pocetPermutaci(2)"
      ],
      "metadata": {
        "colab": {
          "base_uri": "https://localhost:8080/"
        },
        "id": "U6_q2mHYlGVo",
        "outputId": "28ba51d3-66c4-4159-d514-3ff84b33d9d3"
      },
      "execution_count": null,
      "outputs": [
        {
          "output_type": "execute_result",
          "data": {
            "text/plain": [
              "2"
            ]
          },
          "metadata": {},
          "execution_count": 9
        }
      ]
    },
    {
      "cell_type": "code",
      "source": [
        "# Nyní spočítejme počet permutací z n prvků pomocí rekurzivního vztahu pro \n",
        "# vypočet faktoriállu:  n! = n * (n - 1)! pro n > 2\n",
        "# 0! := 1 a 1! := 1.\n",
        "def pocetPermutaciRekurze(n):\n",
        "    if n == 0:\n",
        "        return 1 # funkce vrací hodnotu 1 pokud je n = 0\n",
        "    elif n == 1:\n",
        "        return 1 # funkce vrací hodnotu 1 pokud je n = 1\n",
        "    else:\n",
        "        return n * pocetPermutaciRekurze(n - 1)  # funkce vrací pro n > 1 honotu n * (n - 1)!\n",
        "\n"
      ],
      "metadata": {
        "colab": {
          "base_uri": "https://localhost:8080/"
        },
        "id": "jUAAYsUGlJ_a",
        "outputId": "a7cf25f9-d28c-4ca6-c09c-b599c6e94ac6"
      },
      "execution_count": null,
      "outputs": [
        {
          "output_type": "execute_result",
          "data": {
            "text/plain": [
              "1"
            ]
          },
          "metadata": {},
          "execution_count": 11
        }
      ]
    },
    {
      "cell_type": "code",
      "source": [
        "# Spočítejme počet cifer číslovky, kteá vyjadřuje počet permutací\n",
        "# 40 prvkové množiny\n",
        "n = 40\n",
        "pocet = len(str(pocetPermutaciRekurze(n)))   \n",
        "print(f\"Počet cifer číslovky vyjadřující počet permutací\\n\") \n",
        "print(f\"{n}-prvkové množiny je roven číslu: {pocet}\")"
      ],
      "metadata": {
        "colab": {
          "base_uri": "https://localhost:8080/"
        },
        "id": "Bmx2Vu-BplNk",
        "outputId": "0e8b9f8a-c1ef-4a2b-d58a-9df9be65b283"
      },
      "execution_count": null,
      "outputs": [
        {
          "output_type": "stream",
          "name": "stdout",
          "text": [
            "Počet cifer číslovky vyjadřující počet permutací\n",
            "\n",
            "40-prvkové množiny je roven číslu: 48\n"
          ]
        }
      ]
    },
    {
      "cell_type": "code",
      "source": [
        "# estavme všechny permutace z tříprvkové množiny M = {\"a\", \"b\", \"c\"}\n",
        "M = {\"a\", \"b\", \"c\"}\n",
        "# p = Permutations(M)\n",
        "import itertools\n",
        "permutace = list(itertools.permutations(M))\n",
        "print(f\"Seznam všech permutací: {permutace}.\") \n",
        "print(f\"Počet permutací je roven číslu {len(permutace)}.\")"
      ],
      "metadata": {
        "colab": {
          "base_uri": "https://localhost:8080/"
        },
        "id": "L-mn5jBapx-2",
        "outputId": "0382ce1a-ae0e-4674-afd4-12d13371c452"
      },
      "execution_count": null,
      "outputs": [
        {
          "output_type": "stream",
          "name": "stdout",
          "text": [
            "Seznam všech permutací: [('c', 'b', 'a'), ('c', 'a', 'b'), ('b', 'c', 'a'), ('b', 'a', 'c'), ('a', 'c', 'b'), ('a', 'b', 'c')].\n",
            "Počet permutací je roven číslu 6\n"
          ]
        }
      ]
    },
    {
      "cell_type": "code",
      "source": [
        "# Vyvořme všechny permutace rekurzivně\n",
        "# napišme novou funkci s názvem vytvorPerm:\n",
        "def vytvorPerm(znaky):\n",
        "    # ZÁKLADNÍ PŘÍPAD\n",
        "    if len(znaky) == 1:\n",
        "        return [znaky]\n",
        "    # REKURZE\n",
        "    permutace = []\n",
        "    head = znaky[0]\n",
        "    tail = znaky[1:]\n",
        "    tailPermutace = vytvorPerm(tail)\n",
        "    for tailPerm in tailPermutace:\n",
        "        for i in range(len(tailPerm) + 1):\n",
        "            newPerm = tailPerm[0:i] + head + tailPerm[i:]\n",
        "            permutace.append(newPerm)\n",
        "    return permutace\n",
        "\n",
        "print('Permutace řetězce \"ABCD\": ')\n",
        "print('Výsledky:', ','.join(vytvorPerm('ABCD')))\n",
        "\n",
        "    "
      ],
      "metadata": {
        "colab": {
          "base_uri": "https://localhost:8080/"
        },
        "id": "MJ0gXPGw-Wu4",
        "outputId": "0aff0c47-e2a6-4072-dcc1-0deef280423b"
      },
      "execution_count": 3,
      "outputs": [
        {
          "output_type": "stream",
          "name": "stdout",
          "text": [
            "Permutace řetězce \"ABCD\": \n",
            "Výsledky: ABCD,BACD,BCAD,BCDA,ACBD,CABD,CBAD,CBDA,ACDB,CADB,CDAB,CDBA,ABDC,BADC,BDAC,BDCA,ADBC,DABC,DBAC,DBCA,ADCB,DACB,DCAB,DCBA\n"
          ]
        }
      ]
    },
    {
      "cell_type": "markdown",
      "source": [
        "# Variace s opakováním"
      ],
      "metadata": {
        "id": "LGHDt-Zwe4_v"
      }
    },
    {
      "cell_type": "markdown",
      "source": [
        "## Příklad\n",
        "Uvažujme případ, kdy máme zámek na kolo s číselným kódem obsahující\n",
        "4 ciferný kód. Všechny 4 ciferné kombinace, kterými lze zamknout zámek\n",
        "tvoří variace s opakovámím. Je jich celkem 10x10x10x10x10 (tedy od kombinace 0000 po kombinaci 9999).\n",
        "Obecně, máme-li $n$ prvkovou množinu a tvoříme-li variace s opakováním $k$-té třídy, jejich počet je roven $n^k.$\n"
      ],
      "metadata": {
        "id": "hb6QwVtFfoQL"
      }
    },
    {
      "cell_type": "code",
      "source": [
        "# Vytvořme program, ketrý vypíše všechny možné uzamykací kombinace, jestliže můžeme \n",
        "# požít pouze číslice 1,2 a 3\n",
        "# použijeme opět rekurzívní algoritmus:\n",
        "def vytvorVariaceSOpakovanim(znaky, delkaVariace=None):\n",
        "    \n",
        "    if delkaVariace is None:\n",
        "        delkaVariace = len(znaky)\n",
        "\n",
        "    # Základní případ\n",
        "    "
      ],
      "metadata": {
        "id": "QpieT3aChHld"
      },
      "execution_count": null,
      "outputs": []
    },
    {
      "cell_type": "markdown",
      "source": [
        "# Kombinace"
      ],
      "metadata": {
        "id": "6FZZGLBDyR6O"
      }
    },
    {
      "cell_type": "code",
      "source": [
        "import math as mat\n",
        "def binom(n, k):\n",
        "    return int(mat.factorial(n) / (mat.factorial(n - k) * mat.factorial(k)))"
      ],
      "metadata": {
        "id": "-wXUJL0krq9a"
      },
      "execution_count": null,
      "outputs": []
    },
    {
      "cell_type": "code",
      "source": [
        "binom(5, 3)"
      ],
      "metadata": {
        "colab": {
          "base_uri": "https://localhost:8080/"
        },
        "id": "4FfTOnh2yZDQ",
        "outputId": "09023a43-d92d-4d15-e23c-3b343935b508"
      },
      "execution_count": null,
      "outputs": [
        {
          "output_type": "execute_result",
          "data": {
            "text/plain": [
              "10"
            ]
          },
          "metadata": {},
          "execution_count": 26
        }
      ]
    },
    {
      "cell_type": "code",
      "source": [
        "# Uvažujme pětiprvkouvou množinu\n",
        "m = {1, 2, 3, 4, 5}\n",
        "# Utvořme všechny 3 prvkové kombinace prvků této množiny\n",
        "# bez opakování\n",
        "def utvorKombinace(m, k):\n",
        "    \"\"\"\n",
        "    m je množina a k je přrozené číslo, k <= len(M)\n",
        "    \"\"\"\n",
        "    n = len(m)\n",
        "    if n == 1:\n",
        "        return m\n",
        "    else:\n",
        "        utvorKombinace()\n",
        "        "
      ],
      "metadata": {
        "id": "fJ9HOsJFzheY"
      },
      "execution_count": null,
      "outputs": []
    },
    {
      "cell_type": "code",
      "source": [
        "m = {\"A\"}\n",
        "kom = utvorKombinace(m, 1)\n",
        "kom"
      ],
      "metadata": {
        "colab": {
          "base_uri": "https://localhost:8080/"
        },
        "id": "Yim6tvgq-fVo",
        "outputId": "7cfabd65-d118-4aae-f7f1-661a9d7adb2b"
      },
      "execution_count": null,
      "outputs": [
        {
          "output_type": "execute_result",
          "data": {
            "text/plain": [
              "{'A'}"
            ]
          },
          "metadata": {},
          "execution_count": 15
        }
      ]
    },
    {
      "cell_type": "code",
      "source": [
        "len(M)"
      ],
      "metadata": {
        "colab": {
          "base_uri": "https://localhost:8080/"
        },
        "id": "ZRAhk52L_7pC",
        "outputId": "69f3718a-245c-4ec5-aeba-fb0a814cbcb0"
      },
      "execution_count": null,
      "outputs": [
        {
          "output_type": "execute_result",
          "data": {
            "text/plain": [
              "1"
            ]
          },
          "metadata": {},
          "execution_count": 9
        }
      ]
    },
    {
      "cell_type": "code",
      "source": [
        "list(M)"
      ],
      "metadata": {
        "colab": {
          "base_uri": "https://localhost:8080/"
        },
        "id": "zG_D7LZX_-Q6",
        "outputId": "9974241a-648c-4a0a-dab0-14d1e14ce376"
      },
      "execution_count": null,
      "outputs": [
        {
          "output_type": "execute_result",
          "data": {
            "text/plain": [
              "['A']"
            ]
          },
          "metadata": {},
          "execution_count": 10
        }
      ]
    },
    {
      "cell_type": "code",
      "source": [
        "def kombinace(a, k):\n",
        "    \"\"\"\n",
        "        a je typu seznam (list)\n",
        "    \"\"\"\n",
        "    if k == 1:\n",
        "        for x in a:\n",
        "            yield [x]\n",
        "    else:\n",
        "        for i in range(len(a)):\n",
        "            for x in combinationsNoOrder(a[:i], k-1):\n",
        "                yield [a[i]] + x"
      ],
      "metadata": {
        "id": "AzE5Gxj-A7ho"
      },
      "execution_count": null,
      "outputs": []
    },
    {
      "cell_type": "code",
      "source": [
        "m = (1, 2, 3, 4, 5)\n",
        "list(combinationsNoOrder(m, 3))"
      ],
      "metadata": {
        "colab": {
          "base_uri": "https://localhost:8080/"
        },
        "id": "p5V5zSUQDvf2",
        "outputId": "9e0eb630-ae43-4007-a175-5214f56e89f6"
      },
      "execution_count": null,
      "outputs": [
        {
          "output_type": "execute_result",
          "data": {
            "text/plain": [
              "[[3, 2, 1],\n",
              " [4, 2, 1],\n",
              " [4, 3, 1],\n",
              " [4, 3, 2],\n",
              " [5, 2, 1],\n",
              " [5, 3, 1],\n",
              " [5, 3, 2],\n",
              " [5, 4, 1],\n",
              " [5, 4, 2],\n",
              " [5, 4, 3]]"
            ]
          },
          "metadata": {},
          "execution_count": 31
        }
      ]
    },
    {
      "cell_type": "code",
      "source": [
        ""
      ],
      "metadata": {
        "id": "PxikmMrtD3iX"
      },
      "execution_count": null,
      "outputs": []
    }
  ]
}
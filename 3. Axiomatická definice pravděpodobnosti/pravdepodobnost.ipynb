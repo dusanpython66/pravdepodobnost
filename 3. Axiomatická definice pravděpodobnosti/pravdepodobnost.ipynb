{
<<<<<<< HEAD
 "cells": [
  {
   "cell_type": "markdown",
   "metadata": {
    "collapsed": false
   },
   "source": [
    "# Pravděpodobnost"
   ]
  },
  {
   "cell_type": "markdown",
   "metadata": {
    "collapsed": false
   },
   "source": [
    "**Příklad (Narozeninový problém).**\n",
    "\n",
    "Předpokládejme, že v místnosti je k osob. Předpokládejme, že termín 29. února vylučujeme a že každý termín narozenin u osob je stejně pravděpodobný. Dále předpokládejme, že narozeniny jedné osoby nijak neovlivnňuje termín narozenin jiné osoby. Jaká je pravděpodobnost , že alespoň jeden pár osob má narozeniny ve stejný den?"
   ]
  },
  {
   "cell_type": "markdown",
   "metadata": {
    "collapsed": false
   },
   "source": [
    "**Řešení.**"
   ]
  },
  {
   "cell_type": "markdown",
   "metadata": {
    "collapsed": false
   },
   "source": [
    "$$\n",
    "P(k) = 1 - (365\\cdot 364\\cdots \\cdot (365 - k + 1)) / 365^k.\n",
    "$$"
   ]
  },
  {
   "cell_type": "code",
   "execution_count": 0,
   "metadata": {
    "collapsed": false
   },
   "outputs": [
   ],
   "source": [
    "def P(k):\n",
    "    var(\"i\")\n",
    "    return 1 - product((365 - i), i, 0, k - 1) / 365^k"
   ]
  },
  {
   "cell_type": "code",
   "execution_count": 0,
   "metadata": {
    "collapsed": false
   },
   "outputs": [
   ],
   "source": [
    "P(2)"
   ]
  },
  {
   "cell_type": "code",
   "execution_count": 0,
   "metadata": {
    "collapsed": false
   },
   "outputs": [
   ],
   "source": [
    "narozeniny = set([i for i in range(1,366)])\n",
    "def pravd(k):\n",
    "    p = (Subsets(narozeniny, k)).cardinality() * factorial(k) / 365^k     \n",
    "    return 1 - p"
   ]
  },
  {
   "cell_type": "code",
   "execution_count": 0,
   "metadata": {
    "collapsed": false
   },
   "outputs": [
   ],
   "source": [
    "pravd(2)"
   ]
  },
  {
   "cell_type": "code",
   "execution_count": 0,
   "metadata": {
    "collapsed": false
   },
   "outputs": [
   ],
   "source": [
    "p1 = scatter_plot([(k, pravd(k)) for k in range(2,366) ], markersize=3)\n",
    "p2 = scatter_plot([(k, 0.5) for k in range(2, 366)], markersize=3)\n",
    "(p1 + p2).show()"
   ]
  },
  {
   "cell_type": "code",
   "execution_count": 0,
   "metadata": {
    "collapsed": false
   },
   "outputs": [
   ],
   "source": [
    "exists([k for k in range(2, 366)], lambda k: pravd(k) > 1/2)"
   ]
  },
  {
   "cell_type": "code",
   "execution_count": 0,
   "metadata": {
    "collapsed": false
   },
   "outputs": [
   ],
   "source": [
    "exists?"
   ]
  },
  {
   "cell_type": "code",
   "execution_count": 0,
   "metadata": {
    "collapsed": false
   },
   "outputs": [
   ],
   "source": [
    "float(pravd(40)) * 100   # pravděpodobnost pro k = 40"
   ]
  },
  {
   "cell_type": "markdown",
   "metadata": {
    "collapsed": false
   },
   "source": [
    "Závěr: k tomu, aby pravděpodobnost výskytu dvojice se stejným datem narození přesáhla 0.5 stačí, aby v místnosti bylo 23 lidí !"
   ]
  },
  {
   "cell_type": "code",
   "execution_count": 0,
   "metadata": {
    "collapsed": false
   },
   "outputs": [
   ],
   "source": [
    "import itertools\n",
    "#from itertools import powerset\n",
    "narozeniny = [i for i in range(1,200)]\n",
    "\n",
    "len(list(itertools.combinations(narozeniny, 4)))"
   ]
  },
  {
   "cell_type": "markdown",
   "metadata": {
    "collapsed": false
   },
   "source": [
    "**Příklad.**\n",
    "\n",
    "Předpokládejme náhodný pokus, při němž se hází dvěma férovými kostkami. Co je potom pravěpodobnější, že hodíme součet 11 nebo součet 12 ?"
   ]
  },
  {
   "cell_type": "markdown",
   "metadata": {
    "collapsed": false
   },
   "source": [
    "**Řešení.**\n"
   ]
  },
  {
   "cell_type": "code",
   "execution_count": 0,
   "metadata": {
    "collapsed": false
   },
   "outputs": [
   ],
   "source": [
    "S = cartesian_product([set([1, 2, 3, 4, 5, 6]), set([1, 2, 3, 4, 5, 6])])\n",
    "S.cardinality()\n",
    "for dvojice in S:\n",
    "    if dvojice[0] + dvojice[1] == 11:\n",
    "        print(dvojice)"
   ]
  },
  {
   "cell_type": "code",
   "execution_count": 0,
   "metadata": {
    "collapsed": false
   },
   "outputs": [
   ],
   "source": [
    "S.cardinality()\n",
    "T = set(u for u in S if u[0] + u[1] == 11)\n",
    "print(T)\n",
    "U = set(u for u in S if u[0] + u[1] == 12)\n",
    "print(U)"
   ]
  },
  {
   "cell_type": "markdown",
   "metadata": {
    "collapsed": false
   },
   "source": [
    "# Podmíněná pravděpodobnost"
   ]
  },
  {
   "cell_type": "markdown",
   "metadata": {
    "collapsed": false
   },
   "source": [
    "**Příklad (Monty-Hall problem).**\n",
    "\n"
   ]
  },
  {
   "cell_type": "markdown",
   "metadata": {
    "collapsed": false
   },
   "source": [
    "Označme nejdříve dveře čísly 1, 2 a 3 a bez újmy na obecnosti předpokládejme, že účastník soutěže vybral dveře č. 1. Pokud by vybral jiné dveře, pak můžeme dveře přečíslovat tak, aby měly zvolené dveře číslo 1. Dále označme jako $A_i$ náhodný jev, kdy je auto za dveřmi s číslem i, i= 1,2,3. Dále nechť $V$ označuje jev kdy hráč získá auto. Konečně předpokládejme, že hráč změnil volbu dveří. Tudíž pokud je auto schováno za dveřmi č. 1 hráč prohrává a  platí tedy: $\\mathbb P(V|A_1) = 0.$ V ostatních případech hráč vyhrává a tedy platí:\n",
    "$$\n",
    "\\mathbb P(V|A_2) = \\mathbb P(V|A_3) = 1.\n",
    "$$\n",
    "Pak tedy plze psát:\n",
    "$$\n",
    "\\mathbb P(V) = \\mathbb P(V|A_1)\\cdot\\mathbb P(A_1) + \\mathbb P(V|A_2)\\cdot\\mathbb P(A_2) + \\mathbb P(V|A_3)\\cdot\\mathbb P(A_3) = \n",
    "0\\cdot\\frac{1}{3} + 1\\cdot\\frac{1}{3} + 1\\cdot\\frac{1}{3} = \\frac{2}{3}.\n",
    "$$"
   ]
  },
  {
   "cell_type": "markdown",
   "metadata": {
    "collapsed": false
   },
   "source": [
    "Základní prostor lze zapsat takto:\n",
    "$$\n",
    "S = \\{A_1D_2, A_1D_3, A_2D_3, A_3D_2\\}\n",
    "$$\n",
    "Uspořádaná dvojice $(A_i, D_j)$ pak reprentuje stav, kdy je auto za dveřmi $A_i$ a Monty otevřel dveře $D_j.$ Nyní předpokládejme, že Monty otevřel dveře $D_2.$ Nyní zřejmě $\\mathbb P(D_2|A_1) = \\mathbb P(D_3|A_1) = 1/2.$ Dále pak máme:\n",
    "$$\n",
    "\\mathbb P(D_2) = \\mathbb P(\\text{\"Monty otevřel dveře 2\"}) = \\mathbb P(A_1D_2) + \\mathbb P(A_3D_2) = \\frac{1}{3}\\cdot\\frac{1}{2} + \\frac{1}{3}\\cdot 1 = \\frac{1}{2},\n",
    "$$\n",
    "\n",
    "$$\n",
    "\\mathbb P(D_3) = \\mathbb P(A_1D_3) + \\mathbb P(A_2D_3) = \\frac{1}{3}\\cdot\\frac{1}{2} + \\frac{1}{3}\\cdot 1 = \\frac{1}{2}.\n",
    "$$\n",
    "\n",
    "Z Bayesovy formule dostáváme potom:\n",
    "$$\n",
    "\\mathbb P(A_1|D_2) = \\frac{\\mathbb P(D_2|A_1)\\mathbb P(A_1)}{\\mathbb P(D_2)} = \\frac{\\frac{1}{2}\\cdot\\frac{1}{3}}{\\frac{1}{2}} = \\frac{1}{3}.\n",
    "$$\n",
    "Tedy pravděpodobnost, že za dveřmi č. 1 je schováno auto za předpokladu, že Monty otevřel dveře č. 2 je rovna 1/3. Odtud ovšem plyne, že plyne, že pravděpodobnost výhry při změně výběru dveří je rovna 2/3. Podobně je tato pravděpodobnost rovna 2/3 pokud Monty otevřel dveře č. 3."
   ]
  },
  {
   "cell_type": "markdown",
   "metadata": {
    "collapsed": false
   },
   "source": [
    "$$\n",
    "\\mathbb P(A_1|D_3) = \\frac{\\mathbb P(D_3|A_1)\\mathbb P(A_1)}{\\mathbb P(D_3)} = \\frac{\\frac{1}{2}\\cdot\\frac{1}{3}}{\\frac{1}{2}} = \\frac{1}{3}.\n",
    "$$"
   ]
  },
  {
   "cell_type": "markdown",
   "metadata": {
    "collapsed": false
   },
   "source": [
    "## Příklad (Cvičení 2)"
   ]
  },
  {
   "cell_type": "markdown",
   "metadata": {
    "collapsed": false
   },
   "source": [
    "Uvažujme rodinu se dvěma dětmi. Určete jaká je pravděpodobnost, že obě děti jsou chlapci za předpokladu:\n",
    "\n",
    "a) starší dítě je chlapec;\n",
    "\n",
    "b) alespoň jedno z dětí je chlapec."
   ]
  },
  {
   "cell_type": "markdown",
   "metadata": {
    "collapsed": false
   },
   "source": [
    "**Řešení.**\n",
    "\n",
    "$$\n",
    "S = \\{ChCh, ChD, DCh, DD\\}.\n",
    "$$\n",
    "\n",
    "a) A nechť je jev při němž jsou obě děti chlapci a jev B je jev při němž je starší dítě chlapec. Pak\n",
    "$$\n",
    "\\mathbb P(A|B) = \\frac{\\mathbb P(A\\cap B)}{\\mathbb P(B)} = \\frac{\\frac{1}{4}}{\\frac{2}{4}} = \\frac{1}{2}.\n",
    "$$\n",
    "Obdobně pro případ b) ..."
   ]
  },
  {
   "cell_type": "markdown",
   "metadata": {
    "collapsed": false
   },
   "source": [
    "## Příklad (Cvičení 3)"
   ]
  },
  {
   "cell_type": "markdown",
   "metadata": {
    "collapsed": false
   },
   "source": [
    "Uvažujme náhodný pokus při němž jsou vrženy nezávisle dvě hrací kostky. Nyní definujme dva náhodné jevy:\n",
    "\n",
    "$$\n",
    "A = \\{\\text{ suma na kostkách je rovna 8 }\\},\n",
    "$$\n",
    "\n",
    "$$\n",
    "B = \\{\\text{ na kostkách padl stejný počet ok }\\}.\n",
    "$$\n",
    "Vypočtěte podmíněnou pravděpodobnost $\\mathbb P(B|A).$"
   ]
  },
  {
   "cell_type": "markdown",
   "metadata": {
    "collapsed": false
   },
   "source": [
    "**Řešení.**\n",
    "\n",
    "$$\n",
    "\\mathbb P(B|A) = \\frac{\\mathbb P(B\\cap A)}{\\mathbb P(A)}.\n",
    "$$"
   ]
  },
  {
   "cell_type": "code",
   "execution_count": 0,
   "metadata": {
    "collapsed": false
   },
   "outputs": [
   ],
   "source": [
    "P = (1/36) / (5/36)\n",
    "show(\"P(B|A) = (1/36) / (5/36) = \\t\", P)"
   ]
  },
  {
   "cell_type": "markdown",
   "metadata": {
    "collapsed": false
   },
   "source": [
    "## Příklad (Cvičení 4)"
   ]
  },
  {
   "cell_type": "code",
   "execution_count": 0,
   "metadata": {
    "collapsed": false
   },
   "outputs": [
   ],
   "source": [
   ]
  },
  {
   "cell_type": "markdown",
   "metadata": {
    "collapsed": false
   },
   "source": [
    "Použijte Bayesovu větu k řešení následující úlohy. Předpokládejme, že máme k dispozici dvě mince. První mince je vyvážená a má na jedné straně pannu (P) a na druhé straně je orel (O). Druhá mince má na obou stranách pannu (P). Vyberme náhodně jednu z mincí a hoďme s ní jedenkrát. Dále předpokládejme, že vyvážená mince s různými stranami je vybrána s pravděpodobností 3/4 a nechť při hodu náhodně vybranou mincí padla panna(P). Vypočítejte s jakou pravděpodobností byla vybrána mince, která má na obou stranách pannu (P)."
   ]
  },
  {
   "cell_type": "markdown",
   "metadata": {
    "collapsed": false
   },
   "source": [
    "**Řešení.**\n",
    "\n",
    "Nechť $A_1$ označuje jev kdy byla vybrána mince č. 1, tj. oboustranná a vyvážená mince.\n",
    "\n",
    "Nechť $A_2$ označuje jev, kdy byla vybrána mince č.2, tedy mince jednostranná.\n",
    "Ze zadání vyplývá, že $\\mathbb P(A_1) = 3/4$ a $\\mathbb P(A_2)=1/4.$ Dále víme, že $\\mathbb P(P|A_1) = 1/2$ a $\\mathbb P(P|A_2) = 1,$ kde $P$ označuje jev, kdy na minci padla panna. Otázka nyní zní, jaká je parvděpodobnost jevu $P$ za předpokladu jevu $A_2$ pokud víme že nastal jev $P$. To znamená, že budeme chtít určit podmíněnou pravděpodobnost $\\mathbb P(A_2|P).$ <br>\n",
    "\n",
    "$$\n",
    "\\mathbb P(A_2|P) = \\frac{\\mathbb P(A_2)\\mathbb P(P|A_2)}{\\mathbb P(P)}.\n",
    "$$\n",
    "\n",
    "$$\n",
    "\\mathbb P(P) = \\mathbb P(P|A_1)\\mathbb P(A_1) + \\mathbb P(P|A_2)\\mathbb P(A_2) = (1/2)\\cdot(3/4) + 1\\cdot (1/4) = 5/8.\n",
    "$$\n",
    "Tedy\n",
    "$$\n",
    "\\mathbb P(A_2|P) = (8/5)\\cdot(1/4)\\cdot 1 = 2/5.\n",
    "$$\n"
   ]
  },
  {
   "cell_type": "markdown",
   "metadata": {
    "collapsed": false
   },
   "source": [
    "# Bernoulliho schéma"
   ]
  },
  {
   "cell_type": "markdown",
   "metadata": {
    "collapsed": false
   },
   "source": [
    "## Příklad"
   ]
  },
  {
   "cell_type": "markdown",
   "metadata": {
    "collapsed": false
   },
   "source": [
    "Dva rovnocení tenisté hrají proti sobě. Je pravděpodobnější vyhrát dva zápasy ze čtyř nebo tři za šesti?"
   ]
  },
  {
   "cell_type": "markdown",
   "metadata": {
    "collapsed": false
   },
   "source": [
    "**Řešení.**\n",
    "\n",
    "Nejdříve uvažujme tzv. Bernoulliho schéma pro 4 opakování náhodného pokusu přičemž pravděpodobnost prvního hráče v zápase bude rovna hodnotě $p$ a pravděpodobnost uspěchu protihráče bude rovna hodnotě $q = 1 -p.$ Potom, označíme-li jako $A_2$ jev, kdy první hráč vyhraje 2 ze 4 zápasů, potom platí obecně:\n",
    "$$\n",
    "\\mathbb P(A_2) = \\binom{4}{2}p^2(1-p)^2.\n",
    "$$"
   ]
  },
  {
   "cell_type": "code",
   "execution_count": 0,
   "metadata": {
    "collapsed": false
   },
   "outputs": [
   ],
   "source": [
    "# p = 1/2 protože se předpokládá stejná síla obou hráčů\n",
    "def pst(k = 2, p = 1/2, n = 4):\n",
    "    return binomial(n, k)*p**k*(1-p)**(n-k)"
   ]
  },
  {
   "cell_type": "code",
   "execution_count": 0,
   "metadata": {
    "collapsed": false
   },
   "outputs": [
   ],
   "source": [
    "show(\"P(A_2) = \\t\", pst())\n",
    "show(\"P(A_3) = \\t\", pst(n=6, k=3))"
   ]
  },
  {
   "cell_type": "code",
   "execution_count": 0,
   "metadata": {
    "collapsed": false
   },
   "outputs": [
   ],
   "source": [
    "if pst(n=4, k=2) > pst(n=6, k=3):\n",
    "    print(\"Pravděpodobnější je vyhrát dva zápasy ze čtyř než tři ze šesti.\")\n",
    "elif pst(n=4, k=2) < pst(n=6, k=3):\n",
    "    print(\"Pravděpodobnější je vyhrát tři zápasy ze šesti.\")\n",
    "else:\n",
    "    print(\"Oba jevy jsou stejně pravděpodobné.\")"
   ]
  },
  {
   "cell_type": "markdown",
   "metadata": {
    "collapsed": false
   },
   "source": [
    "## Příklad"
   ]
  },
  {
   "cell_type": "markdown",
   "metadata": {
    "collapsed": false
   },
   "source": [
    " Předpokládejme, že realizujeme čtyři nezávislé náhodné pokusy a předpokládejme, že jev $A$ nastane při dílčím pokusu s pravděpodobností $p = 0.4.$ Spočítejme pravděpodobnost, že jev $A$ nastal alespoň třikrát."
   ]
  },
  {
   "cell_type": "markdown",
   "metadata": {
    "collapsed": false
   },
   "source": [
    "**Řešení.**\n",
    "\n",
    "Nechť $A_3$ nastane pokud jev $A$ nastal při dílčím pokusu právě třikrát a jev $A_4$ nastane pokud jev $A$ nastal při dílčím pokusu právě čtyřikrát. Jevy $A_3$  a $A_4$ se navzájem  vylučují a tudíž platí:\n",
    "$$\n",
    "    \\mathbb P(\\text{Jev A nastal alespoň třikrát}) = \\mathbb P(A_3\\cup A_4) = \\mathbb P(A_3) + \\mathbb P(A_4).\n",
    "$$"
   ]
  },
  {
   "cell_type": "code",
   "execution_count": 0,
   "metadata": {
    "collapsed": false
   },
   "outputs": [
   ],
   "source": [
    "p = pst(n=4, k=3, p=0.4) + pst(n=4, k=4, p=0.4)\n",
    "print(\"Odpověď: pravěpodobnost, že jev A nastal alespoň třikrát je rovna hodnotě: \\t\", p)"
   ]
  },
  {
   "cell_type": "code",
   "execution_count": 0,
   "metadata": {
    "collapsed": false
   },
   "outputs": [
   ],
   "source": [
    "binomial(4, 1)*0.4**1*(1-0.4)**(4-1)"
   ]
  },
  {
   "cell_type": "code",
   "execution_count": 0,
   "metadata": {
    "collapsed": false
   },
   "outputs": [
   ],
   "source": [
    "pst(k=1)"
   ]
  },
  {
   "cell_type": "code",
   "execution_count": 0,
   "metadata": {
    "collapsed": false
   },
   "outputs": [
   ],
   "source": [
    "N = 21\n",
    "print([pst(k = i, n=N,p=0.4) for i in range(N+1)])\n",
    "m = max([pst(k = i, n=N,p=0.4) for i in range(N+1)])\n",
    "print(m)"
   ]
  },
  {
   "cell_type": "code",
   "execution_count": 0,
   "metadata": {
    "collapsed": false
   },
   "outputs": [
   ],
   "source": [
    "N = 21\n",
    "s = [pst(k = i, n=N, p=0.4) for i in range(N+1)]\n",
    "modus = s.index(m)\n",
    "print(\"Modus = \", modus)"
   ]
  },
  {
   "cell_type": "code",
   "execution_count": 0,
   "metadata": {
    "collapsed": false
   },
   "outputs": [
   ],
   "source": [
    "bar_chart(s, width=0.2)"
   ]
  },
  {
   "cell_type": "code",
   "execution_count": 0,
   "metadata": {
    "collapsed": false
   },
   "outputs": [
   ],
   "source": [
    "p = 0.4\n",
    "q = 1 - p\n",
    "n = 21  # počet opakování pokusu\n",
    "l = int(n*p - q); h = int(n*p + p)\n",
    "print(\"l = 'dolní odhad' = \", l)\n",
    "print(\"h = 'horní odhad' = \", h)"
   ]
  },
  {
   "cell_type": "markdown",
   "metadata": {
    "collapsed": false
   },
   "source": [
    "## Příklad"
   ]
  },
  {
   "cell_type": "markdown",
   "metadata": {
    "collapsed": false
   },
   "source": [
    "Výstupní kontrola prověřuje 24 výrobků. Pravděpodobnost toho, že je výrobek kvalitní je rovna 0.6. Najděme nejpravděpodobnější počet kvalitních výrobků."
   ]
  },
  {
   "cell_type": "markdown",
   "metadata": {
    "collapsed": false
   },
   "source": [
    "**Řešení.**"
   ]
  },
  {
   "cell_type": "code",
   "execution_count": 0,
   "metadata": {
    "collapsed": false
   },
   "outputs": [
   ],
   "source": [
    "p = 0.6\n",
    "q = 1 - p\n",
    "n = 24\n",
    "l = int(n*p - q); h = int(n*p + p)\n",
    "print(\"l = 'dolní odhad' = \", l)\n",
    "print(\"h = 'horní odhad' = \", h)"
   ]
  },
  {
   "cell_type": "code",
   "execution_count": 0,
   "metadata": {
    "collapsed": false
   },
   "outputs": [
   ],
   "source": [
    "N = 24\n",
    "s = [pst(k = i, n=N, p = 0.6) for i in range(N+1)]\n",
    "print(s)\n",
    "print(\"-\"*50)\n",
    "m = max(s)\n",
    "print(\"max pravděpodobnost:  \", numerical_approx(m, digits=4))\n",
    "modus = s.index(m)\n",
    "print(\"Modus = \", modus)"
   ]
  },
  {
   "cell_type": "code",
   "execution_count": 0,
   "metadata": {
    "collapsed": false
   },
   "outputs": [
   ],
   "source": [
    "bar_chart(s, width=0.2)"
   ]
  },
  {
   "cell_type": "markdown",
   "metadata": {
    "collapsed": false
   },
   "source": [
    "Modus je tedy roven buď hodnotě k = 14 nebo hodnotě k=15.Pravděpodobnost, že 14 nebo 15 výrobků projde kontrolou je přibližně rovna číslu: 0.16."
   ]
  },
  {
   "cell_type": "markdown",
   "metadata": {
    "collapsed": false
   },
   "source": [
    "## Příklad"
   ]
  },
  {
   "cell_type": "markdown",
   "metadata": {
    "collapsed": false
   },
   "source": [
    "Dva střelci střílí na cíl. Pravděpodobnost, že první resp. druhý střelec při jednom výstřelu mine cíl, je $p_1 = 0.2$, resp. $p_2 = 0.4$. Najděme nejpravděpodobnější počet společných výstřelů obou střelců, při nichž ani jeden nezasáhne cíl, jestliže bylo společně vystřeleno celkem 25 krát."
   ]
  },
  {
   "cell_type": "markdown",
   "metadata": {
    "collapsed": false
   },
   "source": [
    "**Řešení.**"
   ]
  },
  {
   "cell_type": "code",
   "execution_count": 0,
   "metadata": {
    "collapsed": false
   },
   "outputs": [
   ],
   "source": [
    "p1 = 0.2; p2 = 0.4\n",
    "N = 25\n",
    "s = [pst(k=i, p=p1*p2, n=N) for i in range(N+1)]\n",
    "m = max(s)\n",
    "modus = s.index(m)\n",
    "print(\"Modus = \", modus)"
   ]
  },
  {
   "cell_type": "code",
   "execution_count": 0,
   "metadata": {
    "collapsed": false
   },
   "outputs": [
   ],
   "source": [
    "print(\"Maximální pravděpodobnost je rovna: \", numerical_approx(s[2], digits=2))"
   ]
  },
  {
   "cell_type": "code",
   "execution_count": 0,
   "metadata": {
    "collapsed": false
   },
   "outputs": [
   ],
   "source": [
    "bar_chart(s, width=0.2)"
   ]
  },
  {
   "cell_type": "markdown",
   "metadata": {
    "collapsed": false
   },
   "source": [
    "**Odpověď.**\n",
    "\n",
    "Nejpravděpodobnější je, že oba střelci zároveň minou cíl při dvou společných výstřelech."
   ]
  },
  {
   "cell_type": "code",
   "execution_count": 0,
   "metadata": {
    "collapsed": false
   },
   "outputs": [
   ],
   "source": [
   ]
  },
  {
   "cell_type": "code",
   "execution_count": 0,
   "metadata": {
    "collapsed": false
   },
   "outputs": [
   ],
   "source": [
   ]
  }
 ],
 "metadata": {
  "kernelspec": {
   "display_name": "SageMath 9.6",
   "language": "sagemath",
   "metadata": {
    "cocalc": {
     "description": "Open-source mathematical software system",
     "priority": 10,
     "url": "https://www.sagemath.org/"
    }
   },
   "name": "sage-9.6",
   "resource_dir": "/ext/jupyter/kernels/sage-9.6"
  },
  "language_info": {
   "codemirror_mode": {
    "name": "ipython",
    "version": 3
   },
   "file_extension": ".py",
   "mimetype": "text/x-python",
   "name": "python",
   "nbconvert_exporter": "python",
   "pygments_lexer": "ipython3",
   "version": "3.10.3"
  }
 },
 "nbformat": 4,
 "nbformat_minor": 4
=======
  "cells": [
    {
      "cell_type": "markdown",
      "metadata": {
        "id": "view-in-github",
        "colab_type": "text"
      },
      "source": [
        "<a href=\"https://colab.research.google.com/github/dusanpython66/pravdepodobnost/blob/main/3.%20Axiomatick%C3%A1%20definice%20pravd%C4%9Bpodobnosti/pravdepodobnost.ipynb\" target=\"_parent\"><img src=\"https://colab.research.google.com/assets/colab-badge.svg\" alt=\"Open In Colab\"/></a>"
      ]
    },
    {
      "cell_type": "markdown",
      "metadata": {
        "collapsed": false,
        "id": "qGShvKzWmm6i"
      },
      "source": [
        "# Pravděpodobnost"
      ]
    },
    {
      "cell_type": "markdown",
      "metadata": {
        "collapsed": false,
        "id": "1BKlI7Uwmm6n"
      },
      "source": [
        "## Příklad (Narozeninový problém).\n",
        "\n",
        "Předpokládejme, že v místnosti je k osob. Předpokládejme, že termín 29. února vylučujeme a že každý termín narozenin u osob je stejně pravděpodobný. Dále předpokládejme, že narozeniny jedné osoby nijak neovlivnňuje termín narozenin jiné osoby. Jaká je pravděpodobnost , že alespoň jeden pár osob má narozeniny ve stejný den?"
      ]
    },
    {
      "cell_type": "markdown",
      "metadata": {
        "collapsed": false,
        "id": "n24X1K0Lmm6n"
      },
      "source": [
        "**Řešení.**"
      ]
    },
    {
      "cell_type": "markdown",
      "metadata": {
        "collapsed": false,
        "id": "g2Z1oUA5mm6o"
      },
      "source": [
        "$$\n",
        "P(k) = 1 - (365\\cdot 364\\cdots \\cdot (365 - k + 1)) / 365^k.\n",
        "$$"
      ]
    },
    {
      "cell_type": "code",
      "source": [
        "import numpy as np\n",
        "def Pst(k):\n",
        "    a = [i for i in range(365 - k + 1, 366)]\n",
        "    return 1 - np.prod(a) / 365**k\n",
        "\n",
        "Pst(2)"
      ],
      "metadata": {
        "id": "N3Ckfje85F-o",
        "outputId": "3d36f136-8c9e-4567-b6f0-550e1d9d04fc",
        "colab": {
          "base_uri": "https://localhost:8080/"
        }
      },
      "execution_count": 1,
      "outputs": [
        {
          "output_type": "execute_result",
          "data": {
            "text/plain": [
              "0.002739726027397249"
            ]
          },
          "metadata": {},
          "execution_count": 1
        }
      ]
    },
    {
      "cell_type": "code",
      "source": [
        "import itertools\n",
        "#from itertools import powerset\n",
        "narozeniny = [i for i in range(1,366)]\n",
        "#powerset(narozeniny)\n",
        "\n",
        "def factorial(n):\n",
        "    result = 1\n",
        "    for i in range(1, n+1):\n",
        "        result *= i\n",
        "    return result\n",
        "\n",
        "def pravd(k):\n",
        "    p = len(list(itertools.combinations(narozeniny, k))) * factorial(k) / 365**k\n",
        "    return 1 - p"
      ],
      "metadata": {
        "id": "c-cpJqvD7VYS"
      },
      "execution_count": 1,
      "outputs": []
    },
    {
      "cell_type": "code",
      "source": [
        "%matplotlib inline"
      ],
      "metadata": {
        "id": "vRQzseIwHFYL"
      },
      "execution_count": 2,
      "outputs": []
    },
    {
      "cell_type": "code",
      "source": [
        "import matplotlib.pyplot as plt\n",
        "import numpy as np\n",
        "data = np.arange(10)\n",
        "data"
      ],
      "metadata": {
        "id": "ML4BfCvEvUGi",
        "outputId": "eb7bd374-d3c6-4a85-ea3a-e8072ba76673",
        "colab": {
          "base_uri": "https://localhost:8080/"
        }
      },
      "execution_count": 3,
      "outputs": [
        {
          "output_type": "execute_result",
          "data": {
            "text/plain": [
              "array([0, 1, 2, 3, 4, 5, 6, 7, 8, 9])"
            ]
          },
          "metadata": {},
          "execution_count": 3
        }
      ]
    },
    {
      "cell_type": "code",
      "source": [
        "plt.plot(data)"
      ],
      "metadata": {
        "id": "52V5kpAJwFqR",
        "outputId": "0db6a4a1-0b74-4a7e-d421-a1e22c871792",
        "colab": {
          "base_uri": "https://localhost:8080/",
          "height": 282
        }
      },
      "execution_count": 4,
      "outputs": [
        {
          "output_type": "execute_result",
          "data": {
            "text/plain": [
              "[<matplotlib.lines.Line2D at 0x7f7967727f50>]"
            ]
          },
          "metadata": {},
          "execution_count": 4
        },
        {
          "output_type": "display_data",
          "data": {
            "text/plain": [
              "<Figure size 432x288 with 1 Axes>"
            ],
            "image/png": "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\n"
          },
          "metadata": {
            "needs_background": "light"
          }
        }
      ]
    },
    {
      "cell_type": "code",
      "source": [
        "%matplotlib inline\n",
        "import numpy as np\n",
        "import matplotlib.pyplot as plt\n",
        "x = [2, 3, 4]\n",
        "y = [pravd(2), pravd(3), pravd(4)]\n",
        "plt.scatter(x, y)"
      ],
      "metadata": {
        "id": "f6EwRJ-f37Nh"
      },
      "execution_count": null,
      "outputs": []
    },
    {
      "cell_type": "code",
      "source": [
        "p1 = plt.scatter([(k, pravd(k)) for k in range(2,366) ])\n",
        "p2 = plt.scatter([(k, 0.5) for k in range(2, 366)], markersize=3)\n",
        "p1.show()"
      ],
      "metadata": {
        "id": "ZV3ZTo0f2f3N"
      },
      "execution_count": null,
      "outputs": []
    },
    {
      "cell_type": "code",
      "execution_count": 10,
      "metadata": {
        "colab": {
          "base_uri": "https://localhost:8080/",
          "height": 201
        },
        "id": "ui_mHreKmm6r",
        "outputId": "4105a546-054a-4e89-f1e1-c054a8761fec"
      },
      "outputs": [
        {
          "output_type": "error",
          "ename": "NameError",
          "evalue": "ignored",
          "traceback": [
            "\u001b[0;31m---------------------------------------------------------------------------\u001b[0m",
            "\u001b[0;31mNameError\u001b[0m                                 Traceback (most recent call last)",
            "\u001b[0;32m<ipython-input-10-cefd3e0ba984>\u001b[0m in \u001b[0;36m<module>\u001b[0;34m\u001b[0m\n\u001b[0;32m----> 1\u001b[0;31m \u001b[0mp1\u001b[0m \u001b[0;34m=\u001b[0m \u001b[0mscatter_plot\u001b[0m\u001b[0;34m(\u001b[0m\u001b[0;34m[\u001b[0m\u001b[0;34m(\u001b[0m\u001b[0mk\u001b[0m\u001b[0;34m,\u001b[0m \u001b[0mpravd\u001b[0m\u001b[0;34m(\u001b[0m\u001b[0mk\u001b[0m\u001b[0;34m)\u001b[0m\u001b[0;34m)\u001b[0m \u001b[0;32mfor\u001b[0m \u001b[0mk\u001b[0m \u001b[0;32min\u001b[0m \u001b[0mrange\u001b[0m\u001b[0;34m(\u001b[0m\u001b[0;36m2\u001b[0m\u001b[0;34m,\u001b[0m\u001b[0;36m366\u001b[0m\u001b[0;34m)\u001b[0m \u001b[0;34m]\u001b[0m\u001b[0;34m,\u001b[0m \u001b[0mmarkersize\u001b[0m\u001b[0;34m=\u001b[0m\u001b[0;36m3\u001b[0m\u001b[0;34m)\u001b[0m\u001b[0;34m\u001b[0m\u001b[0;34m\u001b[0m\u001b[0m\n\u001b[0m\u001b[1;32m      2\u001b[0m \u001b[0mp2\u001b[0m \u001b[0;34m=\u001b[0m \u001b[0mscatter_plot\u001b[0m\u001b[0;34m(\u001b[0m\u001b[0;34m[\u001b[0m\u001b[0;34m(\u001b[0m\u001b[0mk\u001b[0m\u001b[0;34m,\u001b[0m \u001b[0;36m0.5\u001b[0m\u001b[0;34m)\u001b[0m \u001b[0;32mfor\u001b[0m \u001b[0mk\u001b[0m \u001b[0;32min\u001b[0m \u001b[0mrange\u001b[0m\u001b[0;34m(\u001b[0m\u001b[0;36m2\u001b[0m\u001b[0;34m,\u001b[0m \u001b[0;36m366\u001b[0m\u001b[0;34m)\u001b[0m\u001b[0;34m]\u001b[0m\u001b[0;34m,\u001b[0m \u001b[0mmarkersize\u001b[0m\u001b[0;34m=\u001b[0m\u001b[0;36m3\u001b[0m\u001b[0;34m)\u001b[0m\u001b[0;34m\u001b[0m\u001b[0;34m\u001b[0m\u001b[0m\n\u001b[1;32m      3\u001b[0m \u001b[0;34m(\u001b[0m\u001b[0mp1\u001b[0m \u001b[0;34m+\u001b[0m \u001b[0mp2\u001b[0m\u001b[0;34m)\u001b[0m\u001b[0;34m.\u001b[0m\u001b[0mshow\u001b[0m\u001b[0;34m(\u001b[0m\u001b[0;34m)\u001b[0m\u001b[0;34m\u001b[0m\u001b[0;34m\u001b[0m\u001b[0m\n",
            "\u001b[0;31mNameError\u001b[0m: name 'scatter_plot' is not defined"
          ]
        }
      ],
      "source": [
        "p1 = scatter_plot([(k, pravd(k)) for k in range(2,366) ], markersize=3)\n",
        "p2 = scatter_plot([(k, 0.5) for k in range(2, 366)], markersize=3)\n",
        "(p1 + p2).show()"
      ]
    },
    {
      "cell_type": "code",
      "execution_count": null,
      "metadata": {
        "id": "AUg7Lvwqmm6s",
        "outputId": "fbdfeefe-0314-4e36-fb25-d63e8c8aea2d"
      },
      "outputs": [
        {
          "data": {
            "text/plain": [
              "(True, 23)"
            ]
          },
          "execution_count": 6,
          "metadata": {},
          "output_type": "execute_result"
        }
      ],
      "source": [
        "exists([k for k in range(2, 366)], lambda k: pravd(k) > 1/2)"
      ]
    },
    {
      "cell_type": "code",
      "execution_count": null,
      "metadata": {
        "id": "fFGcMydFmm6t",
        "outputId": "e0ddc0b3-71f6-46db-81d7-524896c5d5e1"
      },
      "outputs": [
        {
          "data": {
            "text/plain": [
              "89.1231809817949"
            ]
          },
          "execution_count": 7,
          "metadata": {},
          "output_type": "execute_result"
        }
      ],
      "source": [
        "float(pravd(40)) * 100   # pravděpodobnost pro k = 40"
      ]
    },
    {
      "cell_type": "markdown",
      "metadata": {
        "collapsed": false,
        "id": "GvjCY2zimm6t"
      },
      "source": [
        "Závěr: k tomu, aby pravděpodobnost výskytu dvojice se stejným datem narození přesáhla 0.5 stačí, aby v místnosti bylo 23 lidí !"
      ]
    },
    {
      "cell_type": "markdown",
      "metadata": {
        "collapsed": false,
        "id": "ASoFGorYmm6t"
      },
      "source": [
        "**Příklad.**\n",
        "\n",
        "Předpokládejme náhodný pokus, při němž se hází dvěma férovými kostkami. Co je potom pravěpodobnější, že hodíme součet 11 nebo součet 12 ?"
      ]
    },
    {
      "cell_type": "markdown",
      "metadata": {
        "collapsed": false,
        "id": "FvBThlnamm6u"
      },
      "source": [
        "**Řešení.**\n"
      ]
    },
    {
      "cell_type": "code",
      "execution_count": null,
      "metadata": {
        "id": "ctScd4x5mm6u",
        "outputId": "cb778957-f2e8-4f16-f63c-a5b5ceb7038b"
      },
      "outputs": [
        {
          "name": "stdout",
          "output_type": "stream",
          "text": [
            "(5, 6)\n",
            "(6, 5)\n"
          ]
        }
      ],
      "source": [
        "S = cartesian_product([set([1, 2, 3, 4, 5, 6]), set([1, 2, 3, 4, 5, 6])])\n",
        "S.cardinality()\n",
        "for dvojice in S:\n",
        "    if dvojice[0] + dvojice[1] == 11:\n",
        "        print(dvojice)"
      ]
    },
    {
      "cell_type": "code",
      "execution_count": null,
      "metadata": {
        "id": "Lt5tv1B3mm6u",
        "outputId": "e4900452-bc9a-4b76-fe35-c7f2c1b2e683"
      },
      "outputs": [
        {
          "name": "stdout",
          "output_type": "stream",
          "text": [
            "{(5, 6), (6, 5)}\n",
            "{(6, 6)}\n"
          ]
        }
      ],
      "source": [
        "S.cardinality()\n",
        "T = set(u for u in S if u[0] + u[1] == 11)\n",
        "print(T)\n",
        "U = set(u for u in S if u[0] + u[1] == 12)\n",
        "print(U)"
      ]
    },
    {
      "cell_type": "markdown",
      "metadata": {
        "collapsed": false,
        "id": "GhzcHirGmm6v"
      },
      "source": [
        "# Podmíněná pravděpodobnost"
      ]
    },
    {
      "cell_type": "markdown",
      "metadata": {
        "collapsed": false,
        "id": "6n_b2epGmm6v"
      },
      "source": [
        "## Příklad (Monty-Hall problem).\n",
        "\n"
      ]
    },
    {
      "cell_type": "markdown",
      "metadata": {
        "collapsed": false,
        "id": "jjjRgJeRmm6v"
      },
      "source": [
        "Označme nejdříve dveře čísly 1, 2 a 3 a bez újmy na obecnosti předpokládejme, že účastník soutěže vybral dveře č. 1. Pokud by vybral jiné dveře, pak můžeme dveře přečíslovat tak, aby měly zvolené dveře číslo 1. Dále označme jako $A_i$ náhodný jev, kdy je auto za dveřmi s číslem i, i= 1,2,3. Dále nechť $V$ označuje jev kdy hráč získá auto. Konečně předpokládejme, že hráč změnil volbu dveří. Tudíž pokud je auto schováno za dveřmi č. 1 hráč prohrává a  platí tedy: $\\mathbb P(V|A_1) = 0.$ V ostatních případech hráč vyhrává a tedy platí:\n",
        "$$\n",
        "\\mathbb P(V|A_2) = \\mathbb P(V|A_3) = 1.\n",
        "$$\n",
        "Pak tedy plze psát:\n",
        "$$\n",
        "\\mathbb P(V) = \\mathbb P(V|A_1)\\cdot\\mathbb P(A_1) + \\mathbb P(V|A_2)\\cdot\\mathbb P(A_2) + \\mathbb P(V|A_3)\\cdot\\mathbb P(A_3) = \n",
        "0\\cdot\\frac{1}{3} + 1\\cdot\\frac{1}{3} + 1\\cdot\\frac{1}{3} = \\frac{2}{3}.\n",
        "$$"
      ]
    },
    {
      "cell_type": "markdown",
      "metadata": {
        "collapsed": false,
        "id": "iu0Vtqedmm6w"
      },
      "source": [
        "Základní prostor lze zapsat takto:\n",
        "$$\n",
        "S = \\{A_1D_2, A_1D_3, A_2D_3, A_3D_2\\}\n",
        "$$\n",
        "Uspořádaná dvojice $(A_i, D_j)$ pak reprentuje stav, kdy je auto za dveřmi $A_i$ a Monty otevřel dveře $D_j.$ Nyní předpokládejme, že Monty otevřel dveře $D_2.$ Nyní zřejmě $\\mathbb P(D_2|A_1) = \\mathbb P(D_3|A_1) = 1/2.$ Dále pak máme:\n",
        "$$\n",
        "\\mathbb P(D_2) = \\mathbb P(\\text{\"Monty otevřel dveře 2\"}) = \\mathbb P(A_1D_2) + \\mathbb P(A_3D_2) = \\frac{1}{3}\\cdot\\frac{1}{2} + \\frac{1}{3}\\cdot 1 = \\frac{1}{2},\n",
        "$$\n",
        "\n",
        "$$\n",
        "\\mathbb P(D_3) = \\mathbb P(A_1D_3) + \\mathbb P(A_2D_3) = \\frac{1}{3}\\cdot\\frac{1}{2} + \\frac{1}{3}\\cdot 1 = \\frac{1}{2}.\n",
        "$$\n",
        "\n",
        "Z Bayesovy formule dostáváme potom:\n",
        "$$\n",
        "\\mathbb P(A_1|D_2) = \\frac{\\mathbb P(D_2|A_1)\\mathbb P(A_1)}{\\mathbb P(D_2)} = \\frac{\\frac{1}{2}\\cdot\\frac{1}{3}}{\\frac{1}{2}} = \\frac{1}{3}.\n",
        "$$\n",
        "Tedy pravděpodobnost, že za dveřmi č. 1 je schováno auto za předpokladu, že Monty otevřel dveře č. 2 je rovna 1/3. Odtud ovšem plyne, že plyne, že pravděpodobnost výhry při změně výběru dveří je rovna 2/3. Podobně je tato pravděpodobnost rovna 2/3 pokud Monty otevřel dveře č. 3."
      ]
    },
    {
      "cell_type": "markdown",
      "metadata": {
        "collapsed": false,
        "id": "eX0stZsqmm6w"
      },
      "source": [
        "$$\n",
        "\\mathbb P(A_1|D_3) = \\frac{\\mathbb P(D_3|A_1)\\mathbb P(A_1)}{\\mathbb P(D_3)} = \\frac{\\frac{1}{2}\\cdot\\frac{1}{3}}{\\frac{1}{2}} = \\frac{1}{3}.\n",
        "$$"
      ]
    },
    {
      "cell_type": "markdown",
      "metadata": {
        "collapsed": false,
        "id": "uIi0T7vkmm6w"
      },
      "source": [
        "## Příklad (Cvičení 2)"
      ]
    },
    {
      "cell_type": "markdown",
      "metadata": {
        "collapsed": false,
        "id": "M5NLVJW6mm6x"
      },
      "source": [
        "Uvažujme rodinu se dvěma dětmi. Určete jaká je pravděpodobnost, že obě děti jsou chlapci za předpokladu:\n",
        "\n",
        "a) starší dítě je chlapec;\n",
        "\n",
        "b) alespoň jedno z dětí je chlapec."
      ]
    },
    {
      "cell_type": "markdown",
      "metadata": {
        "collapsed": false,
        "id": "5P9iz_famm6x"
      },
      "source": [
        "**Řešení.**\n",
        "\n",
        "$$\n",
        "S = \\{ChCh, ChD, DCh, DD\\}.\n",
        "$$\n",
        "\n",
        "a) A nechť je jev při němž jsou obě děti chlapci a jev B je jev při němž je starší dítě chlapec. Pak\n",
        "$$\n",
        "\\mathbb P(A|B) = \\frac{\\mathbb P(A\\cap B)}{\\mathbb P(B)} = \\frac{\\frac{1}{4}}{\\frac{2}{4}} = \\frac{1}{2}.\n",
        "$$\n",
        "Obdobně pro případ b) ..."
      ]
    },
    {
      "cell_type": "markdown",
      "metadata": {
        "collapsed": false,
        "id": "uSaxbqwfmm6x"
      },
      "source": [
        "## Příklad (Cvičení 3)"
      ]
    },
    {
      "cell_type": "markdown",
      "metadata": {
        "collapsed": false,
        "id": "CD5kY-hCmm6x"
      },
      "source": [
        "Uvažujme náhodný pokus při němž jsou vrženy nezávisle dvě hrací kostky. Nyní definujme dva náhodné jevy:\n",
        "\n",
        "$$\n",
        "A = \\{\\text{ suma na kostkách je rovna 8 }\\},\n",
        "$$\n",
        "\n",
        "$$\n",
        "B = \\{\\text{ na kostkách padl stejný počet ok }\\}.\n",
        "$$\n",
        "Vypočtěte podmíněnou pravděpodobnost $\\mathbb P(B|A).$"
      ]
    },
    {
      "cell_type": "markdown",
      "metadata": {
        "collapsed": false,
        "id": "EuUTvdVdmm6x"
      },
      "source": [
        "**Řešení.**\n",
        "\n",
        "$$\n",
        "\\mathbb P(B|A) = \\frac{\\mathbb P(B\\cap A)}{\\mathbb P(A)}.\n",
        "$$"
      ]
    },
    {
      "cell_type": "code",
      "execution_count": null,
      "metadata": {
        "id": "BCFIbqeqmm6y",
        "outputId": "8481a6d0-bfce-40b3-98d2-725cf6c7dba4"
      },
      "outputs": [
        {
          "data": {
            "text/html": [
              "<html>\\[\\newcommand{\\Bold}[1]{\\mathbf{#1}}\\verb\"P(B|A)\"\\phantom{\\verb!x!}\\verb\"=\"\\phantom{\\verb!x!}\\verb\"(1/36)\"\\phantom{\\verb!x!}\\verb\"/\"\\phantom{\\verb!x!}\\verb\"(5/36)\"\\phantom{\\verb!x!}\\verb\"=\"\\phantom{\\verb!x!}\\verb\"\t\" \\frac{1}{5}\\]</html>"
            ],
            "text/latex": [
              "$$\\newcommand{\\Bold}[1]{\\mathbf{#1}}\\verb\"P(B|A)\"\\phantom{\\verb!x!}\\verb\"=\"\\phantom{\\verb!x!}\\verb\"(1/36)\"\\phantom{\\verb!x!}\\verb\"/\"\\phantom{\\verb!x!}\\verb\"(5/36)\"\\phantom{\\verb!x!}\\verb\"=\"\\phantom{\\verb!x!}\\verb\"\t\" \\frac{1}{5}$$"
            ],
            "text/plain": [
              "'P(B|A) = (1/36) / (5/36) = \\t' 1/5"
            ]
          },
          "execution_count": 1,
          "metadata": {},
          "output_type": "execute_result"
        }
      ],
      "source": [
        "P = (1/36) / (5/36)\n",
        "show(\"P(B|A) = (1/36) / (5/36) = \\t\", P)"
      ]
    },
    {
      "cell_type": "markdown",
      "metadata": {
        "collapsed": false,
        "id": "4yBIM4OZmm6y"
      },
      "source": [
        "## Příklad (Cvičení 4)"
      ]
    },
    {
      "cell_type": "markdown",
      "metadata": {
        "collapsed": false,
        "id": "jJKnKykXmm6y"
      },
      "source": [
        "Použijte Bayesovu větu k řešení následující úlohy. Předpokládejme, že máme k dispozici dvě mince. První mince je vyvážená a má na jedné straně pannu (P) a na druhé straně je orel (O). Druhá mince má na obou stranách pannu (P). Vyberme náhodně jednu z mincí a hoďme s ní jedenkrát. Dále předpokládejme, že vyvážená mince s různými stranami je vybrána s pravděpodobností 3/4 a nechť při hodu náhodně vybranou mincí padla panna(P). Vypočítejte s jakou pravděpodobností byla vybrána mince, která má na obou stranách pannu (P)."
      ]
    },
    {
      "cell_type": "markdown",
      "metadata": {
        "collapsed": false,
        "id": "MmFfYd_Smm6y"
      },
      "source": [
        "**Řešení.**\n",
        "\n",
        "Nechť $A_1$ označuje jev kdy byla vybrána mince č. 1, tj. oboustranná a vyvážená mince.\n",
        "\n",
        "Nechť $A_2$ označuje jev, kdy byla vybrána mince č.2, tedy mince jednostranná.\n",
        "Ze zadání vyplývá, že $\\mathbb P(A_1) = 3/4$ a $\\mathbb P(A_2)=1/4.$ Dále víme, že $\\mathbb P(P|A_1) = 1/2$ a $\\mathbb P(P|A_2) = 1,$ kde $P$ označuje jev, kdy na minci padla panna. Otázka nyní zní, jaká je parvděpodobnost jevu $P$ za předpokladu jevu $A_2$ pokud víme že nastal jev $P$. To znamená, že budeme chtít určit podmíněnou pravděpodobnost $\\mathbb P(A_2|P).$ <br>\n",
        "\n",
        "$$\n",
        "\\mathbb P(A_2|P) = \\frac{\\mathbb P(A_2)\\mathbb P(P|A_2)}{\\mathbb P(P)}.\n",
        "$$\n",
        "\n",
        "$$\n",
        "\\mathbb P(P) = \\mathbb P(P|A_1)\\mathbb P(A_1) + \\mathbb P(P|A_2)\\mathbb P(A_2) = (1/2)\\cdot(3/4) + 1\\cdot (1/4) = 5/8.\n",
        "$$\n",
        "Tedy\n",
        "$$\n",
        "\\mathbb P(A_2|P) = (8/5)\\cdot(1/4)\\cdot 1 = 2/5.\n",
        "$$\n"
      ]
    },
    {
      "cell_type": "markdown",
      "metadata": {
        "collapsed": false,
        "id": "mOgTFfqjmm6y"
      },
      "source": [
        "# Bernoulliho schéma"
      ]
    },
    {
      "cell_type": "markdown",
      "metadata": {
        "collapsed": false,
        "id": "JAQw4b1Lmm6z"
      },
      "source": [
        "## Příklad"
      ]
    },
    {
      "cell_type": "markdown",
      "metadata": {
        "collapsed": false,
        "id": "1v7SU9WVmm6z"
      },
      "source": [
        "Dva rovnocení tenisté hrají proti sobě. Je pravděpodobnější vyhrát dva zápasy ze čtyř nebo tři za šesti?"
      ]
    },
    {
      "cell_type": "markdown",
      "metadata": {
        "collapsed": false,
        "id": "_TuK9vs5mm6z"
      },
      "source": [
        "**Řešení.**\n",
        "\n",
        "Nejdříve uvažujme tzv. Bernoulliho schéma pro 4 opakování náhodného pokusu přičemž pravděpodobnost prvního hráče v zápase bude rovna hodnotě $p$ a pravděpodobnost uspěchu protihráče bude rovna hodnotě $q = 1 -p.$ Potom, označíme-li jako $A_2$ jev, kdy první hráč vyhraje 2 ze 4 zápasů, potom platí obecně:\n",
        "$$\n",
        "\\mathbb P(A_2) = \\binom{4}{2}p^2(1-p)^2.\n",
        "$$"
      ]
    },
    {
      "cell_type": "code",
      "execution_count": null,
      "metadata": {
        "id": "zlNZDORymm6z"
      },
      "outputs": [],
      "source": [
        "# p = 1/2 protože se předpokládá stejná síla obou hráčů\n",
        "def pst(k = 2, p = 1/2, n = 4):\n",
        "    return binomial(n, k)*p**k*(1-p)**(n-k)"
      ]
    },
    {
      "cell_type": "code",
      "execution_count": null,
      "metadata": {
        "id": "dMeU6gtGmm6z",
        "outputId": "39bc85e4-5b11-4d08-fffe-4b39546976de"
      },
      "outputs": [
        {
          "data": {
            "text/html": [
              "<html>\\[\\newcommand{\\Bold}[1]{\\mathbf{#1}}\\verb|P(A_2)|\\phantom{\\verb!x!}\\verb|=|\\phantom{\\verb!x!}\\verb|\t| \\frac{3}{8}\\]</html>"
            ],
            "text/latex": [
              "$$\\newcommand{\\Bold}[1]{\\mathbf{#1}}\\verb|P(A_2)|\\phantom{\\verb!x!}\\verb|=|\\phantom{\\verb!x!}\\verb|\t| \\frac{3}{8}$$"
            ],
            "text/plain": [
              "'P(A_2) = \\t' 3/8"
            ]
          },
          "execution_count": 3,
          "metadata": {},
          "output_type": "execute_result"
        },
        {
          "data": {
            "text/html": [
              "<html>\\[\\newcommand{\\Bold}[1]{\\mathbf{#1}}\\verb|P(A_3)|\\phantom{\\verb!x!}\\verb|=|\\phantom{\\verb!x!}\\verb|\t| \\frac{5}{16}\\]</html>"
            ],
            "text/latex": [
              "$$\\newcommand{\\Bold}[1]{\\mathbf{#1}}\\verb|P(A_3)|\\phantom{\\verb!x!}\\verb|=|\\phantom{\\verb!x!}\\verb|\t| \\frac{5}{16}$$"
            ],
            "text/plain": [
              "'P(A_3) = \\t' 5/16"
            ]
          },
          "execution_count": 3,
          "metadata": {},
          "output_type": "execute_result"
        }
      ],
      "source": [
        "show(\"P(A_2) = \\t\", pst())\n",
        "show(\"P(A_3) = \\t\", pst(n=6, k=3))"
      ]
    },
    {
      "cell_type": "code",
      "execution_count": null,
      "metadata": {
        "id": "ug1kkr1mmm6z",
        "outputId": "17b568d2-887c-4048-db7d-bc04240f9d4d"
      },
      "outputs": [
        {
          "name": "stdout",
          "output_type": "stream",
          "text": [
            "Pravděpodobnější je vyhrát dva zápasy ze čtyř než tři ze šesti.\n"
          ]
        }
      ],
      "source": [
        "if pst(n=4, k=2) > pst(n=6, k=3):\n",
        "    print(\"Pravděpodobnější je vyhrát dva zápasy ze čtyř než tři ze šesti.\")\n",
        "elif pst(n=4, k=2) < pst(n=6, k=3):\n",
        "    print(\"Pravděpodobnější je vyhrát tři zápasy ze šesti.\")\n",
        "else:\n",
        "    print(\"Oba jevy jsou stejně pravděpodobné.\")"
      ]
    },
    {
      "cell_type": "markdown",
      "metadata": {
        "collapsed": false,
        "id": "GmlShbJfmm60"
      },
      "source": [
        "## Příklad"
      ]
    },
    {
      "cell_type": "markdown",
      "metadata": {
        "collapsed": false,
        "id": "ho7f__sTmm60"
      },
      "source": [
        " Předpokládejme, že realizujeme čtyři nezávislé náhodné pokusy a předpokládejme, že jev $A$ nastane při dílčím pokusu s pravděpodobností $p = 0.4.$ Spočítejme pravděpodobnost, že jev $A$ nastal alespoň třikrát."
      ]
    },
    {
      "cell_type": "markdown",
      "metadata": {
        "collapsed": false,
        "id": "1mQz2YH_mm60"
      },
      "source": [
        "**Řešení.**\n",
        "\n",
        "Nechť $A_3$ nastane pokud jev $A$ nastal při dílčím pokusu právě třikrát a jev $A_4$ nastane pokud jev $A$ nastal při dílčím pokusu právě čtyřikrát. Jevy $A_3$  a $A_4$ se navzájem  vylučují a tudíž platí:\n",
        "$$\n",
        "    \\mathbb P(\\text{Jev A nastal alespoň třikrát}) = \\mathbb P(A_3\\cup A_4) = \\mathbb P(A_3) + \\mathbb P(A_4).\n",
        "$$"
      ]
    },
    {
      "cell_type": "code",
      "execution_count": null,
      "metadata": {
        "id": "5lAmVZ4Tmm60",
        "outputId": "328681b1-64b7-4535-f3ed-a7996b94677f"
      },
      "outputs": [
        {
          "name": "stdout",
          "output_type": "stream",
          "text": [
            "Odpověď: pravěpodobnost, že jev A nastal alespoň třikrát je rovna hodnotě: \t 0.179200000000000\n"
          ]
        }
      ],
      "source": [
        "p = pst(n=4, k=3, p=0.4) + pst(n=4, k=4, p=0.4)\n",
        "print(\"Odpověď: pravěpodobnost, že jev A nastal alespoň třikrát je rovna hodnotě: \\t\", p)"
      ]
    },
    {
      "cell_type": "code",
      "execution_count": null,
      "metadata": {
        "id": "wMhRbV3smm60",
        "outputId": "b7662594-e14e-4396-a854-75a032bc1026"
      },
      "outputs": [
        {
          "data": {
            "text/plain": [
              "0.345600000000000"
            ]
          },
          "execution_count": 9,
          "metadata": {},
          "output_type": "execute_result"
        }
      ],
      "source": [
        "binomial(4, 1)*0.4**1*(1-0.4)**(4-1)"
      ]
    },
    {
      "cell_type": "code",
      "execution_count": null,
      "metadata": {
        "id": "5KWgTlPLmm60",
        "outputId": "c5b512c0-cb7b-42be-f7a5-ac34f40235d9"
      },
      "outputs": [
        {
          "data": {
            "text/plain": [
              "1/4"
            ]
          },
          "execution_count": 8,
          "metadata": {},
          "output_type": "execute_result"
        }
      ],
      "source": [
        "pst(k=1)"
      ]
    },
    {
      "cell_type": "code",
      "execution_count": null,
      "metadata": {
        "id": "1tFkJm3amm61",
        "outputId": "633b8782-5511-4614-bcd0-73c4f3dee28f"
      },
      "outputs": [
        {
          "name": "stdout",
          "output_type": "stream",
          "text": [
            "[0.0000219369506403778, 0.000307117308965290, 0.00204744872643527, 0.00864478351161557, 0.0259343505348467, 0.0587845278789859, 0.104505827340419, 0.149294039057742, 0.174176378900699, 0.167725401904377, 0.134180321523501, 0.0894535476823343, 0.0496964153790746, 0.0229368070980344, 0.00873783127544169, 0.00271843639680408, 0.000679609099201020, 0.000133256686117847, 0.0000197417312767181, 2.07807697649664e-6, 1.38538465099776e-7, 4.39804651110401e-9]\n",
            "0.174176378900699\n"
          ]
        }
      ],
      "source": [
        "N = 21\n",
        "print([pst(k = i, n=N,p=0.4) for i in range(N+1)])\n",
        "m = max([pst(k = i, n=N,p=0.4) for i in range(N+1)])\n",
        "print(m)"
      ]
    },
    {
      "cell_type": "code",
      "execution_count": null,
      "metadata": {
        "id": "Jxp9MOYQmm61",
        "outputId": "85b9b8be-ba02-4b10-ad25-e43eed08d403"
      },
      "outputs": [
        {
          "name": "stdout",
          "output_type": "stream",
          "text": [
            "Modus =  8\n"
          ]
        }
      ],
      "source": [
        "N = 21\n",
        "s = [pst(k = i, n=N, p=0.4) for i in range(N+1)]\n",
        "modus = s.index(m)\n",
        "print(\"Modus = \", modus)"
      ]
    },
    {
      "cell_type": "code",
      "execution_count": null,
      "metadata": {
        "id": "9YUfFK_Qmm61",
        "outputId": "3c06a245-df04-48cb-952a-e08f4b02ca35"
      },
      "outputs": [
        {
          "data": {
            "image/png": "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",
            "text/plain": [
              "Graphics object consisting of 1 graphics primitive"
            ]
          },
          "execution_count": 29,
          "metadata": {},
          "output_type": "execute_result"
        }
      ],
      "source": [
        "bar_chart(s, width=0.2)"
      ]
    },
    {
      "cell_type": "code",
      "execution_count": null,
      "metadata": {
        "id": "QytXHQvPmm61",
        "outputId": "7bb9e4e5-f709-41a6-b191-28f41a04846e"
      },
      "outputs": [
        {
          "name": "stdout",
          "output_type": "stream",
          "text": [
            "l = 'dolní odhad' =  7\n",
            "h = 'horní odhad' =  8\n"
          ]
        }
      ],
      "source": [
        "p = 0.4\n",
        "q = 1 - p\n",
        "n = 21  # počet opakování pokusu\n",
        "l = int(n*p - q); h = int(n*p + p)\n",
        "print(\"l = 'dolní odhad' = \", l)\n",
        "print(\"h = 'horní odhad' = \", h)"
      ]
    },
    {
      "cell_type": "markdown",
      "metadata": {
        "collapsed": false,
        "id": "W7JxwO-Wmm61"
      },
      "source": [
        "## Příklad"
      ]
    },
    {
      "cell_type": "markdown",
      "metadata": {
        "collapsed": false,
        "id": "JWMR1Xb3mm61"
      },
      "source": [
        "Výstupní kontrola prověřuje 24 výrobků. Pravděpodobnost toho, že je výrobek kvalitní je rovna 0.6. Najděme nejpravděpodobnější počet kvalitních výrobků."
      ]
    },
    {
      "cell_type": "markdown",
      "metadata": {
        "collapsed": false,
        "id": "FwiCqD1nmm62"
      },
      "source": [
        "**Řešení.**"
      ]
    },
    {
      "cell_type": "code",
      "execution_count": null,
      "metadata": {
        "id": "BhIprq7hmm62",
        "outputId": "985142ae-e845-406c-de4b-54c68579362b"
      },
      "outputs": [
        {
          "name": "stdout",
          "output_type": "stream",
          "text": [
            "l = 'dolní odhad' =  13\n",
            "h = 'horní odhad' =  14\n"
          ]
        }
      ],
      "source": [
        "p = 0.6\n",
        "q = 1 - p\n",
        "n = 24\n",
        "l = int(n*p - q); h = int(n*p + p)\n",
        "print(\"l = 'dolní odhad' = \", l)\n",
        "print(\"h = 'horní odhad' = \", h)"
      ]
    },
    {
      "cell_type": "code",
      "execution_count": null,
      "metadata": {
        "id": "i07lfmtemm62",
        "outputId": "030048e5-3276-4ec8-be34-a62fee1442ec"
      },
      "outputs": [
        {
          "name": "stdout",
          "output_type": "stream",
          "text": [
            "[2.81474976710656e-10, 1.01330991615836e-8, 1.74795960537318e-7, 1.92275556591049e-6, 0.0000151417000815451, 0.0000908502004892708, 0.000431538452324036, 0.00166450545896414, 0.00530561115044819, 0.0141482964011952, 0.0318336669026892, 0.0607733640869520, 0.0987567166412970, 0.136740069195642, 0.161157938694864, 0.161157938694864, 0.135977010773791, 0.0959837723109115, 0.0559905338480317, 0.0265218318227519, 0.00994568693353194, 0.00284162483815198, 0.000581241444167451, 0.0000758141014131458, 4.73838133832161e-6]\n",
            "--------------------------------------------------\n",
            "max pravděpodobnost:   0.1612\n",
            "Modus =  14\n"
          ]
        }
      ],
      "source": [
        "N = 24\n",
        "s = [pst(k = i, n=N, p = 0.6) for i in range(N+1)]\n",
        "print(s)\n",
        "print(\"-\"*50)\n",
        "m = max(s)\n",
        "print(\"max pravděpodobnost:  \", numerical_approx(m, digits=4))\n",
        "modus = s.index(m)\n",
        "print(\"Modus = \", modus)"
      ]
    },
    {
      "cell_type": "code",
      "execution_count": null,
      "metadata": {
        "id": "rF0vpe2Imm62",
        "outputId": "af5ebff0-cc23-48c1-9432-209b3bf42a80"
      },
      "outputs": [
        {
          "data": {
            "image/png": "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",
            "text/plain": [
              "Graphics object consisting of 1 graphics primitive"
            ]
          },
          "execution_count": 14,
          "metadata": {},
          "output_type": "execute_result"
        }
      ],
      "source": [
        "bar_chart(s, width=0.2)"
      ]
    },
    {
      "cell_type": "markdown",
      "metadata": {
        "collapsed": false,
        "id": "EplUzHzKmm62"
      },
      "source": [
        "Modus je tedy roven buď hodnotě k = 14 nebo hodnotě k=15.Pravděpodobnost, že 14 nebo 15 výrobků projde kontrolou je přibližně rovna číslu: 0.16."
      ]
    },
    {
      "cell_type": "markdown",
      "metadata": {
        "collapsed": false,
        "id": "uYPZbnhdmm62"
      },
      "source": [
        "## Příklad"
      ]
    },
    {
      "cell_type": "markdown",
      "metadata": {
        "collapsed": false,
        "id": "Z3QKDkB0mm62"
      },
      "source": [
        "Dva střelci střílí na cíl. Pravděpodobnost, že první resp. druhý střelec při jednom výstřelu mine cíl, je $p_1 = 0.2$, resp. $p_2 = 0.4$. Najděme nejpravděpodobnější počet společných výstřelů obou střelců, při nichž ani jeden nezasáhne cíl, jestliže bylo společně vystřeleno celkem 25 krát."
      ]
    },
    {
      "cell_type": "markdown",
      "metadata": {
        "collapsed": false,
        "id": "WMD0l3Gkmm63"
      },
      "source": [
        "**Řešení.**"
      ]
    },
    {
      "cell_type": "code",
      "execution_count": null,
      "metadata": {
        "id": "PIsLzVcOmm63",
        "outputId": "52cfdea4-ab0d-496b-a9b6-4647c27db43c"
      },
      "outputs": [
        {
          "name": "stdout",
          "output_type": "stream",
          "text": [
            "Modus =  2\n"
          ]
        }
      ],
      "source": [
        "p1 = 0.2; p2 = 0.4\n",
        "N = 25\n",
        "s = [pst(k=i, p=p1*p2, n=N) for i in range(N+1)]\n",
        "m = max(s)\n",
        "modus = s.index(m)\n",
        "print(\"Modus = \", modus)"
      ]
    },
    {
      "cell_type": "code",
      "execution_count": null,
      "metadata": {
        "id": "7xLqwvKOmm63",
        "outputId": "4eb080ea-d36f-401f-ae3d-e93d380919bf"
      },
      "outputs": [
        {
          "name": "stdout",
          "output_type": "stream",
          "text": [
            "Maximální pravděpodobnost je rovna:  0.28\n"
          ]
        }
      ],
      "source": [
        "print(\"Maximální pravděpodobnost je rovna: \", numerical_approx(s[2], digits=2))"
      ]
    },
    {
      "cell_type": "code",
      "execution_count": null,
      "metadata": {
        "id": "RZArk1CLmm63",
        "outputId": "e3225054-08a1-4831-9552-320b0a23e461"
      },
      "outputs": [
        {
          "data": {
            "image/png": "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",
            "text/plain": [
              "Graphics object consisting of 1 graphics primitive"
            ]
          },
          "execution_count": 6,
          "metadata": {},
          "output_type": "execute_result"
        }
      ],
      "source": [
        "bar_chart(s, width=0.2)"
      ]
    },
    {
      "cell_type": "markdown",
      "metadata": {
        "collapsed": false,
        "id": "yj-wpPS1mm63"
      },
      "source": [
        "**Odpověď.**\n",
        "\n",
        "Nejpravděpodobnější je, že oba střelci zároveň minou cíl při dvou společných výstřelech."
      ]
    },
    {
      "cell_type": "code",
      "execution_count": null,
      "metadata": {
        "id": "d-cQg_56mm63"
      },
      "outputs": [],
      "source": []
    },
    {
      "cell_type": "code",
      "execution_count": null,
      "metadata": {
        "id": "Q0zsGIQLmm63"
      },
      "outputs": [],
      "source": []
    }
  ],
  "metadata": {
    "kernelspec": {
      "display_name": "Python 3",
      "name": "python3"
    },
    "language_info": {
      "name": "python"
    },
    "colab": {
      "provenance": [],
      "include_colab_link": true
    },
    "gpuClass": "standard"
  },
  "nbformat": 4,
  "nbformat_minor": 0
>>>>>>> d86e17dd46422702393662b6599a36b4c66c1f6e
}
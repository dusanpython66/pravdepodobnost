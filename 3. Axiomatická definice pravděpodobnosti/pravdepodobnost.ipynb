{
  "cells": [
    {
      "cell_type": "markdown",
      "metadata": {
        "id": "view-in-github",
        "colab_type": "text"
      },
      "source": [
        "<a href=\"https://colab.research.google.com/github/dusanpython66/pravdepodobnost/blob/main/3.%20Axiomatick%C3%A1%20definice%20pravd%C4%9Bpodobnosti/pravdepodobnost.ipynb\" target=\"_parent\"><img src=\"https://colab.research.google.com/assets/colab-badge.svg\" alt=\"Open In Colab\"/></a>"
      ]
    },
    {
      "cell_type": "markdown",
      "metadata": {
        "collapsed": false,
        "id": "qGShvKzWmm6i"
      },
      "source": [
        "# Pravděpodobnost"
      ]
    },
    {
      "cell_type": "markdown",
      "metadata": {
        "collapsed": false,
        "id": "1BKlI7Uwmm6n"
      },
      "source": [
        "**Příklad (Narozeninový problém).**\n",
        "\n",
        "Předpokládejme, že v místnosti je k osob. Předpokládejme, že termín 29. února vylučujeme a že každý termín narozenin u osob je stejně pravděpodobný. Dále předpokládejme, že narozeniny jedné osoby nijak neovlivnňuje termín narozenin jiné osoby. Jaká je pravděpodobnost , že alespoň jeden pár osob má narozeniny ve stejný den?"
      ]
    },
    {
      "cell_type": "markdown",
      "metadata": {
        "collapsed": false,
        "id": "n24X1K0Lmm6n"
      },
      "source": [
        "**Řešení.**"
      ]
    },
    {
      "cell_type": "markdown",
      "metadata": {
        "collapsed": false,
        "id": "g2Z1oUA5mm6o"
      },
      "source": [
        "$$\n",
        "P(k) = 1 - (365\\cdot 364\\cdots \\cdot (365 - k + 1)) / 365^k.\n",
        "$$"
      ]
    },
    {
      "cell_type": "code",
      "execution_count": null,
      "metadata": {
        "id": "q5ss8FhVmm6o"
      },
      "outputs": [],
      "source": [
        "def P(k):\n",
        "    var(\"i\")\n",
        "    return 1 - product((365 - i), i, 0, k - 1) / 365^k"
      ]
    },
    {
      "cell_type": "code",
      "execution_count": null,
      "metadata": {
        "id": "02r_vslsmm6p",
        "outputId": "045c75de-2e66-4139-e3a3-7350c4bc4c14"
      },
      "outputs": [
        {
          "data": {
            "text/plain": [
              "1/365"
            ]
          },
          "execution_count": 2,
          "metadata": {},
          "output_type": "execute_result"
        }
      ],
      "source": [
        "P(2)"
      ]
    },
    {
      "cell_type": "code",
      "execution_count": null,
      "metadata": {
        "id": "rtNRvXUcmm6q"
      },
      "outputs": [],
      "source": [
        "narozeniny = set([i for i in range(1,366)])\n",
        "def pravd(k):\n",
        "    p = (Subsets(narozeniny, k)).cardinality() * factorial(k) / 365^k     \n",
        "    return 1 - p"
      ]
    },
    {
      "cell_type": "code",
      "execution_count": null,
      "metadata": {
        "id": "_CBwbj8vmm6r",
        "outputId": "a645fb28-c839-482b-ce67-fc1a0465430a"
      },
      "outputs": [
        {
          "data": {
            "text/plain": [
              "1/365"
            ]
          },
          "execution_count": 4,
          "metadata": {},
          "output_type": "execute_result"
        }
      ],
      "source": [
        "pravd(2)"
      ]
    },
    {
      "cell_type": "code",
      "execution_count": null,
      "metadata": {
        "id": "ui_mHreKmm6r",
        "outputId": "5f337551-f50a-4948-c646-65cdbc6e5b41"
      },
      "outputs": [
        {
          "data": {
            "image/png": "[encoded data removed]",
            "text/plain": [
              "Graphics object consisting of 2 graphics primitives"
            ]
          },
          "execution_count": 5,
          "metadata": {},
          "output_type": "execute_result"
        }
      ],
      "source": [
        "p1 = scatter_plot([(k, pravd(k)) for k in range(2,366) ], markersize=3)\n",
        "p2 = scatter_plot([(k, 0.5) for k in range(2, 366)], markersize=3)\n",
        "(p1 + p2).show()"
      ]
    },
    {
      "cell_type": "code",
      "execution_count": null,
      "metadata": {
        "id": "AUg7Lvwqmm6s",
        "outputId": "fbdfeefe-0314-4e36-fb25-d63e8c8aea2d"
      },
      "outputs": [
        {
          "data": {
            "text/plain": [
              "(True, 23)"
            ]
          },
          "execution_count": 6,
          "metadata": {},
          "output_type": "execute_result"
        }
      ],
      "source": [
        "exists([k for k in range(2, 366)], lambda k: pravd(k) > 1/2)"
      ]
    },
    {
      "cell_type": "code",
      "execution_count": null,
      "metadata": {
        "id": "fFGcMydFmm6t",
        "outputId": "e0ddc0b3-71f6-46db-81d7-524896c5d5e1"
      },
      "outputs": [
        {
          "data": {
            "text/plain": [
              "89.1231809817949"
            ]
          },
          "execution_count": 7,
          "metadata": {},
          "output_type": "execute_result"
        }
      ],
      "source": [
        "float(pravd(40)) * 100   # pravděpodobnost pro k = 40"
      ]
    },
    {
      "cell_type": "markdown",
      "metadata": {
        "collapsed": false,
        "id": "GvjCY2zimm6t"
      },
      "source": [
        "Závěr: k tomu, aby pravděpodobnost výskytu dvojice se stejným datem narození přesáhla 0.5 stačí, aby v místnosti bylo 23 lidí !"
      ]
    },
    {
      "cell_type": "markdown",
      "metadata": {
        "collapsed": false,
        "id": "ASoFGorYmm6t"
      },
      "source": [
        "**Příklad.**\n",
        "\n",
        "Předpokládejme náhodný pokus, při němž se hází dvěma férovými kostkami. Co je potom pravěpodobnější, že hodíme součet 11 nebo součet 12 ?"
      ]
    },
    {
      "cell_type": "markdown",
      "metadata": {
        "collapsed": false,
        "id": "FvBThlnamm6u"
      },
      "source": [
        "**Řešení.**\n"
      ]
    },
    {
      "cell_type": "code",
      "execution_count": null,
      "metadata": {
        "id": "ctScd4x5mm6u",
        "outputId": "cb778957-f2e8-4f16-f63c-a5b5ceb7038b"
      },
      "outputs": [
        {
          "name": "stdout",
          "output_type": "stream",
          "text": [
            "(5, 6)\n",
            "(6, 5)\n"
          ]
        }
      ],
      "source": [
        "S = cartesian_product([set([1, 2, 3, 4, 5, 6]), set([1, 2, 3, 4, 5, 6])])\n",
        "S.cardinality()\n",
        "for dvojice in S:\n",
        "    if dvojice[0] + dvojice[1] == 11:\n",
        "        print(dvojice)"
      ]
    },
    {
      "cell_type": "code",
      "execution_count": null,
      "metadata": {
        "id": "Lt5tv1B3mm6u",
        "outputId": "e4900452-bc9a-4b76-fe35-c7f2c1b2e683"
      },
      "outputs": [
        {
          "name": "stdout",
          "output_type": "stream",
          "text": [
            "{(5, 6), (6, 5)}\n",
            "{(6, 6)}\n"
          ]
        }
      ],
      "source": [
        "S.cardinality()\n",
        "T = set(u for u in S if u[0] + u[1] == 11)\n",
        "print(T)\n",
        "U = set(u for u in S if u[0] + u[1] == 12)\n",
        "print(U)"
      ]
    },
    {
      "cell_type": "markdown",
      "metadata": {
        "collapsed": false,
        "id": "GhzcHirGmm6v"
      },
      "source": [
        "# Podmíněná pravděpodobnost"
      ]
    },
    {
      "cell_type": "markdown",
      "metadata": {
        "collapsed": false,
        "id": "6n_b2epGmm6v"
      },
      "source": [
        "**Příklad (Monty-Hall problem).**\n",
        "\n"
      ]
    },
    {
      "cell_type": "markdown",
      "metadata": {
        "collapsed": false,
        "id": "jjjRgJeRmm6v"
      },
      "source": [
        "Označme nejdříve dveře čísly 1, 2 a 3 a bez újmy na obecnosti předpokládejme, že účastník soutěže vybral dveře č. 1. Pokud by vybral jiné dveře, pak můžeme dveře přečíslovat tak, aby měly zvolené dveře číslo 1. Dále označme jako $A_i$ náhodný jev, kdy je auto za dveřmi s číslem i, i= 1,2,3. Dále nechť $V$ označuje jev kdy hráč získá auto. Konečně předpokládejme, že hráč změnil volbu dveří. Tudíž pokud je auto schováno za dveřmi č. 1 hráč prohrává a  platí tedy: $\\mathbb P(V|A_1) = 0.$ V ostatních případech hráč vyhrává a tedy platí:\n",
        "$$\n",
        "\\mathbb P(V|A_2) = \\mathbb P(V|A_3) = 1.\n",
        "$$\n",
        "Pak tedy plze psát:\n",
        "$$\n",
        "\\mathbb P(V) = \\mathbb P(V|A_1)\\cdot\\mathbb P(A_1) + \\mathbb P(V|A_2)\\cdot\\mathbb P(A_2) + \\mathbb P(V|A_3)\\cdot\\mathbb P(A_3) = \n",
        "0\\cdot\\frac{1}{3} + 1\\cdot\\frac{1}{3} + 1\\cdot\\frac{1}{3} = \\frac{2}{3}.\n",
        "$$"
      ]
    },
    {
      "cell_type": "markdown",
      "metadata": {
        "collapsed": false,
        "id": "iu0Vtqedmm6w"
      },
      "source": [
        "Základní prostor lze zapsat takto:\n",
        "$$\n",
        "S = \\{A_1D_2, A_1D_3, A_2D_3, A_3D_2\\}\n",
        "$$\n",
        "Uspořádaná dvojice $(A_i, D_j)$ pak reprentuje stav, kdy je auto za dveřmi $A_i$ a Monty otevřel dveře $D_j.$ Nyní předpokládejme, že Monty otevřel dveře $D_2.$ Nyní zřejmě $\\mathbb P(D_2|A_1) = \\mathbb P(D_3|A_1) = 1/2.$ Dále pak máme:\n",
        "$$\n",
        "\\mathbb P(D_2) = \\mathbb P(\\text{\"Monty otevřel dveře 2\"}) = \\mathbb P(A_1D_2) + \\mathbb P(A_3D_2) = \\frac{1}{3}\\cdot\\frac{1}{2} + \\frac{1}{3}\\cdot 1 = \\frac{1}{2},\n",
        "$$\n",
        "\n",
        "$$\n",
        "\\mathbb P(D_3) = \\mathbb P(A_1D_3) + \\mathbb P(A_2D_3) = \\frac{1}{3}\\cdot\\frac{1}{2} + \\frac{1}{3}\\cdot 1 = \\frac{1}{2}.\n",
        "$$\n",
        "\n",
        "Z Bayesovy formule dostáváme potom:\n",
        "$$\n",
        "\\mathbb P(A_1|D_2) = \\frac{\\mathbb P(D_2|A_1)\\mathbb P(A_1)}{\\mathbb P(D_2)} = \\frac{\\frac{1}{2}\\cdot\\frac{1}{3}}{\\frac{1}{2}} = \\frac{1}{3}.\n",
        "$$\n",
        "Tedy pravděpodobnost, že za dveřmi č. 1 je schováno auto za předpokladu, že Monty otevřel dveře č. 2 je rovna 1/3. Odtud ovšem plyne, že plyne, že pravděpodobnost výhry při změně výběru dveří je rovna 2/3. Podobně je tato pravděpodobnost rovna 2/3 pokud Monty otevřel dveře č. 3."
      ]
    },
    {
      "cell_type": "markdown",
      "metadata": {
        "collapsed": false,
        "id": "eX0stZsqmm6w"
      },
      "source": [
        "$$\n",
        "\\mathbb P(A_1|D_3) = \\frac{\\mathbb P(D_3|A_1)\\mathbb P(A_1)}{\\mathbb P(D_3)} = \\frac{\\frac{1}{2}\\cdot\\frac{1}{3}}{\\frac{1}{2}} = \\frac{1}{3}.\n",
        "$$"
      ]
    },
    {
      "cell_type": "markdown",
      "metadata": {
        "collapsed": false,
        "id": "uIi0T7vkmm6w"
      },
      "source": [
        "## Příklad (Cvičení 2)"
      ]
    },
    {
      "cell_type": "markdown",
      "metadata": {
        "collapsed": false,
        "id": "M5NLVJW6mm6x"
      },
      "source": [
        "Uvažujme rodinu se dvěma dětmi. Určete jaká je pravděpodobnost, že obě děti jsou chlapci za předpokladu:\n",
        "\n",
        "a) starší dítě je chlapec;\n",
        "\n",
        "b) alespoň jedno z dětí je chlapec."
      ]
    },
    {
      "cell_type": "markdown",
      "metadata": {
        "collapsed": false,
        "id": "5P9iz_famm6x"
      },
      "source": [
        "**Řešení.**\n",
        "\n",
        "$$\n",
        "S = \\{ChCh, ChD, DCh, DD\\}.\n",
        "$$\n",
        "\n",
        "a) A nechť je jev při němž jsou obě děti chlapci a jev B je jev při němž je starší dítě chlapec. Pak\n",
        "$$\n",
        "\\mathbb P(A|B) = \\frac{\\mathbb P(A\\cap B)}{\\mathbb P(B)} = \\frac{\\frac{1}{4}}{\\frac{2}{4}} = \\frac{1}{2}.\n",
        "$$\n",
        "Obdobně pro případ b) ..."
      ]
    },
    {
      "cell_type": "markdown",
      "metadata": {
        "collapsed": false,
        "id": "uSaxbqwfmm6x"
      },
      "source": [
        "## Příklad (Cvičení 3)"
      ]
    },
    {
      "cell_type": "markdown",
      "metadata": {
        "collapsed": false,
        "id": "CD5kY-hCmm6x"
      },
      "source": [
        "Uvažujme náhodný pokus při němž jsou vrženy nezávisle dvě hrací kostky. Nyní definujme dva náhodné jevy:\n",
        "\n",
        "$$\n",
        "A = \\{\\text{ suma na kostkách je rovna 8 }\\},\n",
        "$$\n",
        "\n",
        "$$\n",
        "B = \\{\\text{ na kostkách padl stejný počet ok }\\}.\n",
        "$$\n",
        "Vypočtěte podmíněnou pravděpodobnost $\\mathbb P(B|A).$"
      ]
    },
    {
      "cell_type": "markdown",
      "metadata": {
        "collapsed": false,
        "id": "EuUTvdVdmm6x"
      },
      "source": [
        "**Řešení.**\n",
        "\n",
        "$$\n",
        "\\mathbb P(B|A) = \\frac{\\mathbb P(B\\cap A)}{\\mathbb P(A)}.\n",
        "$$"
      ]
    },
    {
      "cell_type": "code",
      "execution_count": null,
      "metadata": {
        "id": "BCFIbqeqmm6y",
        "outputId": "8481a6d0-bfce-40b3-98d2-725cf6c7dba4"
      },
      "outputs": [
        {
          "data": {
            "text/html": [
              "<html>\\[\\newcommand{\\Bold}[1]{\\mathbf{#1}}\\verb\"P(B|A)\"\\phantom{\\verb!x!}\\verb\"=\"\\phantom{\\verb!x!}\\verb\"(1/36)\"\\phantom{\\verb!x!}\\verb\"/\"\\phantom{\\verb!x!}\\verb\"(5/36)\"\\phantom{\\verb!x!}\\verb\"=\"\\phantom{\\verb!x!}\\verb\"\t\" \\frac{1}{5}\\]</html>"
            ],
            "text/latex": [
              "$$\\newcommand{\\Bold}[1]{\\mathbf{#1}}\\verb\"P(B|A)\"\\phantom{\\verb!x!}\\verb\"=\"\\phantom{\\verb!x!}\\verb\"(1/36)\"\\phantom{\\verb!x!}\\verb\"/\"\\phantom{\\verb!x!}\\verb\"(5/36)\"\\phantom{\\verb!x!}\\verb\"=\"\\phantom{\\verb!x!}\\verb\"\t\" \\frac{1}{5}$$"
            ],
            "text/plain": [
              "'P(B|A) = (1/36) / (5/36) = \\t' 1/5"
            ]
          },
          "execution_count": 1,
          "metadata": {},
          "output_type": "execute_result"
        }
      ],
      "source": [
        "P = (1/36) / (5/36)\n",
        "show(\"P(B|A) = (1/36) / (5/36) = \\t\", P)"
      ]
    },
    {
      "cell_type": "markdown",
      "metadata": {
        "collapsed": false,
        "id": "4yBIM4OZmm6y"
      },
      "source": [
        "## Příklad (Cvičení 4)"
      ]
    },
    {
      "cell_type": "markdown",
      "metadata": {
        "collapsed": false,
        "id": "jJKnKykXmm6y"
      },
      "source": [
        "Použijte Bayesovu větu k řešení následující úlohy. Předpokládejme, že máme k dispozici dvě mince. První mince je vyvážená a má na jedné straně pannu (P) a na druhé straně je orel (O). Druhá mince má na obou stranách pannu (P). Vyberme náhodně jednu z mincí a hoďme s ní jedenkrát. Dále předpokládejme, že vyvážená mince s různými stranami je vybrána s pravděpodobností 3/4 a nechť při hodu náhodně vybranou mincí padla panna(P). Vypočítejte s jakou pravděpodobností byla vybrána mince, která má na obou stranách pannu (P)."
      ]
    },
    {
      "cell_type": "markdown",
      "metadata": {
        "collapsed": false,
        "id": "MmFfYd_Smm6y"
      },
      "source": [
        "**Řešení.**\n",
        "\n",
        "Nechť $A_1$ označuje jev kdy byla vybrána mince č. 1, tj. oboustranná a vyvážená mince.\n",
        "\n",
        "Nechť $A_2$ označuje jev, kdy byla vybrána mince č.2, tedy mince jednostranná.\n",
        "Ze zadání vyplývá, že $\\mathbb P(A_1) = 3/4$ a $\\mathbb P(A_2)=1/4.$ Dále víme, že $\\mathbb P(P|A_1) = 1/2$ a $\\mathbb P(P|A_2) = 1,$ kde $P$ označuje jev, kdy na minci padla panna. Otázka nyní zní, jaká je parvděpodobnost jevu $P$ za předpokladu jevu $A_2$ pokud víme že nastal jev $P$. To znamená, že budeme chtít určit podmíněnou pravděpodobnost $\\mathbb P(A_2|P).$ <br>\n",
        "\n",
        "$$\n",
        "\\mathbb P(A_2|P) = \\frac{\\mathbb P(A_2)\\mathbb P(P|A_2)}{\\mathbb P(P)}.\n",
        "$$\n",
        "\n",
        "$$\n",
        "\\mathbb P(P) = \\mathbb P(P|A_1)\\mathbb P(A_1) + \\mathbb P(P|A_2)\\mathbb P(A_2) = (1/2)\\cdot(3/4) + 1\\cdot (1/4) = 5/8.\n",
        "$$\n",
        "Tedy\n",
        "$$\n",
        "\\mathbb P(A_2|P) = (8/5)\\cdot(1/4)\\cdot 1 = 2/5.\n",
        "$$\n"
      ]
    },
    {
      "cell_type": "markdown",
      "metadata": {
        "collapsed": false,
        "id": "mOgTFfqjmm6y"
      },
      "source": [
        "# Bernoulliho schéma"
      ]
    },
    {
      "cell_type": "markdown",
      "metadata": {
        "collapsed": false,
        "id": "JAQw4b1Lmm6z"
      },
      "source": [
        "## Příklad"
      ]
    },
    {
      "cell_type": "markdown",
      "metadata": {
        "collapsed": false,
        "id": "1v7SU9WVmm6z"
      },
      "source": [
        "Dva rovnocení tenisté hrají proti sobě. Je pravděpodobnější vyhrát dva zápasy ze čtyř nebo tři za šesti?"
      ]
    },
    {
      "cell_type": "markdown",
      "metadata": {
        "collapsed": false,
        "id": "_TuK9vs5mm6z"
      },
      "source": [
        "**Řešení.**\n",
        "\n",
        "Nejdříve uvažujme tzv. Bernoulliho schéma pro 4 opakování náhodného pokusu přičemž pravděpodobnost prvního hráče v zápase bude rovna hodnotě $p$ a pravděpodobnost uspěchu protihráče bude rovna hodnotě $q = 1 -p.$ Potom, označíme-li jako $A_2$ jev, kdy první hráč vyhraje 2 ze 4 zápasů, potom platí obecně:\n",
        "$$\n",
        "\\mathbb P(A_2) = \\binom{4}{2}p^2(1-p)^2.\n",
        "$$"
      ]
    },
    {
      "cell_type": "code",
      "execution_count": null,
      "metadata": {
        "id": "zlNZDORymm6z"
      },
      "outputs": [],
      "source": [
        "# p = 1/2 protože se předpokládá stejná síla obou hráčů\n",
        "def pst(k = 2, p = 1/2, n = 4):\n",
        "    return binomial(n, k)*p**k*(1-p)**(n-k)"
      ]
    },
    {
      "cell_type": "code",
      "execution_count": null,
      "metadata": {
        "id": "dMeU6gtGmm6z",
        "outputId": "39bc85e4-5b11-4d08-fffe-4b39546976de"
      },
      "outputs": [
        {
          "data": {
            "text/html": [
              "<html>\\[\\newcommand{\\Bold}[1]{\\mathbf{#1}}\\verb|P(A_2)|\\phantom{\\verb!x!}\\verb|=|\\phantom{\\verb!x!}\\verb|\t| \\frac{3}{8}\\]</html>"
            ],
            "text/latex": [
              "$$\\newcommand{\\Bold}[1]{\\mathbf{#1}}\\verb|P(A_2)|\\phantom{\\verb!x!}\\verb|=|\\phantom{\\verb!x!}\\verb|\t| \\frac{3}{8}$$"
            ],
            "text/plain": [
              "'P(A_2) = \\t' 3/8"
            ]
          },
          "execution_count": 3,
          "metadata": {},
          "output_type": "execute_result"
        },
        {
          "data": {
            "text/html": [
              "<html>\\[\\newcommand{\\Bold}[1]{\\mathbf{#1}}\\verb|P(A_3)|\\phantom{\\verb!x!}\\verb|=|\\phantom{\\verb!x!}\\verb|\t| \\frac{5}{16}\\]</html>"
            ],
            "text/latex": [
              "$$\\newcommand{\\Bold}[1]{\\mathbf{#1}}\\verb|P(A_3)|\\phantom{\\verb!x!}\\verb|=|\\phantom{\\verb!x!}\\verb|\t| \\frac{5}{16}$$"
            ],
            "text/plain": [
              "'P(A_3) = \\t' 5/16"
            ]
          },
          "execution_count": 3,
          "metadata": {},
          "output_type": "execute_result"
        }
      ],
      "source": [
        "show(\"P(A_2) = \\t\", pst())\n",
        "show(\"P(A_3) = \\t\", pst(n=6, k=3))"
      ]
    },
    {
      "cell_type": "code",
      "execution_count": null,
      "metadata": {
        "id": "ug1kkr1mmm6z",
        "outputId": "17b568d2-887c-4048-db7d-bc04240f9d4d"
      },
      "outputs": [
        {
          "name": "stdout",
          "output_type": "stream",
          "text": [
            "Pravděpodobnější je vyhrát dva zápasy ze čtyř než tři ze šesti.\n"
          ]
        }
      ],
      "source": [
        "if pst(n=4, k=2) > pst(n=6, k=3):\n",
        "    print(\"Pravděpodobnější je vyhrát dva zápasy ze čtyř než tři ze šesti.\")\n",
        "elif pst(n=4, k=2) < pst(n=6, k=3):\n",
        "    print(\"Pravděpodobnější je vyhrát tři zápasy ze šesti.\")\n",
        "else:\n",
        "    print(\"Oba jevy jsou stejně pravděpodobné.\")"
      ]
    },
    {
      "cell_type": "markdown",
      "metadata": {
        "collapsed": false,
        "id": "GmlShbJfmm60"
      },
      "source": [
        "## Příklad"
      ]
    },
    {
      "cell_type": "markdown",
      "metadata": {
        "collapsed": false,
        "id": "ho7f__sTmm60"
      },
      "source": [
        " Předpokládejme, že realizujeme čtyři nezávislé náhodné pokusy a předpokládejme, že jev $A$ nastane při dílčím pokusu s pravděpodobností $p = 0.4.$ Spočítejme pravděpodobnost, že jev $A$ nastal alespoň třikrát."
      ]
    },
    {
      "cell_type": "markdown",
      "metadata": {
        "collapsed": false,
        "id": "1mQz2YH_mm60"
      },
      "source": [
        "**Řešení.**\n",
        "\n",
        "Nechť $A_3$ nastane pokud jev $A$ nastal při dílčím pokusu právě třikrát a jev $A_4$ nastane pokud jev $A$ nastal při dílčím pokusu právě čtyřikrát. Jevy $A_3$  a $A_4$ se navzájem  vylučují a tudíž platí:\n",
        "$$\n",
        "    \\mathbb P(\\text{Jev A nastal alespoň třikrát}) = \\mathbb P(A_3\\cup A_4) = \\mathbb P(A_3) + \\mathbb P(A_4).\n",
        "$$"
      ]
    },
    {
      "cell_type": "code",
      "execution_count": null,
      "metadata": {
        "id": "5lAmVZ4Tmm60",
        "outputId": "328681b1-64b7-4535-f3ed-a7996b94677f"
      },
      "outputs": [
        {
          "name": "stdout",
          "output_type": "stream",
          "text": [
            "Odpověď: pravěpodobnost, že jev A nastal alespoň třikrát je rovna hodnotě: \t 0.179200000000000\n"
          ]
        }
      ],
      "source": [
        "p = pst(n=4, k=3, p=0.4) + pst(n=4, k=4, p=0.4)\n",
        "print(\"Odpověď: pravěpodobnost, že jev A nastal alespoň třikrát je rovna hodnotě: \\t\", p)"
      ]
    },
    {
      "cell_type": "code",
      "execution_count": null,
      "metadata": {
        "id": "wMhRbV3smm60",
        "outputId": "b7662594-e14e-4396-a854-75a032bc1026"
      },
      "outputs": [
        {
          "data": {
            "text/plain": [
              "0.345600000000000"
            ]
          },
          "execution_count": 9,
          "metadata": {},
          "output_type": "execute_result"
        }
      ],
      "source": [
        "binomial(4, 1)*0.4**1*(1-0.4)**(4-1)"
      ]
    },
    {
      "cell_type": "code",
      "execution_count": null,
      "metadata": {
        "id": "5KWgTlPLmm60",
        "outputId": "c5b512c0-cb7b-42be-f7a5-ac34f40235d9"
      },
      "outputs": [
        {
          "data": {
            "text/plain": [
              "1/4"
            ]
          },
          "execution_count": 8,
          "metadata": {},
          "output_type": "execute_result"
        }
      ],
      "source": [
        "pst(k=1)"
      ]
    },
    {
      "cell_type": "code",
      "execution_count": null,
      "metadata": {
        "id": "1tFkJm3amm61",
        "outputId": "633b8782-5511-4614-bcd0-73c4f3dee28f"
      },
      "outputs": [
        {
          "name": "stdout",
          "output_type": "stream",
          "text": [
            "[0.0000219369506403778, 0.000307117308965290, 0.00204744872643527, 0.00864478351161557, 0.0259343505348467, 0.0587845278789859, 0.104505827340419, 0.149294039057742, 0.174176378900699, 0.167725401904377, 0.134180321523501, 0.0894535476823343, 0.0496964153790746, 0.0229368070980344, 0.00873783127544169, 0.00271843639680408, 0.000679609099201020, 0.000133256686117847, 0.0000197417312767181, 2.07807697649664e-6, 1.38538465099776e-7, 4.39804651110401e-9]\n",
            "0.174176378900699\n"
          ]
        }
      ],
      "source": [
        "N = 21\n",
        "print([pst(k = i, n=N,p=0.4) for i in range(N+1)])\n",
        "m = max([pst(k = i, n=N,p=0.4) for i in range(N+1)])\n",
        "print(m)"
      ]
    },
    {
      "cell_type": "code",
      "execution_count": null,
      "metadata": {
        "id": "Jxp9MOYQmm61",
        "outputId": "85b9b8be-ba02-4b10-ad25-e43eed08d403"
      },
      "outputs": [
        {
          "name": "stdout",
          "output_type": "stream",
          "text": [
            "Modus =  8\n"
          ]
        }
      ],
      "source": [
        "N = 21\n",
        "s = [pst(k = i, n=N, p=0.4) for i in range(N+1)]\n",
        "modus = s.index(m)\n",
        "print(\"Modus = \", modus)"
      ]
    },
    {
      "cell_type": "code",
      "execution_count": null,
      "metadata": {
        "id": "9YUfFK_Qmm61",
        "outputId": "3c06a245-df04-48cb-952a-e08f4b02ca35"
      },
      "outputs": [
        {
          "data": {
            "image/png": "[encoded data removed]",
            "text/plain": [
              "Graphics object consisting of 1 graphics primitive"
            ]
          },
          "execution_count": 29,
          "metadata": {},
          "output_type": "execute_result"
        }
      ],
      "source": [
        "bar_chart(s, width=0.2)"
      ]
    },
    {
      "cell_type": "code",
      "execution_count": null,
      "metadata": {
        "id": "QytXHQvPmm61",
        "outputId": "7bb9e4e5-f709-41a6-b191-28f41a04846e"
      },
      "outputs": [
        {
          "name": "stdout",
          "output_type": "stream",
          "text": [
            "l = 'dolní odhad' =  7\n",
            "h = 'horní odhad' =  8\n"
          ]
        }
      ],
      "source": [
        "p = 0.4\n",
        "q = 1 - p\n",
        "n = 21  # počet opakování pokusu\n",
        "l = int(n*p - q); h = int(n*p + p)\n",
        "print(\"l = 'dolní odhad' = \", l)\n",
        "print(\"h = 'horní odhad' = \", h)"
      ]
    },
    {
      "cell_type": "markdown",
      "metadata": {
        "collapsed": false,
        "id": "W7JxwO-Wmm61"
      },
      "source": [
        "## Příklad"
      ]
    },
    {
      "cell_type": "markdown",
      "metadata": {
        "collapsed": false,
        "id": "JWMR1Xb3mm61"
      },
      "source": [
        "Výstupní kontrola prověřuje 24 výrobků. Pravděpodobnost toho, že je výrobek kvalitní je rovna 0.6. Najděme nejpravděpodobnější počet kvalitních výrobků."
      ]
    },
    {
      "cell_type": "markdown",
      "metadata": {
        "collapsed": false,
        "id": "FwiCqD1nmm62"
      },
      "source": [
        "**Řešení.**"
      ]
    },
    {
      "cell_type": "code",
      "execution_count": null,
      "metadata": {
        "id": "BhIprq7hmm62",
        "outputId": "985142ae-e845-406c-de4b-54c68579362b"
      },
      "outputs": [
        {
          "name": "stdout",
          "output_type": "stream",
          "text": [
            "l = 'dolní odhad' =  13\n",
            "h = 'horní odhad' =  14\n"
          ]
        }
      ],
      "source": [
        "p = 0.6\n",
        "q = 1 - p\n",
        "n = 24\n",
        "l = int(n*p - q); h = int(n*p + p)\n",
        "print(\"l = 'dolní odhad' = \", l)\n",
        "print(\"h = 'horní odhad' = \", h)"
      ]
    },
    {
      "cell_type": "code",
      "execution_count": null,
      "metadata": {
        "id": "i07lfmtemm62",
        "outputId": "030048e5-3276-4ec8-be34-a62fee1442ec"
      },
      "outputs": [
        {
          "name": "stdout",
          "output_type": "stream",
          "text": [
            "[2.81474976710656e-10, 1.01330991615836e-8, 1.74795960537318e-7, 1.92275556591049e-6, 0.0000151417000815451, 0.0000908502004892708, 0.000431538452324036, 0.00166450545896414, 0.00530561115044819, 0.0141482964011952, 0.0318336669026892, 0.0607733640869520, 0.0987567166412970, 0.136740069195642, 0.161157938694864, 0.161157938694864, 0.135977010773791, 0.0959837723109115, 0.0559905338480317, 0.0265218318227519, 0.00994568693353194, 0.00284162483815198, 0.000581241444167451, 0.0000758141014131458, 4.73838133832161e-6]\n",
            "--------------------------------------------------\n",
            "max pravděpodobnost:   0.1612\n",
            "Modus =  14\n"
          ]
        }
      ],
      "source": [
        "N = 24\n",
        "s = [pst(k = i, n=N, p = 0.6) for i in range(N+1)]\n",
        "print(s)\n",
        "print(\"-\"*50)\n",
        "m = max(s)\n",
        "print(\"max pravděpodobnost:  \", numerical_approx(m, digits=4))\n",
        "modus = s.index(m)\n",
        "print(\"Modus = \", modus)"
      ]
    },
    {
      "cell_type": "code",
      "execution_count": null,
      "metadata": {
        "id": "rF0vpe2Imm62",
        "outputId": "af5ebff0-cc23-48c1-9432-209b3bf42a80"
      },
      "outputs": [
        {
          "data": {
            "image/png": "[encoded data removed]",
            "text/plain": [
              "Graphics object consisting of 1 graphics primitive"
            ]
          },
          "execution_count": 14,
          "metadata": {},
          "output_type": "execute_result"
        }
      ],
      "source": [
        "bar_chart(s, width=0.2)"
      ]
    },
    {
      "cell_type": "markdown",
      "metadata": {
        "collapsed": false,
        "id": "EplUzHzKmm62"
      },
      "source": [
        "Modus je tedy roven buď hodnotě k = 14 nebo hodnotě k=15.Pravděpodobnost, že 14 nebo 15 výrobků projde kontrolou je přibližně rovna číslu: 0.16."
      ]
    },
    {
      "cell_type": "markdown",
      "metadata": {
        "collapsed": false,
        "id": "uYPZbnhdmm62"
      },
      "source": [
        "## Příklad"
      ]
    },
    {
      "cell_type": "markdown",
      "metadata": {
        "collapsed": false,
        "id": "Z3QKDkB0mm62"
      },
      "source": [
        "Dva střelci střílí na cíl. Pravděpodobnost, že první resp. druhý střelec při jednom výstřelu mine cíl, je $p_1 = 0.2$, resp. $p_2 = 0.4$. Najděme nejpravděpodobnější počet společných výstřelů obou střelců, při nichž ani jeden nezasáhne cíl, jestliže bylo společně vystřeleno celkem 25 krát."
      ]
    },
    {
      "cell_type": "markdown",
      "metadata": {
        "collapsed": false,
        "id": "WMD0l3Gkmm63"
      },
      "source": [
        "**Řešení.**"
      ]
    },
    {
      "cell_type": "code",
      "execution_count": null,
      "metadata": {
        "id": "PIsLzVcOmm63",
        "outputId": "52cfdea4-ab0d-496b-a9b6-4647c27db43c"
      },
      "outputs": [
        {
          "name": "stdout",
          "output_type": "stream",
          "text": [
            "Modus =  2\n"
          ]
        }
      ],
      "source": [
        "p1 = 0.2; p2 = 0.4\n",
        "N = 25\n",
        "s = [pst(k=i, p=p1*p2, n=N) for i in range(N+1)]\n",
        "m = max(s)\n",
        "modus = s.index(m)\n",
        "print(\"Modus = \", modus)"
      ]
    },
    {
      "cell_type": "code",
      "execution_count": null,
      "metadata": {
        "id": "7xLqwvKOmm63",
        "outputId": "4eb080ea-d36f-401f-ae3d-e93d380919bf"
      },
      "outputs": [
        {
          "name": "stdout",
          "output_type": "stream",
          "text": [
            "Maximální pravděpodobnost je rovna:  0.28\n"
          ]
        }
      ],
      "source": [
        "print(\"Maximální pravděpodobnost je rovna: \", numerical_approx(s[2], digits=2))"
      ]
    },
    {
      "cell_type": "code",
      "execution_count": null,
      "metadata": {
        "id": "RZArk1CLmm63",
        "outputId": "e3225054-08a1-4831-9552-320b0a23e461"
      },
      "outputs": [
        {
          "data": {
            "image/png": "[encoded data removed]",
            "text/plain": [
              "Graphics object consisting of 1 graphics primitive"
            ]
          },
          "execution_count": 6,
          "metadata": {},
          "output_type": "execute_result"
        }
      ],
      "source": [
        "bar_chart(s, width=0.2)"
      ]
    },
    {
      "cell_type": "markdown",
      "metadata": {
        "collapsed": false,
        "id": "yj-wpPS1mm63"
      },
      "source": [
        "**Odpověď.**\n",
        "\n",
        "Nejpravděpodobnější je, že oba střelci zároveň minou cíl při dvou společných výstřelech."
      ]
    },
    {
      "cell_type": "code",
      "execution_count": null,
      "metadata": {
        "id": "d-cQg_56mm63"
      },
      "outputs": [],
      "source": []
    },
    {
      "cell_type": "code",
      "execution_count": null,
      "metadata": {
        "id": "Q0zsGIQLmm63"
      },
      "outputs": [],
      "source": []
    }
  ],
  "metadata": {
    "kernelspec": {
      "display_name": "SageMath 9.4",
      "language": "sagemath",
      "metadata": {
        "cocalc": {
          "description": "Open-source mathematical software system",
          "priority": 1,
          "url": "https://www.sagemath.org/"
        }
      },
      "name": "sage-9.4",
      "resource_dir": "/ext/jupyter/kernels/sage-9.4"
    },
    "language_info": {
      "codemirror_mode": {
        "name": "ipython",
        "version": 3
      },
      "file_extension": ".py",
      "mimetype": "text/x-python",
      "name": "python",
      "nbconvert_exporter": "python",
      "pygments_lexer": "ipython3",
      "version": "3.9.5"
    },
    "colab": {
      "provenance": [],
      "include_colab_link": true
    }
  },
  "nbformat": 4,
  "nbformat_minor": 0
}
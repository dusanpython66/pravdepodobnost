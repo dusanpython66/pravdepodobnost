{
 "cells": [
  {
   "cell_type": "markdown",
   "metadata": {
    "collapsed": false
   },
   "source": [
    "# Pravděpodobnost"
   ]
  },
  {
   "cell_type": "markdown",
   "metadata": {
    "collapsed": false
   },
   "source": [
    "**Příklad (Narozeninový problém).**\n",
    "\n",
    "Předpokládejme, že v místnosti je k osob. Předpokládejme, že termín 29. února vylučujeme a že každý termín narozenin u osob je stejně pravděpodobný. Dále předpokládejme, že narozeniny jedné osoby nijak neovlivnňuje termín narozenin jiné osoby. Jaká je pravděpodobnost , že alespoň jeden pár osob má narozeniny ve stejný den?"
   ]
  },
  {
   "cell_type": "markdown",
   "metadata": {
    "collapsed": false
   },
   "source": [
    "**Řešení.**"
   ]
  },
  {
   "cell_type": "markdown",
   "metadata": {
    "collapsed": false
   },
   "source": [
    "$$\n",
    "P(k) = 1 - (365\\cdot 364\\cdots \\cdot (365 - k + 1)) / 365^k.\n",
    "$$"
   ]
  },
  {
   "cell_type": "code",
   "execution_count": 0,
   "metadata": {
    "collapsed": false
   },
   "outputs": [
   ],
   "source": [
    "def P(k):\n",
    "    var(\"i\")\n",
    "    return 1 - product((365 - i), i, 0, k - 1) / 365^k"
   ]
  },
  {
   "cell_type": "code",
   "execution_count": 0,
   "metadata": {
    "collapsed": false
   },
   "outputs": [
   ],
   "source": [
    "P(2)"
   ]
  },
  {
   "cell_type": "code",
   "execution_count": 0,
   "metadata": {
    "collapsed": false
   },
   "outputs": [
   ],
   "source": [
    "narozeniny = set([i for i in range(1,366)])\n",
    "def pravd(k):\n",
    "    p = (Subsets(narozeniny, k)).cardinality() * factorial(k) / 365^k     \n",
    "    return 1 - p"
   ]
  },
  {
   "cell_type": "code",
   "execution_count": 0,
   "metadata": {
    "collapsed": false
   },
   "outputs": [
   ],
   "source": [
    "pravd(2)"
   ]
  },
  {
   "cell_type": "code",
   "execution_count": 0,
   "metadata": {
    "collapsed": false
   },
   "outputs": [
   ],
   "source": [
    "p1 = scatter_plot([(k, pravd(k)) for k in range(2,366) ], markersize=3)\n",
    "p2 = scatter_plot([(k, 0.5) for k in range(2, 366)], markersize=3)\n",
    "(p1 + p2).show()"
   ]
  },
  {
   "cell_type": "code",
   "execution_count": 0,
   "metadata": {
    "collapsed": false
   },
   "outputs": [
   ],
   "source": [
    "exists([k for k in range(2, 366)], lambda k: pravd(k) > 1/2)"
   ]
  },
  {
   "cell_type": "code",
   "execution_count": 0,
   "metadata": {
    "collapsed": false
   },
   "outputs": [
   ],
   "source": [
    "exists?"
   ]
  },
  {
   "cell_type": "code",
   "execution_count": 0,
   "metadata": {
    "collapsed": false
   },
   "outputs": [
   ],
   "source": [
    "float(pravd(40)) * 100   # pravděpodobnost pro k = 40"
   ]
  },
  {
   "cell_type": "markdown",
   "metadata": {
    "collapsed": false
   },
   "source": [
    "Závěr: k tomu, aby pravděpodobnost výskytu dvojice se stejným datem narození přesáhla 0.5 stačí, aby v místnosti bylo 23 lidí !"
   ]
  },
  {
   "cell_type": "code",
   "execution_count": 0,
   "metadata": {
    "collapsed": false
   },
   "outputs": [
   ],
   "source": [
    "import itertools\n",
    "#from itertools import powerset\n",
    "narozeniny = [i for i in range(1,200)]\n",
    "\n",
    "len(list(itertools.combinations(narozeniny, 4)))"
   ]
  },
  {
   "cell_type": "markdown",
   "metadata": {
    "collapsed": false
   },
   "source": [
    "**Příklad.**\n",
    "\n",
    "Předpokládejme náhodný pokus, při němž se hází dvěma férovými kostkami. Co je potom pravěpodobnější, že hodíme součet 11 nebo součet 12 ?"
   ]
  },
  {
   "cell_type": "markdown",
   "metadata": {
    "collapsed": false
   },
   "source": [
    "**Řešení.**\n"
   ]
  },
  {
   "cell_type": "code",
   "execution_count": 0,
   "metadata": {
    "collapsed": false
   },
   "outputs": [
   ],
   "source": [
    "S = cartesian_product([set([1, 2, 3, 4, 5, 6]), set([1, 2, 3, 4, 5, 6])])\n",
    "S.cardinality()\n",
    "for dvojice in S:\n",
    "    if dvojice[0] + dvojice[1] == 11:\n",
    "        print(dvojice)"
   ]
  },
  {
   "cell_type": "code",
   "execution_count": 0,
   "metadata": {
    "collapsed": false
   },
   "outputs": [
   ],
   "source": [
    "S.cardinality()\n",
    "T = set(u for u in S if u[0] + u[1] == 11)\n",
    "print(T)\n",
    "U = set(u for u in S if u[0] + u[1] == 12)\n",
    "print(U)"
   ]
  },
  {
   "cell_type": "markdown",
   "metadata": {
    "collapsed": false
   },
   "source": [
    "# Podmíněná pravděpodobnost"
   ]
  },
  {
   "cell_type": "markdown",
   "metadata": {
    "collapsed": false
   },
   "source": [
    "**Příklad (Monty-Hall problem).**\n",
    "\n"
   ]
  },
  {
   "cell_type": "markdown",
   "metadata": {
    "collapsed": false
   },
   "source": [
    "Označme nejdříve dveře čísly 1, 2 a 3 a bez újmy na obecnosti předpokládejme, že účastník soutěže vybral dveře č. 1. Pokud by vybral jiné dveře, pak můžeme dveře přečíslovat tak, aby měly zvolené dveře číslo 1. Dále označme jako $A_i$ náhodný jev, kdy je auto za dveřmi s číslem i, i= 1,2,3. Dále nechť $V$ označuje jev kdy hráč získá auto. Konečně předpokládejme, že hráč změnil volbu dveří. Tudíž pokud je auto schováno za dveřmi č. 1 hráč prohrává a  platí tedy: $\\mathbb P(V|A_1) = 0.$ V ostatních případech hráč vyhrává a tedy platí:\n",
    "$$\n",
    "\\mathbb P(V|A_2) = \\mathbb P(V|A_3) = 1.\n",
    "$$\n",
    "Pak tedy plze psát:\n",
    "$$\n",
    "\\mathbb P(V) = \\mathbb P(V|A_1)\\cdot\\mathbb P(A_1) + \\mathbb P(V|A_2)\\cdot\\mathbb P(A_2) + \\mathbb P(V|A_3)\\cdot\\mathbb P(A_3) = \n",
    "0\\cdot\\frac{1}{3} + 1\\cdot\\frac{1}{3} + 1\\cdot\\frac{1}{3} = \\frac{2}{3}.\n",
    "$$"
   ]
  },
  {
   "cell_type": "markdown",
   "metadata": {
    "collapsed": false
   },
   "source": [
    "Základní prostor lze zapsat takto:\n",
    "$$\n",
    "S = \\{A_1D_2, A_1D_3, A_2D_3, A_3D_2\\}\n",
    "$$\n",
    "Uspořádaná dvojice $(A_i, D_j)$ pak reprentuje stav, kdy je auto za dveřmi $A_i$ a Monty otevřel dveře $D_j.$ Nyní předpokládejme, že Monty otevřel dveře $D_2.$ Nyní zřejmě $\\mathbb P(D_2|A_1) = \\mathbb P(D_3|A_1) = 1/2.$ Dále pak máme:\n",
    "$$\n",
    "\\mathbb P(D_2) = \\mathbb P(\\text{\"Monty otevřel dveře 2\"}) = \\mathbb P(A_1D_2) + \\mathbb P(A_3D_2) = \\frac{1}{3}\\cdot\\frac{1}{2} + \\frac{1}{3}\\cdot 1 = \\frac{1}{2},\n",
    "$$\n",
    "\n",
    "$$\n",
    "\\mathbb P(D_3) = \\mathbb P(A_1D_3) + \\mathbb P(A_2D_3) = \\frac{1}{3}\\cdot\\frac{1}{2} + \\frac{1}{3}\\cdot 1 = \\frac{1}{2}.\n",
    "$$\n",
    "\n",
    "Z Bayesovy formule dostáváme potom:\n",
    "$$\n",
    "\\mathbb P(A_1|D_2) = \\frac{\\mathbb P(D_2|A_1)\\mathbb P(A_1)}{\\mathbb P(D_2)} = \\frac{\\frac{1}{2}\\cdot\\frac{1}{3}}{\\frac{1}{2}} = \\frac{1}{3}.\n",
    "$$\n",
    "Tedy pravděpodobnost, že za dveřmi č. 1 je schováno auto za předpokladu, že Monty otevřel dveře č. 2 je rovna 1/3. Odtud ovšem plyne, že plyne, že pravděpodobnost výhry při změně výběru dveří je rovna 2/3. Podobně je tato pravděpodobnost rovna 2/3 pokud Monty otevřel dveře č. 3."
   ]
  },
  {
   "cell_type": "markdown",
   "metadata": {
    "collapsed": false
   },
   "source": [
    "$$\n",
    "\\mathbb P(A_1|D_3) = \\frac{\\mathbb P(D_3|A_1)\\mathbb P(A_1)}{\\mathbb P(D_3)} = \\frac{\\frac{1}{2}\\cdot\\frac{1}{3}}{\\frac{1}{2}} = \\frac{1}{3}.\n",
    "$$"
   ]
  },
  {
   "cell_type": "markdown",
   "metadata": {
    "collapsed": false
   },
   "source": [
    "## Příklad (Cvičení 2)"
   ]
  },
  {
   "cell_type": "markdown",
   "metadata": {
    "collapsed": false
   },
   "source": [
    "Uvažujme rodinu se dvěma dětmi. Určete jaká je pravděpodobnost, že obě děti jsou chlapci za předpokladu:\n",
    "\n",
    "a) starší dítě je chlapec;\n",
    "\n",
    "b) alespoň jedno z dětí je chlapec."
   ]
  },
  {
   "cell_type": "markdown",
   "metadata": {
    "collapsed": false
   },
   "source": [
    "**Řešení.**\n",
    "\n",
    "$$\n",
    "S = \\{ChCh, ChD, DCh, DD\\}.\n",
    "$$\n",
    "\n",
    "a) A nechť je jev při němž jsou obě děti chlapci a jev B je jev při němž je starší dítě chlapec. Pak\n",
    "$$\n",
    "\\mathbb P(A|B) = \\frac{\\mathbb P(A\\cap B)}{\\mathbb P(B)} = \\frac{\\frac{1}{4}}{\\frac{2}{4}} = \\frac{1}{2}.\n",
    "$$\n",
    "Obdobně pro případ b) ..."
   ]
  },
  {
   "cell_type": "markdown",
   "metadata": {
    "collapsed": false
   },
   "source": [
    "## Příklad (Cvičení 3)"
   ]
  },
  {
   "cell_type": "markdown",
   "metadata": {
    "collapsed": false
   },
   "source": [
    "Uvažujme náhodný pokus při němž jsou vrženy nezávisle dvě hrací kostky. Nyní definujme dva náhodné jevy:\n",
    "\n",
    "$$\n",
    "A = \\{\\text{ suma na kostkách je rovna 8 }\\},\n",
    "$$\n",
    "\n",
    "$$\n",
    "B = \\{\\text{ na kostkách padl stejný počet ok }\\}.\n",
    "$$\n",
    "Vypočtěte podmíněnou pravděpodobnost $\\mathbb P(B|A).$"
   ]
  },
  {
   "cell_type": "markdown",
   "metadata": {
    "collapsed": false
   },
   "source": [
    "**Řešení.**\n",
    "\n",
    "$$\n",
    "\\mathbb P(B|A) = \\frac{\\mathbb P(B\\cap A)}{\\mathbb P(A)}.\n",
    "$$"
   ]
  },
  {
   "cell_type": "code",
   "execution_count": 0,
   "metadata": {
    "collapsed": false
   },
   "outputs": [
   ],
   "source": [
    "P = (1/36) / (5/36)\n",
    "show(\"P(B|A) = (1/36) / (5/36) = \\t\", P)"
   ]
  },
  {
   "cell_type": "markdown",
   "metadata": {
    "collapsed": false
   },
   "source": [
    "## Příklad (Cvičení 4)"
   ]
  },
  {
   "cell_type": "code",
   "execution_count": 0,
   "metadata": {
    "collapsed": false
   },
   "outputs": [
   ],
   "source": [
   ]
  },
  {
   "cell_type": "markdown",
   "metadata": {
    "collapsed": false
   },
   "source": [
    "Použijte Bayesovu větu k řešení následující úlohy. Předpokládejme, že máme k dispozici dvě mince. První mince je vyvážená a má na jedné straně pannu (P) a na druhé straně je orel (O). Druhá mince má na obou stranách pannu (P). Vyberme náhodně jednu z mincí a hoďme s ní jedenkrát. Dále předpokládejme, že vyvážená mince s různými stranami je vybrána s pravděpodobností 3/4 a nechť při hodu náhodně vybranou mincí padla panna(P). Vypočítejte s jakou pravděpodobností byla vybrána mince, která má na obou stranách pannu (P)."
   ]
  },
  {
   "cell_type": "markdown",
   "metadata": {
    "collapsed": false
   },
   "source": [
    "**Řešení.**\n",
    "\n",
    "Nechť $A_1$ označuje jev kdy byla vybrána mince č. 1, tj. oboustranná a vyvážená mince.\n",
    "\n",
    "Nechť $A_2$ označuje jev, kdy byla vybrána mince č.2, tedy mince jednostranná.\n",
    "Ze zadání vyplývá, že $\\mathbb P(A_1) = 3/4$ a $\\mathbb P(A_2)=1/4.$ Dále víme, že $\\mathbb P(P|A_1) = 1/2$ a $\\mathbb P(P|A_2) = 1,$ kde $P$ označuje jev, kdy na minci padla panna. Otázka nyní zní, jaká je parvděpodobnost jevu $P$ za předpokladu jevu $A_2$ pokud víme že nastal jev $P$. To znamená, že budeme chtít určit podmíněnou pravděpodobnost $\\mathbb P(A_2|P).$ <br>\n",
    "\n",
    "$$\n",
    "\\mathbb P(A_2|P) = \\frac{\\mathbb P(A_2)\\mathbb P(P|A_2)}{\\mathbb P(P)}.\n",
    "$$\n",
    "\n",
    "$$\n",
    "\\mathbb P(P) = \\mathbb P(P|A_1)\\mathbb P(A_1) + \\mathbb P(P|A_2)\\mathbb P(A_2) = (1/2)\\cdot(3/4) + 1\\cdot (1/4) = 5/8.\n",
    "$$\n",
    "Tedy\n",
    "$$\n",
    "\\mathbb P(A_2|P) = (8/5)\\cdot(1/4)\\cdot 1 = 2/5.\n",
    "$$\n"
   ]
  },
  {
   "cell_type": "markdown",
   "metadata": {
    "collapsed": false
   },
   "source": [
    "# Bernoulliho schéma"
   ]
  },
  {
   "cell_type": "markdown",
   "metadata": {
    "collapsed": false
   },
   "source": [
    "## Příklad"
   ]
  },
  {
   "cell_type": "markdown",
   "metadata": {
    "collapsed": false
   },
   "source": [
    "Dva rovnocení tenisté hrají proti sobě. Je pravděpodobnější vyhrát dva zápasy ze čtyř nebo tři za šesti?"
   ]
  },
  {
   "cell_type": "markdown",
   "metadata": {
    "collapsed": false
   },
   "source": [
    "**Řešení.**\n",
    "\n",
    "Nejdříve uvažujme tzv. Bernoulliho schéma pro 4 opakování náhodného pokusu přičemž pravděpodobnost prvního hráče v zápase bude rovna hodnotě $p$ a pravděpodobnost uspěchu protihráče bude rovna hodnotě $q = 1 -p.$ Potom, označíme-li jako $A_2$ jev, kdy první hráč vyhraje 2 ze 4 zápasů, potom platí obecně:\n",
    "$$\n",
    "\\mathbb P(A_2) = \\binom{4}{2}p^2(1-p)^2.\n",
    "$$"
   ]
  },
  {
   "cell_type": "code",
   "execution_count": 0,
   "metadata": {
    "collapsed": false
   },
   "outputs": [
   ],
   "source": [
    "# p = 1/2 protože se předpokládá stejná síla obou hráčů\n",
    "def pst(k = 2, p = 1/2, n = 4):\n",
    "    return binomial(n, k)*p**k*(1-p)**(n-k)"
   ]
  },
  {
   "cell_type": "code",
   "execution_count": 0,
   "metadata": {
    "collapsed": false
   },
   "outputs": [
   ],
   "source": [
    "show(\"P(A_2) = \\t\", pst())\n",
    "show(\"P(A_3) = \\t\", pst(n=6, k=3))"
   ]
  },
  {
   "cell_type": "code",
   "execution_count": 0,
   "metadata": {
    "collapsed": false
   },
   "outputs": [
   ],
   "source": [
    "if pst(n=4, k=2) > pst(n=6, k=3):\n",
    "    print(\"Pravděpodobnější je vyhrát dva zápasy ze čtyř než tři ze šesti.\")\n",
    "elif pst(n=4, k=2) < pst(n=6, k=3):\n",
    "    print(\"Pravděpodobnější je vyhrát tři zápasy ze šesti.\")\n",
    "else:\n",
    "    print(\"Oba jevy jsou stejně pravděpodobné.\")"
   ]
  },
  {
   "cell_type": "markdown",
   "metadata": {
    "collapsed": false
   },
   "source": [
    "## Příklad"
   ]
  },
  {
   "cell_type": "markdown",
   "metadata": {
    "collapsed": false
   },
   "source": [
    " Předpokládejme, že realizujeme čtyři nezávislé náhodné pokusy a předpokládejme, že jev $A$ nastane při dílčím pokusu s pravděpodobností $p = 0.4.$ Spočítejme pravděpodobnost, že jev $A$ nastal alespoň třikrát."
   ]
  },
  {
   "cell_type": "markdown",
   "metadata": {
    "collapsed": false
   },
   "source": [
    "**Řešení.**\n",
    "\n",
    "Nechť $A_3$ nastane pokud jev $A$ nastal při dílčím pokusu právě třikrát a jev $A_4$ nastane pokud jev $A$ nastal při dílčím pokusu právě čtyřikrát. Jevy $A_3$  a $A_4$ se navzájem  vylučují a tudíž platí:\n",
    "$$\n",
    "    \\mathbb P(\\text{Jev A nastal alespoň třikrát}) = \\mathbb P(A_3\\cup A_4) = \\mathbb P(A_3) + \\mathbb P(A_4).\n",
    "$$"
   ]
  },
  {
   "cell_type": "code",
   "execution_count": 0,
   "metadata": {
    "collapsed": false
   },
   "outputs": [
   ],
   "source": [
    "p = pst(n=4, k=3, p=0.4) + pst(n=4, k=4, p=0.4)\n",
    "print(\"Odpověď: pravěpodobnost, že jev A nastal alespoň třikrát je rovna hodnotě: \\t\", p)"
   ]
  },
  {
   "cell_type": "code",
   "execution_count": 0,
   "metadata": {
    "collapsed": false
   },
   "outputs": [
   ],
   "source": [
    "binomial(4, 1)*0.4**1*(1-0.4)**(4-1)"
   ]
  },
  {
   "cell_type": "code",
   "execution_count": 0,
   "metadata": {
    "collapsed": false
   },
   "outputs": [
   ],
   "source": [
    "pst(k=1)"
   ]
  },
  {
   "cell_type": "code",
   "execution_count": 0,
   "metadata": {
    "collapsed": false
   },
   "outputs": [
   ],
   "source": [
    "N = 21\n",
    "print([pst(k = i, n=N,p=0.4) for i in range(N+1)])\n",
    "m = max([pst(k = i, n=N,p=0.4) for i in range(N+1)])\n",
    "print(m)"
   ]
  },
  {
   "cell_type": "code",
   "execution_count": 0,
   "metadata": {
    "collapsed": false
   },
   "outputs": [
   ],
   "source": [
    "N = 21\n",
    "s = [pst(k = i, n=N, p=0.4) for i in range(N+1)]\n",
    "modus = s.index(m)\n",
    "print(\"Modus = \", modus)"
   ]
  },
  {
   "cell_type": "code",
   "execution_count": 0,
   "metadata": {
    "collapsed": false
   },
   "outputs": [
   ],
   "source": [
    "bar_chart(s, width=0.2)"
   ]
  },
  {
   "cell_type": "code",
   "execution_count": 0,
   "metadata": {
    "collapsed": false
   },
   "outputs": [
   ],
   "source": [
    "p = 0.4\n",
    "q = 1 - p\n",
    "n = 21  # počet opakování pokusu\n",
    "l = int(n*p - q); h = int(n*p + p)\n",
    "print(\"l = 'dolní odhad' = \", l)\n",
    "print(\"h = 'horní odhad' = \", h)"
   ]
  },
  {
   "cell_type": "markdown",
   "metadata": {
    "collapsed": false
   },
   "source": [
    "## Příklad"
   ]
  },
  {
   "cell_type": "markdown",
   "metadata": {
    "collapsed": false
   },
   "source": [
    "Výstupní kontrola prověřuje 24 výrobků. Pravděpodobnost toho, že je výrobek kvalitní je rovna 0.6. Najděme nejpravděpodobnější počet kvalitních výrobků."
   ]
  },
  {
   "cell_type": "markdown",
   "metadata": {
    "collapsed": false
   },
   "source": [
    "**Řešení.**"
   ]
  },
  {
   "cell_type": "code",
   "execution_count": 0,
   "metadata": {
    "collapsed": false
   },
   "outputs": [
   ],
   "source": [
    "p = 0.6\n",
    "q = 1 - p\n",
    "n = 24\n",
    "l = int(n*p - q); h = int(n*p + p)\n",
    "print(\"l = 'dolní odhad' = \", l)\n",
    "print(\"h = 'horní odhad' = \", h)"
   ]
  },
  {
   "cell_type": "code",
   "execution_count": 0,
   "metadata": {
    "collapsed": false
   },
   "outputs": [
   ],
   "source": [
    "N = 24\n",
    "s = [pst(k = i, n=N, p = 0.6) for i in range(N+1)]\n",
    "print(s)\n",
    "print(\"-\"*50)\n",
    "m = max(s)\n",
    "print(\"max pravděpodobnost:  \", numerical_approx(m, digits=4))\n",
    "modus = s.index(m)\n",
    "print(\"Modus = \", modus)"
   ]
  },
  {
   "cell_type": "code",
   "execution_count": 0,
   "metadata": {
    "collapsed": false
   },
   "outputs": [
   ],
   "source": [
    "bar_chart(s, width=0.2)"
   ]
  },
  {
   "cell_type": "markdown",
   "metadata": {
    "collapsed": false
   },
   "source": [
    "Modus je tedy roven buď hodnotě k = 14 nebo hodnotě k=15.Pravděpodobnost, že 14 nebo 15 výrobků projde kontrolou je přibližně rovna číslu: 0.16."
   ]
  },
  {
   "cell_type": "markdown",
   "metadata": {
    "collapsed": false
   },
   "source": [
    "## Příklad"
   ]
  },
  {
   "cell_type": "markdown",
   "metadata": {
    "collapsed": false
   },
   "source": [
    "Dva střelci střílí na cíl. Pravděpodobnost, že první resp. druhý střelec při jednom výstřelu mine cíl, je $p_1 = 0.2$, resp. $p_2 = 0.4$. Najděme nejpravděpodobnější počet společných výstřelů obou střelců, při nichž ani jeden nezasáhne cíl, jestliže bylo společně vystřeleno celkem 25 krát."
   ]
  },
  {
   "cell_type": "markdown",
   "metadata": {
    "collapsed": false
   },
   "source": [
    "**Řešení.**"
   ]
  },
  {
   "cell_type": "code",
   "execution_count": 0,
   "metadata": {
    "collapsed": false
   },
   "outputs": [
   ],
   "source": [
    "p1 = 0.2; p2 = 0.4\n",
    "N = 25\n",
    "s = [pst(k=i, p=p1*p2, n=N) for i in range(N+1)]\n",
    "m = max(s)\n",
    "modus = s.index(m)\n",
    "print(\"Modus = \", modus)"
   ]
  },
  {
   "cell_type": "code",
   "execution_count": 0,
   "metadata": {
    "collapsed": false
   },
   "outputs": [
   ],
   "source": [
    "print(\"Maximální pravděpodobnost je rovna: \", numerical_approx(s[2], digits=2))"
   ]
  },
  {
   "cell_type": "code",
   "execution_count": 0,
   "metadata": {
    "collapsed": false
   },
   "outputs": [
   ],
   "source": [
    "bar_chart(s, width=0.2)"
   ]
  },
  {
   "cell_type": "markdown",
   "metadata": {
    "collapsed": false
   },
   "source": [
    "**Odpověď.**\n",
    "\n",
    "Nejpravděpodobnější je, že oba střelci zároveň minou cíl při dvou společných výstřelech."
   ]
  },
  {
   "cell_type": "code",
   "execution_count": 0,
   "metadata": {
    "collapsed": false
   },
   "outputs": [
   ],
   "source": [
   ]
  },
  {
   "cell_type": "code",
   "execution_count": 0,
   "metadata": {
    "collapsed": false
   },
   "outputs": [
   ],
   "source": [
   ]
  }
 ],
 "metadata": {
  "kernelspec": {
   "display_name": "SageMath 9.6",
   "language": "sagemath",
   "metadata": {
    "cocalc": {
     "description": "Open-source mathematical software system",
     "priority": 10,
     "url": "https://www.sagemath.org/"
    }
   },
   "name": "sage-9.6",
   "resource_dir": "/ext/jupyter/kernels/sage-9.6"
  },
  "language_info": {
   "codemirror_mode": {
    "name": "ipython",
    "version": 3
   },
   "file_extension": ".py",
   "mimetype": "text/x-python",
   "name": "python",
   "nbconvert_exporter": "python",
   "pygments_lexer": "ipython3",
   "version": "3.10.3"
  }
 },
 "nbformat": 4,
 "nbformat_minor": 4
}
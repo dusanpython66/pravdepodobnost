{
  "cells": [
    {
      "cell_type": "markdown",
      "metadata": {
        "id": "view-in-github",
        "colab_type": "text"
      },
      "source": [
        "<a href=\"https://colab.research.google.com/github/dusanpython66/pravdepodobnost/blob/main/1.%20Popisn%C3%A1%20statistika/popisna_statistika.ipynb\" target=\"_parent\"><img src=\"https://colab.research.google.com/assets/colab-badge.svg\" alt=\"Open In Colab\"/></a>"
      ]
    },
    {
      "cell_type": "markdown",
      "metadata": {
        "id": "rvqrLvugRg_3"
      },
      "source": [
        "# Koláčový a sloupcový graf"
      ]
    },
    {
      "cell_type": "markdown",
      "metadata": {
        "id": "Q98AwIsxucd8"
      },
      "source": [
        "## Příklad 1\n",
        "Předpokládejme, že ve volbách do parlamentu bylo odevzdáno celkem 2,521,879 hlasů a stranu A volilo 612,632 voličů, stranu B volilo 534,852 voličů, stranu C volilo 369,236 voličů, stranu D volilo 316,456 voličů a stranu E volilo 312,839 voličů. Pak lze výsledek prezentovat pomocí tzv. **sloupcového grafu:**"
      ]
    },
    {
      "cell_type": "code",
      "execution_count": 38,
      "metadata": {
        "id": "V9YNUFqGE7WR"
      },
      "outputs": [],
      "source": [
        "###################### Zde je hlavička ####################\n",
        "from math import *\n",
        "import sympy as sym\n",
        "import matplotlib.pyplot as plt\n",
        "from sympy.plotting import plot3d\n",
        "from IPython.display import Math, display, Latex\n",
        "import numpy as np\n",
        "sym.init_printing()\n",
        "###########################################################"
      ]
    },
    {
      "cell_type": "code",
      "execution_count": 39,
      "metadata": {
        "colab": {
          "base_uri": "https://localhost:8080/",
          "height": 37
        },
        "id": "k_OjX4_ayWNS",
        "outputId": "2fa658bf-1c32-4d9e-9434-3576d2c8327d"
      },
      "outputs": [
        {
          "output_type": "execute_result",
          "data": {
            "text/plain": [
              "[24.292680180135527, 21.208471936996183, 14.641305153815864, 12.54842123670485\n",
              "4, 12.404996433215075, 14.904125059132495]"
            ],
            "image/png": "[encoded data removed]",
            "text/latex": "$\\displaystyle \\left[ 24.2926801801355, \\  21.2084719369962, \\  14.6413051538159, \\  12.5484212367049, \\  12.4049964332151, \\  14.9041250591325\\right]$"
          },
          "metadata": {},
          "execution_count": 39
        }
      ],
      "source": [
        "celkemVolicu = 2521879\n",
        "strany = [\"A\", \"B\", \"C\", \"D\", \"E\", \"ostatní\"]\n",
        "numA = 612632 ; numB = 534852; numC = 369236; numD = 316456; numE = 312839\n",
        "suma = numA + numB + numC + numD + numE\n",
        "ostatni = celkemVolicu - suma\n",
        "volici_pocty = [numA, numB, numC, numD, numE, ostatni]\n",
        "procenta = [(numA / celkemVolicu) * 100, (numB / celkemVolicu) * 100, (numC / celkemVolicu) * 100,\n",
        "(numD / celkemVolicu) * 100, (numE / celkemVolicu) * 100, (ostatni / celkemVolicu) * 100]\n",
        "procenta"
      ]
    },
    {
      "cell_type": "markdown",
      "metadata": {
        "id": "vJog5_zcO0_p"
      },
      "source": [
        "### Koláčový graf"
      ]
    },
    {
      "cell_type": "code",
      "execution_count": 40,
      "metadata": {
        "colab": {
          "base_uri": "https://localhost:8080/",
          "height": 248
        },
        "id": "BORbfaHgNK4R",
        "outputId": "afadc9cd-a470-4b03-a5bc-b7475a4a9917"
      },
      "outputs": [
        {
          "output_type": "display_data",
          "data": {
            "text/plain": [
              "<Figure size 432x288 with 1 Axes>"
            ],
            "image/png": "[encoded data removed]"
          },
          "metadata": {}
        }
      ],
      "source": [
        "import matplotlib.pyplot as plt\n",
        "import numpy as np\n",
        "\n",
        "y = np.array(procenta)\n",
        "\n",
        "plt.pie(y)\n",
        "plt.show() "
      ]
    },
    {
      "cell_type": "markdown",
      "metadata": {
        "id": "PKoH3jnFPExb"
      },
      "source": [
        "### Sloupcové grafy"
      ]
    },
    {
      "cell_type": "code",
      "execution_count": 41,
      "metadata": {
        "colab": {
          "base_uri": "https://localhost:8080/",
          "height": 265
        },
        "id": "niQpT-VtNMfj",
        "outputId": "cc189f82-a1d4-4458-b3a8-0b4072ab30bc"
      },
      "outputs": [
        {
          "output_type": "display_data",
          "data": {
            "text/plain": [
              "<Figure size 432x288 with 1 Axes>"
            ],
            "image/png": "[encoded data removed]"
          },
          "metadata": {
            "needs_background": "light"
          }
        }
      ],
      "source": [
        "plt.bar(strany, volici_pocty)\n",
        "plt.show()"
      ]
    },
    {
      "cell_type": "code",
      "execution_count": 42,
      "metadata": {
        "colab": {
          "base_uri": "https://localhost:8080/",
          "height": 265
        },
        "id": "YwcXl1VCAlAB",
        "outputId": "ecdd9ba1-615a-4dd5-b124-4ff73a9f6745"
      },
      "outputs": [
        {
          "output_type": "display_data",
          "data": {
            "text/plain": [
              "<Figure size 432x288 with 1 Axes>"
            ],
            "image/png": "[encoded data removed]"
          },
          "metadata": {
            "needs_background": "light"
          }
        }
      ],
      "source": [
        "plt.bar(strany, procenta)\n",
        "plt.show()"
      ]
    },
    {
      "cell_type": "markdown",
      "metadata": {
        "id": "87EOYINnBQBT"
      },
      "source": [
        "## Příklad 2\n",
        "Sociologická firma realizovala předvolební průzkum, ve kterém oslovila 1000 náhodně vybraných voličů. V průzkumu se voličů ptala, kterou stranu by volili, kdyby volby proběhly dnes. Zjistilo se, že stranu A by volilo 203 z dotázaných, stranu B by volilo 201 dotázaných, stranu C by volilo 160 z dotázaných, stranu D by volilo 134 z dotázaných a stranu E by volilo 120 z dotázaných. \n",
        "Načrtněte sloupcový a koláčový graf prezentující výsledky výzkumu."
      ]
    },
    {
      "cell_type": "code",
      "execution_count": 43,
      "metadata": {
        "id": "3s7Rs-X6KvRj"
      },
      "outputs": [],
      "source": [
        "###################### Zde je hlavička ####################\n",
        "from math import *\n",
        "import sympy as sym\n",
        "import matplotlib.pyplot as plt\n",
        "from sympy.plotting import plot3d\n",
        "from IPython.display import Math, display, Latex\n",
        "import numpy as np\n",
        "sym.init_printing()\n",
        "###########################################################\n"
      ]
    },
    {
      "cell_type": "code",
      "execution_count": 44,
      "metadata": {
        "colab": {
          "base_uri": "https://localhost:8080/"
        },
        "id": "NQzSoaVYA5Gb",
        "outputId": "6797b421-4466-4d41-981b-5b46139b0039"
      },
      "outputs": [
        {
          "output_type": "stream",
          "name": "stdout",
          "text": [
            "Stranu A volilo 24.82% voličů.\n",
            "Stranu B volilo 24.57% voličů.\n",
            "Stranu C volilo 19.56% voličů.\n",
            "Stranu D volilo 16.38% voličů.\n",
            "Stranu E volilo 14.67% voličů.\n"
          ]
        }
      ],
      "source": [
        "strany = [\"A\", \"B\", \"C\", \"D\", \"E\"]\n",
        "poctyVolicu = [203, 201, 160, 134, 120]\n",
        "# [x for x in fruits if \"a\" in x]\n",
        "procenta = [(item / sum(poctyVolicu)) * 100  for item in poctyVolicu]\n",
        "for strana, item in zip(strany, procenta):\n",
        "    print(f\"Stranu {strana} volilo {round(item, 2)}% voličů.\")\n",
        "#print(procenta)\n",
        "y = np.array(procenta)"
      ]
    },
    {
      "cell_type": "markdown",
      "metadata": {
        "id": "Q8CsM5T6OpcZ"
      },
      "source": [
        "### Koláčový graf"
      ]
    },
    {
      "cell_type": "code",
      "execution_count": 45,
      "metadata": {
        "colab": {
          "base_uri": "https://localhost:8080/",
          "height": 248
        },
        "id": "gqH0OXiGKvRk",
        "outputId": "3868eaec-4f5f-479a-ca59-9b60e5b3cbfe"
      },
      "outputs": [
        {
          "output_type": "display_data",
          "data": {
            "text/plain": [
              "<Figure size 432x288 with 1 Axes>"
            ],
            "image/png": "[encoded data removed]"
          },
          "metadata": {}
        }
      ],
      "source": [
        "plt.pie(y)\n",
        "plt.show()"
      ]
    },
    {
      "cell_type": "markdown",
      "metadata": {
        "id": "mFpoMiBsOtGB"
      },
      "source": [
        "### Sloupcový graf"
      ]
    },
    {
      "cell_type": "code",
      "execution_count": 46,
      "metadata": {
        "colab": {
          "base_uri": "https://localhost:8080/",
          "height": 296
        },
        "id": "rSr6wYwjLXX5",
        "outputId": "51056618-143b-4764-d603-8282ed96b4d1"
      },
      "outputs": [
        {
          "output_type": "display_data",
          "data": {
            "text/plain": [
              "<Figure size 432x288 with 1 Axes>"
            ],
            "image/png": "[encoded data removed]"
          },
          "metadata": {
            "needs_background": "light"
          }
        }
      ],
      "source": [
        "obr = plt.bar(strany, poctyVolicu)\n",
        "plt.title(\"Graf počtu voličů\")\n",
        "plt.xlabel(\"Strany\")\n",
        "plt.ylabel(\"Počty voličů\")\n",
        "#plt.label(\"Počty voličů\")\n",
        "plt.show(obr)"
      ]
    },
    {
      "cell_type": "markdown",
      "metadata": {
        "id": "47ZaYHPfR-k1"
      },
      "source": [
        "# Medián"
      ]
    },
    {
      "cell_type": "markdown",
      "metadata": {
        "id": "Rw3IBTxSSF6b"
      },
      "source": [
        "## Příklad 3\n",
        "Předpokládejme, že máme zakoupeny podílové listy 7 podílových fondů a máme data o ročním výnosu těchto fondů (v procentech).\n",
        "\n",
        "<table>\n",
        "    <caption>Výnosy fondů</caption>\n",
        "    <tr>\n",
        "        <th scope=\"col\">Fond</th>\n",
        "        <th scope=\"col\">A</th>\n",
        "        <th scope=\"col\">B</th>\n",
        "        <th scope=\"col\">C</th>\n",
        "        <th scope=\"col\">D</th>\n",
        "        <th scope=\"col\">E</th>\n",
        "        <th scope=\"col\">F</th>\n",
        "        <th scope=\"col\">G</th>\n",
        "    </tr>\n",
        "    <tr>\n",
        "        <th scope=\"row\">Výnos</th>\n",
        "        <td>2.7</td>\n",
        "        <td>9.2</td>\n",
        "        <td>11.4</td>\n",
        "        <td>4.6</td>\n",
        "        <td>5.2</td>\n",
        "        <td>5.6</td>\n",
        "        <td>-2.4</td>\n",
        "    </tr>\n",
        "</table>\n",
        "\n",
        "Určeme **medián** těchto hodnot."
      ]
    },
    {
      "cell_type": "markdown",
      "metadata": {
        "id": "QMqRMnKgVYB4"
      },
      "source": [
        "**Definice mediánu.** Mediánem souboru $n$ hodnot/pozorování seřazených vzestupně budeme rozumět:\n",
        "\n",
        "a) hodnotu s pořadovým číslem $\\frac{n+1}{2},$ je-li $n$ liché.\n",
        "\n",
        "b) Střed mezi $\\frac{n}{2}-$tou hodnotou a $\\frac{n}{2}+1-$tou hodnotou v souboru."
      ]
    },
    {
      "cell_type": "code",
      "execution_count": 47,
      "metadata": {
        "colab": {
          "base_uri": "https://localhost:8080/"
        },
        "id": "R9bzIQvfSEiL",
        "outputId": "1e8dc697-e5cd-44ab-aa49-8cd32135fd61"
      },
      "outputs": [
        {
          "output_type": "stream",
          "name": "stdout",
          "text": [
            "5.2\n"
          ]
        }
      ],
      "source": [
        "''' Nyní určeme tzv. medián v souboru uvedeném v předchozí tabulce. '''\n",
        "# Seřadíme vzestupně hodnoty v souboru\n",
        "vynosy = [2.7, 9.2,\t11.4, 4.6, 5.2,\t5.6, -2.4]\n",
        "vynosySorted = sorted(vynosy)\n",
        "\n",
        "# Určíme počet prvků a je-li sudý\n",
        "sudy = True\n",
        "n = len(vynosy)\n",
        "if n % 2 == 0:\n",
        "    sudy = True\n",
        "else:\n",
        "    sudy = False\n",
        "\n",
        "# Nyní určíme samotný medián\n",
        "if not(sudy):\n",
        "    median = vynosySorted[int((n+1)/2-1)]\n",
        "else:\n",
        "    median = (vynosySorted[int(n/2 - 1)] + vynosySorted[int(n/2)]) / 2\n",
        "print(median)"
      ]
    },
    {
      "cell_type": "markdown",
      "metadata": {
        "id": "7vMcNeYgAQw6"
      },
      "source": [
        "## Příklad 4\n",
        "Najděme medián souboru hodnot:"
      ]
    },
    {
      "cell_type": "code",
      "execution_count": 48,
      "metadata": {
        "id": "90S2DYgX5dmn"
      },
      "outputs": [],
      "source": [
        "hodnoty = [\"1.5%\", \"2.3%\", \"-3.4%\", \"-5.6%\", \"0.3%\", \"-3.4%\", \"3.2%\", \"2.2%\"]"
      ]
    },
    {
      "cell_type": "code",
      "execution_count": 49,
      "metadata": {
        "id": "69JF_RXSg1_H"
      },
      "outputs": [],
      "source": [
        "def median(s):\n",
        "    # Seřadíme vzestupně hodnoty v souboru\n",
        "    souborSorted = sorted(s)\n",
        "    # Určíme počet prvků a je-li sudý\n",
        "    n = len(s)\n",
        "    sudy = True\n",
        "    if n % 2 == 0:  # testujeme, je-li zbytek po dělení 2 roven nule\n",
        "        sudy = True\n",
        "    else:\n",
        "        sudy = False\n",
        "\n",
        "    # Nyní určíme samotný medián\n",
        "    if not(sudy):     # je-li n liche => not(sudy) = True\n",
        "        median = souborSorted[int((n+1)/2-1)]   \n",
        "    else:\n",
        "        median = (souborSorted[int(n/2 - 1)] + souborSorted[int(n/2)]) / 2\n",
        "    return median\n"
      ]
    },
    {
      "cell_type": "markdown",
      "metadata": {
        "id": "CXitLzaBBfqn"
      },
      "source": [
        "Nyní odstraníme uvozovky a symbol procent..."
      ]
    },
    {
      "cell_type": "code",
      "execution_count": 50,
      "metadata": {
        "colab": {
          "base_uri": "https://localhost:8080/",
          "height": 37
        },
        "id": "gGtYv1Yx78Dl",
        "outputId": "620facf4-0b14-4010-b1e6-787be020a74d"
      },
      "outputs": [
        {
          "output_type": "execute_result",
          "data": {
            "text/plain": [
              "[1.5, 2.3, -3.4, -5.6, 0.3, -3.4, 3.2, 2.2]"
            ],
            "image/png": "[encoded data removed]",
            "text/latex": "$\\displaystyle \\left[ 1.5, \\  2.3, \\  -3.4, \\  -5.6, \\  0.3, \\  -3.4, \\  3.2, \\  2.2\\right]$"
          },
          "metadata": {},
          "execution_count": 50
        }
      ],
      "source": [
        "hodnoty = [float(item.replace(\"%\", \"\")) for item in hodnoty]\n",
        "hodnoty"
      ]
    },
    {
      "cell_type": "code",
      "execution_count": 51,
      "metadata": {
        "colab": {
          "base_uri": "https://localhost:8080/"
        },
        "id": "W-tZI4l8qhkW",
        "outputId": "1c6d49c2-8352-465f-d352-a81ca4253095"
      },
      "outputs": [
        {
          "output_type": "stream",
          "name": "stdout",
          "text": [
            "Mediánem souboru je hodnota 0.9%.\n"
          ]
        }
      ],
      "source": [
        "m = median(hodnoty)\n",
        "print(f\"Mediánem souboru je hodnota {m}%.\")"
      ]
    },
    {
      "cell_type": "markdown",
      "metadata": {
        "id": "796iezXnuyMa"
      },
      "source": [
        "# Kvartily a Modus"
      ]
    },
    {
      "cell_type": "markdown",
      "metadata": {
        "id": "hrQJbC6Su2Tz"
      },
      "source": [
        "## Příklad 5"
      ]
    },
    {
      "cell_type": "markdown",
      "source": [
        "Dejme tomu, že jsme sbírali data o návštěvnících hotelu a zajímalo nás, kolik nocí strávili v hotelu. \n",
        "Záznamy jsou souborně uvedeny v následující tabulce:"
      ],
      "metadata": {
        "id": "9m4o9cwGrhIs"
      }
    },
    {
      "cell_type": "code",
      "execution_count": 52,
      "metadata": {
        "id": "qiPhg06CrS6x"
      },
      "outputs": [],
      "source": [
        "import pandas as pd\n",
        "data = {\"dny\": [i for i in range(1, 11)],\n",
        "       \"četnost\": [419, 609, 305, 204, 177, 156, 103, 105, 62, 35]}\n",
        "tabulka = pd.DataFrame(data)"
      ]
    },
    {
      "cell_type": "code",
      "execution_count": 53,
      "metadata": {
        "id": "7w0q_OLLrhIs",
        "outputId": "73ecc08e-fa4a-44cd-d69f-a7131cc1017f",
        "colab": {
          "base_uri": "https://localhost:8080/",
          "height": 363
        }
      },
      "outputs": [
        {
          "output_type": "execute_result",
          "data": {
            "text/plain": [
              "   dny  četnost\n",
              "0    1      419\n",
              "1    2      609\n",
              "2    3      305\n",
              "3    4      204\n",
              "4    5      177\n",
              "5    6      156\n",
              "6    7      103\n",
              "7    8      105\n",
              "8    9       62\n",
              "9   10       35"
            ],
            "text/html": [
              "\n",
              "  <div id=\"df-135f3f7c-51cc-41a1-a4f3-37fc66b7b276\">\n",
              "    <div class=\"colab-df-container\">\n",
              "      <div>\n",
              "<style scoped>\n",
              "    .dataframe tbody tr th:only-of-type {\n",
              "        vertical-align: middle;\n",
              "    }\n",
              "\n",
              "    .dataframe tbody tr th {\n",
              "        vertical-align: top;\n",
              "    }\n",
              "\n",
              "    .dataframe thead th {\n",
              "        text-align: right;\n",
              "    }\n",
              "</style>\n",
              "<table border=\"1\" class=\"dataframe\">\n",
              "  <thead>\n",
              "    <tr style=\"text-align: right;\">\n",
              "      <th></th>\n",
              "      <th>dny</th>\n",
              "      <th>četnost</th>\n",
              "    </tr>\n",
              "  </thead>\n",
              "  <tbody>\n",
              "    <tr>\n",
              "      <th>0</th>\n",
              "      <td>1</td>\n",
              "      <td>419</td>\n",
              "    </tr>\n",
              "    <tr>\n",
              "      <th>1</th>\n",
              "      <td>2</td>\n",
              "      <td>609</td>\n",
              "    </tr>\n",
              "    <tr>\n",
              "      <th>2</th>\n",
              "      <td>3</td>\n",
              "      <td>305</td>\n",
              "    </tr>\n",
              "    <tr>\n",
              "      <th>3</th>\n",
              "      <td>4</td>\n",
              "      <td>204</td>\n",
              "    </tr>\n",
              "    <tr>\n",
              "      <th>4</th>\n",
              "      <td>5</td>\n",
              "      <td>177</td>\n",
              "    </tr>\n",
              "    <tr>\n",
              "      <th>5</th>\n",
              "      <td>6</td>\n",
              "      <td>156</td>\n",
              "    </tr>\n",
              "    <tr>\n",
              "      <th>6</th>\n",
              "      <td>7</td>\n",
              "      <td>103</td>\n",
              "    </tr>\n",
              "    <tr>\n",
              "      <th>7</th>\n",
              "      <td>8</td>\n",
              "      <td>105</td>\n",
              "    </tr>\n",
              "    <tr>\n",
              "      <th>8</th>\n",
              "      <td>9</td>\n",
              "      <td>62</td>\n",
              "    </tr>\n",
              "    <tr>\n",
              "      <th>9</th>\n",
              "      <td>10</td>\n",
              "      <td>35</td>\n",
              "    </tr>\n",
              "  </tbody>\n",
              "</table>\n",
              "</div>\n",
              "      <button class=\"colab-df-convert\" onclick=\"convertToInteractive('df-135f3f7c-51cc-41a1-a4f3-37fc66b7b276')\"\n",
              "              title=\"Convert this dataframe to an interactive table.\"\n",
              "              style=\"display:none;\">\n",
              "        \n",
              "  <svg xmlns=\"http://www.w3.org/2000/svg\" height=\"24px\"viewBox=\"0 0 24 24\"\n",
              "       width=\"24px\">\n",
              "    <path d=\"M0 0h24v24H0V0z\" fill=\"none\"/>\n",
              "    <path d=\"M18.56 5.44l.94 2.06.94-2.06 2.06-.94-2.06-.94-.94-2.06-.94 2.06-2.06.94zm-11 1L8.5 8.5l.94-2.06 2.06-.94-2.06-.94L8.5 2.5l-.94 2.06-2.06.94zm10 10l.94 2.06.94-2.06 2.06-.94-2.06-.94-.94-2.06-.94 2.06-2.06.94z\"/><path d=\"M17.41 7.96l-1.37-1.37c-.4-.4-.92-.59-1.43-.59-.52 0-1.04.2-1.43.59L10.3 9.45l-7.72 7.72c-.78.78-.78 2.05 0 2.83L4 21.41c.39.39.9.59 1.41.59.51 0 1.02-.2 1.41-.59l7.78-7.78 2.81-2.81c.8-.78.8-2.07 0-2.86zM5.41 20L4 18.59l7.72-7.72 1.47 1.35L5.41 20z\"/>\n",
              "  </svg>\n",
              "      </button>\n",
              "      \n",
              "  <style>\n",
              "    .colab-df-container {\n",
              "      display:flex;\n",
              "      flex-wrap:wrap;\n",
              "      gap: 12px;\n",
              "    }\n",
              "\n",
              "    .colab-df-convert {\n",
              "      background-color: #E8F0FE;\n",
              "      border: none;\n",
              "      border-radius: 50%;\n",
              "      cursor: pointer;\n",
              "      display: none;\n",
              "      fill: #1967D2;\n",
              "      height: 32px;\n",
              "      padding: 0 0 0 0;\n",
              "      width: 32px;\n",
              "    }\n",
              "\n",
              "    .colab-df-convert:hover {\n",
              "      background-color: #E2EBFA;\n",
              "      box-shadow: 0px 1px 2px rgba(60, 64, 67, 0.3), 0px 1px 3px 1px rgba(60, 64, 67, 0.15);\n",
              "      fill: #174EA6;\n",
              "    }\n",
              "\n",
              "    [theme=dark] .colab-df-convert {\n",
              "      background-color: #3B4455;\n",
              "      fill: #D2E3FC;\n",
              "    }\n",
              "\n",
              "    [theme=dark] .colab-df-convert:hover {\n",
              "      background-color: #434B5C;\n",
              "      box-shadow: 0px 1px 3px 1px rgba(0, 0, 0, 0.15);\n",
              "      filter: drop-shadow(0px 1px 2px rgba(0, 0, 0, 0.3));\n",
              "      fill: #FFFFFF;\n",
              "    }\n",
              "  </style>\n",
              "\n",
              "      <script>\n",
              "        const buttonEl =\n",
              "          document.querySelector('#df-135f3f7c-51cc-41a1-a4f3-37fc66b7b276 button.colab-df-convert');\n",
              "        buttonEl.style.display =\n",
              "          google.colab.kernel.accessAllowed ? 'block' : 'none';\n",
              "\n",
              "        async function convertToInteractive(key) {\n",
              "          const element = document.querySelector('#df-135f3f7c-51cc-41a1-a4f3-37fc66b7b276');\n",
              "          const dataTable =\n",
              "            await google.colab.kernel.invokeFunction('convertToInteractive',\n",
              "                                                     [key], {});\n",
              "          if (!dataTable) return;\n",
              "\n",
              "          const docLinkHtml = 'Like what you see? Visit the ' +\n",
              "            '<a target=\"_blank\" href=https://colab.research.google.com/notebooks/data_table.ipynb>data table notebook</a>'\n",
              "            + ' to learn more about interactive tables.';\n",
              "          element.innerHTML = '';\n",
              "          dataTable['output_type'] = 'display_data';\n",
              "          await google.colab.output.renderOutput(dataTable, element);\n",
              "          const docLink = document.createElement('div');\n",
              "          docLink.innerHTML = docLinkHtml;\n",
              "          element.appendChild(docLink);\n",
              "        }\n",
              "      </script>\n",
              "    </div>\n",
              "  </div>\n",
              "  "
            ]
          },
          "metadata": {},
          "execution_count": 53
        }
      ],
      "source": [
        "tabulka"
      ]
    },
    {
      "cell_type": "markdown",
      "metadata": {
        "id": "HP5KVJmSrhIt"
      },
      "source": [
        "Najděte modus, medián, první a třetí kvartil tohoto souboru dat."
      ]
    },
    {
      "cell_type": "markdown",
      "metadata": {
        "id": "LisHomJUrhIt"
      },
      "source": [
        "### Řešení"
      ]
    },
    {
      "cell_type": "markdown",
      "metadata": {
        "id": "TlNhk2y1rhIt"
      },
      "source": [
        "Hodnota, která se v daném souboru vyskytuje nejčastěji se nazývá **modus.**"
      ]
    },
    {
      "cell_type": "code",
      "execution_count": 54,
      "metadata": {
        "id": "_OpbqrrdrhIt",
        "outputId": "1dc1bfb6-f937-4137-8c2e-a02d870e65fc",
        "colab": {
          "base_uri": "https://localhost:8080/",
          "height": 300
        }
      },
      "outputs": [
        {
          "output_type": "execute_result",
          "data": {
            "text/plain": [
              "            dny     četnost\n",
              "count  10.00000   10.000000\n",
              "mean    5.50000  217.500000\n",
              "std     3.02765  179.625691\n",
              "min     1.00000   35.000000\n",
              "25%     3.25000  103.500000\n",
              "50%     5.50000  166.500000\n",
              "75%     7.75000  279.750000\n",
              "max    10.00000  609.000000"
            ],
            "text/html": [
              "\n",
              "  <div id=\"df-a89d423e-ad5f-410d-8c85-47d5bfb4ecea\">\n",
              "    <div class=\"colab-df-container\">\n",
              "      <div>\n",
              "<style scoped>\n",
              "    .dataframe tbody tr th:only-of-type {\n",
              "        vertical-align: middle;\n",
              "    }\n",
              "\n",
              "    .dataframe tbody tr th {\n",
              "        vertical-align: top;\n",
              "    }\n",
              "\n",
              "    .dataframe thead th {\n",
              "        text-align: right;\n",
              "    }\n",
              "</style>\n",
              "<table border=\"1\" class=\"dataframe\">\n",
              "  <thead>\n",
              "    <tr style=\"text-align: right;\">\n",
              "      <th></th>\n",
              "      <th>dny</th>\n",
              "      <th>četnost</th>\n",
              "    </tr>\n",
              "  </thead>\n",
              "  <tbody>\n",
              "    <tr>\n",
              "      <th>count</th>\n",
              "      <td>10.00000</td>\n",
              "      <td>10.000000</td>\n",
              "    </tr>\n",
              "    <tr>\n",
              "      <th>mean</th>\n",
              "      <td>5.50000</td>\n",
              "      <td>217.500000</td>\n",
              "    </tr>\n",
              "    <tr>\n",
              "      <th>std</th>\n",
              "      <td>3.02765</td>\n",
              "      <td>179.625691</td>\n",
              "    </tr>\n",
              "    <tr>\n",
              "      <th>min</th>\n",
              "      <td>1.00000</td>\n",
              "      <td>35.000000</td>\n",
              "    </tr>\n",
              "    <tr>\n",
              "      <th>25%</th>\n",
              "      <td>3.25000</td>\n",
              "      <td>103.500000</td>\n",
              "    </tr>\n",
              "    <tr>\n",
              "      <th>50%</th>\n",
              "      <td>5.50000</td>\n",
              "      <td>166.500000</td>\n",
              "    </tr>\n",
              "    <tr>\n",
              "      <th>75%</th>\n",
              "      <td>7.75000</td>\n",
              "      <td>279.750000</td>\n",
              "    </tr>\n",
              "    <tr>\n",
              "      <th>max</th>\n",
              "      <td>10.00000</td>\n",
              "      <td>609.000000</td>\n",
              "    </tr>\n",
              "  </tbody>\n",
              "</table>\n",
              "</div>\n",
              "      <button class=\"colab-df-convert\" onclick=\"convertToInteractive('df-a89d423e-ad5f-410d-8c85-47d5bfb4ecea')\"\n",
              "              title=\"Convert this dataframe to an interactive table.\"\n",
              "              style=\"display:none;\">\n",
              "        \n",
              "  <svg xmlns=\"http://www.w3.org/2000/svg\" height=\"24px\"viewBox=\"0 0 24 24\"\n",
              "       width=\"24px\">\n",
              "    <path d=\"M0 0h24v24H0V0z\" fill=\"none\"/>\n",
              "    <path d=\"M18.56 5.44l.94 2.06.94-2.06 2.06-.94-2.06-.94-.94-2.06-.94 2.06-2.06.94zm-11 1L8.5 8.5l.94-2.06 2.06-.94-2.06-.94L8.5 2.5l-.94 2.06-2.06.94zm10 10l.94 2.06.94-2.06 2.06-.94-2.06-.94-.94-2.06-.94 2.06-2.06.94z\"/><path d=\"M17.41 7.96l-1.37-1.37c-.4-.4-.92-.59-1.43-.59-.52 0-1.04.2-1.43.59L10.3 9.45l-7.72 7.72c-.78.78-.78 2.05 0 2.83L4 21.41c.39.39.9.59 1.41.59.51 0 1.02-.2 1.41-.59l7.78-7.78 2.81-2.81c.8-.78.8-2.07 0-2.86zM5.41 20L4 18.59l7.72-7.72 1.47 1.35L5.41 20z\"/>\n",
              "  </svg>\n",
              "      </button>\n",
              "      \n",
              "  <style>\n",
              "    .colab-df-container {\n",
              "      display:flex;\n",
              "      flex-wrap:wrap;\n",
              "      gap: 12px;\n",
              "    }\n",
              "\n",
              "    .colab-df-convert {\n",
              "      background-color: #E8F0FE;\n",
              "      border: none;\n",
              "      border-radius: 50%;\n",
              "      cursor: pointer;\n",
              "      display: none;\n",
              "      fill: #1967D2;\n",
              "      height: 32px;\n",
              "      padding: 0 0 0 0;\n",
              "      width: 32px;\n",
              "    }\n",
              "\n",
              "    .colab-df-convert:hover {\n",
              "      background-color: #E2EBFA;\n",
              "      box-shadow: 0px 1px 2px rgba(60, 64, 67, 0.3), 0px 1px 3px 1px rgba(60, 64, 67, 0.15);\n",
              "      fill: #174EA6;\n",
              "    }\n",
              "\n",
              "    [theme=dark] .colab-df-convert {\n",
              "      background-color: #3B4455;\n",
              "      fill: #D2E3FC;\n",
              "    }\n",
              "\n",
              "    [theme=dark] .colab-df-convert:hover {\n",
              "      background-color: #434B5C;\n",
              "      box-shadow: 0px 1px 3px 1px rgba(0, 0, 0, 0.15);\n",
              "      filter: drop-shadow(0px 1px 2px rgba(0, 0, 0, 0.3));\n",
              "      fill: #FFFFFF;\n",
              "    }\n",
              "  </style>\n",
              "\n",
              "      <script>\n",
              "        const buttonEl =\n",
              "          document.querySelector('#df-a89d423e-ad5f-410d-8c85-47d5bfb4ecea button.colab-df-convert');\n",
              "        buttonEl.style.display =\n",
              "          google.colab.kernel.accessAllowed ? 'block' : 'none';\n",
              "\n",
              "        async function convertToInteractive(key) {\n",
              "          const element = document.querySelector('#df-a89d423e-ad5f-410d-8c85-47d5bfb4ecea');\n",
              "          const dataTable =\n",
              "            await google.colab.kernel.invokeFunction('convertToInteractive',\n",
              "                                                     [key], {});\n",
              "          if (!dataTable) return;\n",
              "\n",
              "          const docLinkHtml = 'Like what you see? Visit the ' +\n",
              "            '<a target=\"_blank\" href=https://colab.research.google.com/notebooks/data_table.ipynb>data table notebook</a>'\n",
              "            + ' to learn more about interactive tables.';\n",
              "          element.innerHTML = '';\n",
              "          dataTable['output_type'] = 'display_data';\n",
              "          await google.colab.output.renderOutput(dataTable, element);\n",
              "          const docLink = document.createElement('div');\n",
              "          docLink.innerHTML = docLinkHtml;\n",
              "          element.appendChild(docLink);\n",
              "        }\n",
              "      </script>\n",
              "    </div>\n",
              "  </div>\n",
              "  "
            ]
          },
          "metadata": {},
          "execution_count": 54
        }
      ],
      "source": [
        "tabulka.describe()"
      ]
    },
    {
      "cell_type": "markdown",
      "metadata": {
        "id": "rF8VhFCPrhIu"
      },
      "source": [
        "Je vidět, že maximální četnost je rovna číslu 609 a odpovídá 2 dnům podle tabulky."
      ]
    },
    {
      "cell_type": "code",
      "execution_count": 55,
      "metadata": {
        "id": "p7Dxj7qNrhIu",
        "outputId": "a59719fb-114f-4afb-80f9-d649357a5f00",
        "colab": {
          "base_uri": "https://localhost:8080/"
        }
      },
      "outputs": [
        {
          "output_type": "stream",
          "name": "stdout",
          "text": [
            "Celkový počet hodnot je roven : 2175\n"
          ]
        }
      ],
      "source": [
        "# 1. kvartil\n",
        "# Určíme počet všech hodnot v tabulce:\n",
        "pocetHodnot = tabulka[\"četnost\"].sum()\n",
        "print(f\"Celkový počet hodnot je roven : {pocetHodnot}\")\n",
        "\n",
        "# Určeme nyní medián\n",
        "# Mediánem je hodnota s pořadovýn číslem n = (pocetHodnot + 1)/2\n",
        "\n",
        "#def vypoctiMedian(data):\n",
        "#    \"\"\"\n",
        "#    data je objekt typu pandas.Series\n",
        "#    \"\"\"   "
      ]
    },
    {
      "cell_type": "markdown",
      "metadata": {
        "id": "-3lIhraOrhIu"
      },
      "source": [
        "Nyní zjistíme, je-li celkový počet hodnot lichý nebo sudý. V prvním případě je mediánem hodnota s pořadovým číslem $\\frac{n+1}{2}$ a v druhém případě je mediánem aritmetický průměr hodnot s pořadovými čísly $n/2,\\ n/2 + 1.$"
      ]
    },
    {
      "cell_type": "code",
      "execution_count": 56,
      "metadata": {
        "id": "5nRSiRQ7rhIu",
        "outputId": "9e6ad15f-3721-449f-e79e-86a61054ec05",
        "colab": {
          "base_uri": "https://localhost:8080/"
        }
      },
      "outputs": [
        {
          "output_type": "stream",
          "name": "stdout",
          "text": [
            "Pořadové číslo mediánu je rovno číslu: 1088.0\n"
          ]
        }
      ],
      "source": [
        "# předpokládejme, že počet hodnot v souboru je lichý\n",
        "# určeme tedy, jaká hodnota má pořadí (n+1)/2\n",
        "poradoveCisloMedianu = (pocetHodnot + 1) / 2\n",
        "print(f'Pořadové číslo mediánu je rovno číslu: {poradoveCisloMedianu}')"
      ]
    },
    {
      "cell_type": "code",
      "execution_count": 57,
      "metadata": {
        "id": "zo-A5gwIrhIv",
        "outputId": "974b2d02-a857-4a6a-853f-223b42399ae4",
        "colab": {
          "base_uri": "https://localhost:8080/"
        }
      },
      "outputs": [
        {
          "output_type": "stream",
          "name": "stdout",
          "text": [
            "Mediánem je hodnota 3.\n"
          ]
        }
      ],
      "source": [
        "sumaCetnosti = 0\n",
        "index = 0\n",
        "for n in tabulka[\"četnost\"]:\n",
        "    sumaCetnosti += n\n",
        "    if poradoveCisloMedianu >= sumaCetnosti:\n",
        "        index += 1\n",
        "    else:\n",
        "        print(f'Mediánem je hodnota {index + 1}.')\n",
        "        break"
      ]
    },
    {
      "cell_type": "markdown",
      "metadata": {
        "id": "4feJiJLmrhIv"
      },
      "source": [
        "### Výpočet 1. kvartilu"
      ]
    },
    {
      "cell_type": "code",
      "execution_count": 58,
      "metadata": {
        "id": "xobDiMPLrhIv"
      },
      "outputs": [],
      "source": [
        "# Funkce median\n",
        "def median(tabulka, nazevSloupce):\n",
        "    n = len(tabulka)\n",
        "    k2 = (n + 1) // 2\n",
        "    if n % 2 == 0:\n",
        "        a = tabulka.sort_values(by=nazevSloupce)[nazevSloupce].iloc[k2-1]\n",
        "        b = tabulka.sort_values(by=nazevSloupce)[nazevSloupce].iloc[k2]\n",
        "        return (a + b) / 2\n",
        "    else:\n",
        "        return tabulka.sort_values(by=nazevSloupce)[nazevSloupce].iloc[k2 - 1]\n",
        "\n",
        "# Funkce kvartily\n",
        "def kvartily(tabulka, nazevSloupce):\n",
        "    \"\"\"\n",
        "    Funkce kvartily vrací uspořádanou trojici hodnot v pořadí:\n",
        "    1. kvartil, 2. kvartil = medián, 3. kvartil\n",
        "    parametry: \n",
        "    tabulka - tabulka typu dataFrame\n",
        "    nazevSloupce - řetězec obsahující název sloupce v němž se nacházejí hodnoty\n",
        "    jejichž kvartily chceme určit\n",
        "    \"\"\"\n",
        "    \n",
        "    # seřaďme hodnoty v daném sloupci vzestupně:\n",
        "    tabulka = tabulka.sort_values(by=nazevSloupce)\n",
        "    #určíme si počet prvků souboru: \n",
        "    n = len(tabulka)\n",
        "    zbytek1 = (n + 1) % 4 \n",
        "    zbytek3 = 3 * (n + 1) % 4\n",
        "    k1 = (n + 1) // 4\n",
        "    k3 = 3 * (n + 1) // 4\n",
        "    kv1 = tabulka.iloc[k1 - 1][nazevSloupce] + (zbytek1 * .25) * abs(tabulka.iloc[k1 - 1][nazevSloupce] - tabulka.iloc[k1][nazevSloupce])\n",
        "    kv3 = tabulka.iloc[k3 - 1][nazevSloupce] + (zbytek3 * .25) * abs(tabulka.iloc[k3 - 1][nazevSloupce] - tabulka.iloc[k3][nazevSloupce])\n",
        "    return (kv1, median(tabulka=tabulka, nazevSloupce=nazevSloupce), kv3)"
      ]
    },
    {
      "cell_type": "code",
      "execution_count": 37,
      "metadata": {
        "id": "2WE2BXwWrhIv",
        "outputId": "c91256d2-3409-4688-b351-ae8f35c903c2",
        "colab": {
          "base_uri": "https://localhost:8080/"
        }
      },
      "outputs": [
        {
          "output_type": "execute_result",
          "data": {
            "text/plain": [
              "pandas.core.series.Series"
            ]
          },
          "metadata": {},
          "execution_count": 37
        }
      ],
      "source": [
        "type(tabulka[\"četnost\"])"
      ]
    },
    {
      "cell_type": "code",
      "execution_count": 37,
      "metadata": {
        "id": "CZOpccAurhIw"
      },
      "outputs": [],
      "source": []
    }
  ],
  "metadata": {
    "colab": {
      "collapsed_sections": [],
      "name": "popisna-statistika.ipynb",
      "provenance": [],
      "include_colab_link": true
    },
    "kernelspec": {
      "display_name": "Python 3 (Anaconda 2021)",
      "language": "python",
      "name": "anaconda2021"
    },
    "language_info": {
      "codemirror_mode": {
        "name": "ipython",
        "version": 3
      },
      "file_extension": ".py",
      "mimetype": "text/x-python",
      "name": "python",
      "nbconvert_exporter": "python",
      "pygments_lexer": "ipython3",
      "version": "3.9.7"
    },
    "gpuClass": "standard"
  },
  "nbformat": 4,
  "nbformat_minor": 0
}
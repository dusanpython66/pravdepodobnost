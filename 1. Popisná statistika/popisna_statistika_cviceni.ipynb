{
 "cells": [
  {
   "cell_type": "markdown",
   "metadata": {
    "colab_type": "text",
    "id": "V471E8tdOTjr"
   },
   "source": [
    "## Popisná statistika"
   ]
  },
  {
   "cell_type": "code",
   "execution_count": null,
   "metadata": {
    "colab": {
     "base_uri": "https://localhost:8080/",
     "height": 337
    },
    "colab_type": "code",
    "id": "xtfuQG6OPkkc",
    "outputId": "254733b1-da13-4aa8-cf00-b668089d9f49"
   },
   "outputs": [],
   "source": [
    "# Příklad 1: \n",
    "# Uvažujme náhodný výběr mající třicet náhodně vybraných prvků: \n",
    "import random, math \n",
    "import matplotlib.pyplot as plt\n",
    "L = random.choices([n for n in range(1,6)], k=30)\n",
    "print(L)\n",
    "plt.hist(L, bins = 5)\n",
    "\n"
   ]
  },
  {
   "cell_type": "code",
   "execution_count": null,
   "metadata": {
    "colab": {
     "base_uri": "https://localhost:8080/",
     "height": 286
    },
    "colab_type": "code",
    "id": "66CtmAHsfQpD",
    "outputId": "fd6ea5c4-9aea-4848-d909-df00280cd708"
   },
   "outputs": [],
   "source": [
    "plt.plot(L)"
   ]
  },
  {
   "cell_type": "code",
   "execution_count": null,
   "metadata": {
    "colab": {
     "base_uri": "https://localhost:8080/",
     "height": 321
    },
    "colab_type": "code",
    "id": "Tosp9GVq0a_A",
    "outputId": "6dea6799-f71c-4ac1-82de-043339112fab"
   },
   "outputs": [],
   "source": [
    "x = [1,1,2,3,3,5,7,8,9,10,\n",
    "     10,11,11,13,13,15,16,17,18,18,\n",
    "     18,19,20,21,21,23,24,24,25,25,\n",
    "     25,25,26,26,26,27,27,27,27,27,\n",
    "     29,30,30,31,33,34,34,34,35,36,\n",
    "     36,37,37,38,38,39,40,41,41,42,\n",
    "     43,44,45,45,46,47,48,48,49,50,\n",
    "     51,52,53,54,55,55,56,57,58,60,\n",
    "     61,63,64,65,66,68,70,71,72,74,\n",
    "     75,77,81,83,84,87,89,90,90,91\n",
    "     ]\n",
    "# plt.style.use('ggplot')\n",
    "plt.hist(x, bins=10, color=\"green\")"
   ]
  },
  {
   "cell_type": "code",
   "execution_count": null,
   "metadata": {
    "colab": {
     "base_uri": "https://localhost:8080/",
     "height": 287
    },
    "colab_type": "code",
    "id": "mDTfad2ZBc1t",
    "outputId": "e3a27cee-d9bd-437c-ce49-ea959067f523"
   },
   "outputs": [],
   "source": [
    "plt.plot(x)"
   ]
  },
  {
   "cell_type": "markdown",
   "metadata": {
    "colab_type": "text",
    "id": "UmBmFZMwHk7N"
   },
   "source": [
    "##Strugesovo pravidlo:##\n",
    "Počet intervalů lze určit dosazením počtu pozorování do výrazu:\n",
    "\\begin{equation}\n",
    "1+3.3\\log(n)\n",
    "\\end{equation}\n",
    "\n",
    "\n",
    "\n",
    "\n"
   ]
  },
  {
   "cell_type": "code",
   "execution_count": null,
   "metadata": {
    "colab": {
     "base_uri": "https://localhost:8080/",
     "height": 34
    },
    "colab_type": "code",
    "id": "3miFuYTSGkpT",
    "outputId": "6d88c2b5-e569-411d-d828-6ecaddcba9f5"
   },
   "outputs": [],
   "source": [
    "from math import log\n",
    "n = 30\n",
    "\n",
    "print(1 + 3.3*log(n))"
   ]
  },
  {
   "cell_type": "markdown",
   "metadata": {
    "colab_type": "text",
    "id": "ps9oUrk5-Zty"
   },
   "source": [
    "Alternativně lze určit počet intervalů pomocí vzorců:\n",
    "\n",
    "\n",
    "n = počet pozorování\n",
    "\n",
    "Range = maximální hodnota znaku – minimální hodnota znaku\n",
    "\n",
    "počet intervalů =  $\\sqrt{n}$\n",
    "\n",
    "Šířka intervalů =  Range / (počet intervalů)"
   ]
  },
  {
   "cell_type": "code",
   "execution_count": 2,
   "metadata": {
    "colab": {},
    "colab_type": "code",
    "id": "sz2azSWoWPNo"
   },
   "outputs": [],
   "source": [
    "from math import  *\n",
    "n = 30\n",
    "rozsah = 5 - 1\n",
    "pocet_intervalu = sqrt(n)\n",
    "sirka_intervalu = rozsah/pocet_intervalu\n"
   ]
  },
  {
   "cell_type": "code",
   "execution_count": null,
   "metadata": {
    "colab": {
     "base_uri": "https://localhost:8080/",
     "height": 34
    },
    "colab_type": "code",
    "id": "kqTRsWGWWyId",
    "outputId": "da3d6742-f664-496d-95d9-438b98eb732a"
   },
   "outputs": [],
   "source": [
    "sirka_intervalu"
   ]
  },
  {
   "cell_type": "code",
   "execution_count": null,
   "metadata": {
    "colab": {
     "base_uri": "https://localhost:8080/",
     "height": 121
    },
    "colab_type": "code",
    "id": "LjALFpNkJIer",
    "outputId": "6719202d-07cd-41e0-ae69-ad128f309d92"
   },
   "outputs": [],
   "source": [
    "from pandas import DataFrame\n",
    "\n",
    "Auta = {'Značka': ['Honda Civic','Ford Focus','Toyota Corolla','Toyota Corolla','Audi A4'],\n",
    "        'Cena': [22000,27000,22000,29000,35000],\n",
    "         'Rok': [2014,2015,2016,2017,2018]\n",
    "        }\n",
    "\n",
    "df = DataFrame(Auta,columns= ['Značka', 'Cena', 'Rok'])\n",
    "\n",
    "print (df)"
   ]
  },
  {
   "cell_type": "code",
   "execution_count": null,
   "metadata": {
    "colab": {},
    "colab_type": "code",
    "id": "77lLRqQFJLUe"
   },
   "outputs": [],
   "source": [
    "min1 = df['Cena'].min()"
   ]
  },
  {
   "cell_type": "code",
   "execution_count": null,
   "metadata": {
    "colab": {
     "base_uri": "https://localhost:8080/",
     "height": 34
    },
    "colab_type": "code",
    "id": "oc6yk6BWJxD8",
    "outputId": "e6d6a279-409d-48d6-9b5a-06957f938bda"
   },
   "outputs": [],
   "source": [
    "min1"
   ]
  },
  {
   "cell_type": "code",
   "execution_count": null,
   "metadata": {
    "colab": {
     "base_uri": "https://localhost:8080/",
     "height": 34
    },
    "colab_type": "code",
    "id": "pCFobEwgQmLb",
    "outputId": "f2b2cc4b-fc72-48f6-da3c-b81aca0e905d"
   },
   "outputs": [],
   "source": [
    "df['Cena'].median()"
   ]
  },
  {
   "cell_type": "markdown",
   "metadata": {
    "colab_type": "text",
    "id": "dyycDdWrRKs0"
   },
   "source": [
    "https://en.wikipedia.org/wiki/File:Finding_the_median.png"
   ]
  },
  {
   "cell_type": "code",
   "execution_count": 1,
   "metadata": {
    "colab": {
     "base_uri": "https://localhost:8080/",
     "height": 35
    },
    "colab_type": "code",
    "id": "grxjJAXSRnNk",
    "outputId": "4b2f263b-94f2-45c3-e760-62399f50ccfd"
   },
   "outputs": [
    {
     "ename": "NameError",
     "evalue": "name 'df' is not defined",
     "output_type": "error",
     "traceback": [
      "\u001b[0;31m---------------------------------------------------------------------------\u001b[0m",
      "\u001b[0;31mNameError\u001b[0m                                 Traceback (most recent call last)",
      "\u001b[0;32m<ipython-input-1-b66b6d7e58e3>\u001b[0m in \u001b[0;36m<module>\u001b[0;34m\u001b[0m\n\u001b[0;32m----> 1\u001b[0;31m \u001b[0mdf\u001b[0m\u001b[0;34m[\u001b[0m\u001b[0;34m'Cena'\u001b[0m\u001b[0;34m]\u001b[0m\u001b[0;34m.\u001b[0m\u001b[0mskew\u001b[0m\u001b[0;34m(\u001b[0m\u001b[0;34m)\u001b[0m\u001b[0;34m\u001b[0m\u001b[0;34m\u001b[0m\u001b[0m\n\u001b[0m",
      "\u001b[0;31mNameError\u001b[0m: name 'df' is not defined"
     ]
    }
   ],
   "source": [
    "df['Cena'].skew()"
   ]
  },
  {
   "cell_type": "markdown",
   "metadata": {
    "colab_type": "text",
    "id": "PUbGKuuYScB2"
   },
   "source": [
    "https://en.wikipedia.org/wiki/Skewness"
   ]
  },
  {
   "cell_type": "code",
   "execution_count": null,
   "metadata": {
    "colab": {
     "base_uri": "https://localhost:8080/",
     "height": 119
    },
    "colab_type": "code",
    "id": "o4XOKXq6Rz7U",
    "outputId": "e57f41db-78fb-4cc0-c7b0-dc1d721cdfc9"
   },
   "outputs": [],
   "source": [
    "df['Rok'].mode()"
   ]
  },
  {
   "cell_type": "code",
   "execution_count": null,
   "metadata": {
    "colab": {
     "base_uri": "https://localhost:8080/",
     "height": 173
    },
    "colab_type": "code",
    "id": "sGMoVOXZJ1Jx",
    "outputId": "197f7654-92c6-453b-c919-0a2007e64bb0"
   },
   "outputs": [],
   "source": [
    "stats_numeric = DataFrame.describe(df['Cena']).astype (int)\n",
    "print (stats_numeric)"
   ]
  },
  {
   "cell_type": "code",
   "execution_count": null,
   "metadata": {
    "colab": {
     "base_uri": "https://localhost:8080/",
     "height": 303
    },
    "colab_type": "code",
    "id": "xG5_txEMNv6V",
    "outputId": "499aa106-7d62-4c8a-9179-01c103a9bed0"
   },
   "outputs": [],
   "source": [
    "A = [22000,27000,22000,29000,35000]\n",
    "print(plt.hist(A, bins=6))"
   ]
  },
  {
   "cell_type": "code",
   "execution_count": null,
   "metadata": {
    "colab": {},
    "colab_type": "code",
    "id": "UKY6Vt2NPSQs"
   },
   "outputs": [],
   "source": []
  },
  {
   "cell_type": "markdown",
   "metadata": {
    "colab_type": "text",
    "id": "Jj1UdKrWObnm"
   },
   "source": [
    "## Binomické rozdělení pravděpodobností"
   ]
  },
  {
   "cell_type": "code",
   "execution_count": null,
   "metadata": {
    "colab": {
     "base_uri": "https://localhost:8080/",
     "height": 1000
    },
    "colab_type": "code",
    "id": "9rZXuULgOl7p",
    "outputId": "9883f2eb-1091-4bbd-f41c-cc7df82b28ec",
    "scrolled": false
   },
   "outputs": [],
   "source": [
    "# Spočtěme P(A_k) pro n = 20, k = 0,1,..., 20\n",
    "import math as m\n",
    "import matplotlib.pyplot as plt\n",
    "\n",
    "n = 200\n",
    "p = 1/2\n",
    "q = 1 - p\n",
    "L = []\n",
    "for k in range(200):\n",
    "  Pravd = (m.factorial(n))/(m.factorial(n-k)*m.factorial(k)) * p**k * q**(n-k)\n",
    "  L.append(Pravd)\n",
    "  print(Pravd)\n",
    "print(L)\n"
   ]
  },
  {
   "cell_type": "code",
   "execution_count": null,
   "metadata": {
    "colab": {
     "base_uri": "https://localhost:8080/",
     "height": 269
    },
    "colab_type": "code",
    "id": "CBqbaZg-ZuE4",
    "outputId": "e3991e39-6b70-4913-d698-a67f71b5f69a"
   },
   "outputs": [],
   "source": [
    "import matplotlib.pyplot as plt\n",
    "import numpy as np\n",
    "x = np.linspace(0, 200, 200)\n",
    "y = L\n",
    "plt.stem(x, y)\n",
    "plt.show()"
   ]
  },
  {
   "cell_type": "code",
   "execution_count": null,
   "metadata": {
    "colab": {},
    "colab_type": "code",
    "id": "8EE8L9AoaoT1"
   },
   "outputs": [],
   "source": []
  },
  {
   "cell_type": "markdown",
   "metadata": {
    "colab_type": "text",
    "id": "hJpwGDVVPEgJ"
   },
   "source": [
    "## Cvičení 1"
   ]
  },
  {
   "cell_type": "markdown",
   "metadata": {
    "colab_type": "text",
    "id": "YoxVxAGOPSwv"
   },
   "source": [
    "\\(\\int\\)"
   ]
  },
  {
   "cell_type": "code",
   "execution_count": null,
   "metadata": {
    "colab": {},
    "colab_type": "code",
    "id": "WLq2HKg_PHxD"
   },
   "outputs": [],
   "source": []
  }
 ],
 "metadata": {
  "colab": {
   "collapsed_sections": [],
   "name": "pravdepodobnost.ipynb",
   "provenance": []
  },
  "kernelspec": {
   "display_name": "Python 3",
   "language": "python",
   "name": "python3"
  },
  "language_info": {
   "codemirror_mode": {
    "name": "ipython",
    "version": 3
   },
   "file_extension": ".py",
   "mimetype": "text/x-python",
   "name": "python",
   "nbconvert_exporter": "python",
   "pygments_lexer": "ipython3",
   "version": "3.6.9"
  },
  "latex_envs": {
   "LaTeX_envs_menu_present": true,
   "autoclose": false,
   "autocomplete": true,
   "bibliofile": "biblio.bib",
   "cite_by": "apalike",
   "current_citInitial": 1,
   "eqLabelWithNumbers": true,
   "eqNumInitial": 1,
   "hotkeys": {
    "equation": "Ctrl-E",
    "itemize": "Ctrl-I"
   },
   "labels_anchors": false,
   "latex_user_defs": false,
   "report_style_numbering": false,
   "user_envs_cfg": false
  },
  "toc": {
   "base_numbering": 1,
   "nav_menu": {},
   "number_sections": true,
   "sideBar": true,
   "skip_h1_title": false,
   "title_cell": "Table of Contents",
   "title_sidebar": "Contents",
   "toc_cell": false,
   "toc_position": {},
   "toc_section_display": true,
   "toc_window_display": false
  }
 },
 "nbformat": 4,
 "nbformat_minor": 1
}

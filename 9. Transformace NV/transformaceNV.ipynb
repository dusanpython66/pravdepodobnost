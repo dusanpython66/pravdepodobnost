{
 "cells": [
  {
   "cell_type": "markdown",
   "metadata": {},
   "source": [
    "# Transformace náhodné veličiny"
   ]
  },
  {
   "cell_type": "markdown",
   "metadata": {},
   "source": [
    "Uvažujme náhodnou veličinu $X$ a borelovskou funkci $g:\\mathbb R\\to\\mathbb R$.\n",
    "Potom lze uvažovat funkci $Y = g(X).$ Otázkou je, zda-li je funkce \\(Y\\) náhodnou veličinou. Nicméně, protože funkce \\(g\\) je borelovskou funkcí, je vzor \\(g^{-1}(B)\\) každé borelovské množiny \\(B\\subset\\mathbb R\\) opět borelovskou podmnožinou \\(\\mathbb R.\\)\n",
    "Tudíž je kompozice \\(Y=g(X)\\) náhodnou veličinou. \n",
    "K tomu, aby byla funkce \\(g\\) byla borelovskou funkcí stačí ověřit například, že je \\(g\\) spojitou funkcí."
   ]
  },
  {
   "cell_type": "markdown",
   "metadata": {},
   "source": [
    "Nyní rozlišme dva případy:\n",
    "\n",
    "(a) $X$ je diskrétní n.v.\n",
    "\n",
    "(b) $X$ je spojitá náhodná veličina."
   ]
  },
  {
   "cell_type": "markdown",
   "metadata": {},
   "source": [
    "(a) Pokud $F_Y(y)$ označuje distribuční funkci náhodné veličiny $Y$, pak máme:\n",
    "\\begin{equation}\\label{eq: 1}\n",
    "F_Y(y) = \\sum_{g(x_i)<y}P(\\{X=x_i\\}).\n",
    "\\end{equation}\n"
   ]
  },
  {
   "cell_type": "markdown",
   "metadata": {},
   "source": [
    "(b) Předpokládejme, že $f_X$ je hustota n.v. $X$. Dále předpokládejme, že funkce \\(g\\) je rostoucí funkcí a v každém bodě má tato funkce nenulovou derivaci.\n",
    "Odtud vyplývá, že \\(x_1 < x_2\\implies y_1 < y_2.\\)\n",
    "\\begin{equation}\\label{eq: 2}\n",
    "    F_Y(y) = P(Y\\le y) = P(X \\le g^{-1}(y)) = F_X(g^{-1}(y)).\n",
    "\\end{equation}\n",
    "Nyní se hustota pravděpodobnosti \\(f_Y\\) n.v. \\(Y\\) vypočítá následujícím způsobem:\n",
    "\\begin{equation}\\label{eq: 3}\n",
    "    f_Y(y) = \\frac{d}{dy}F_Y(y) = \\frac{d}{dy}F_X(g^{-1}(y)) = f_X(g^{-1}(y))\\cdot[g^{-1}(y)]'.\n",
    "\\end{equation}\n"
   ]
  },
  {
   "cell_type": "markdown",
   "metadata": {},
   "source": [
    "V případě, kdy je funkce \\(g\\) klesající funkcí, dostaneme:\n",
    "\\begin{equation}\\label{eq: 4}\n",
    "    f_Y(y) = f_X(g^{-1}(y))\\cdot\\left|[g^{-1}(y)]'\\right|.\n",
    "\\end{equation}\n"
   ]
  },
  {
   "cell_type": "markdown",
   "metadata": {},
   "source": [
    "Poznamenejme, že vzorec (\\ref{eq: 4}) lze využít pro oba případy, kdy je funkce \\(g\\) ryze monotónní funkcí."
   ]
  },
  {
   "cell_type": "markdown",
   "metadata": {},
   "source": [
    "## Příklady"
   ]
  },
  {
   "cell_type": "markdown",
   "metadata": {},
   "source": [
    "Uvažujme funkci\n",
    "\\[\n",
    "    f(x) = \n",
    "    \\begin{cases}\n",
    "        k, \\ \\ \\  \\text{  pro  } x\\in (1,2)\\\\\n",
    "        0, \\ \\ \\  \\text{  pro  } x\\notin (1,2). \n",
    "    \\end{cases}\n",
    "\\]\n",
    "Dále nechť \\(g(x) = (x - 1)(x - 2).\\) Najděme předpis složené funkce \\(h(x) = f(g(x)).\\)"
   ]
  },
  {
   "cell_type": "markdown",
   "metadata": {},
   "source": [
    "**Řešení.**\n",
    "\n",
    "Hledejme, pro jaké \\(x\\) platí: \\(g(x) \\in (1,2).\\)"
   ]
  },
  {
   "cell_type": "code",
   "execution_count": 144,
   "metadata": {},
   "outputs": [],
   "source": [
    "import sympy as sym\n",
    "from IPython.display import display, Math\n",
    "x = sym.symbols('x')\n",
    "g = (x - 1) * (x -2)"
   ]
  },
  {
   "cell_type": "code",
   "execution_count": 143,
   "metadata": {},
   "outputs": [
    {
     "data": {
      "image/png": "[encoded data removed]",
      "text/latex": [
       "$\\displaystyle \\left(-\\infty < x \\wedge x < \\frac{3}{2} - \\frac{\\sqrt{5}}{2}\\right) \\vee \\left(x < \\infty \\wedge \\frac{\\sqrt{5}}{2} + \\frac{3}{2} < x\\right)$"
      ],
      "text/plain": [
       "⎛             3   √5⎞   ⎛        √5   3    ⎞\n",
       "⎜-∞ < x ∧ x < ─ - ──⎟ ∨ ⎜x < ∞ ∧ ── + ─ < x⎟\n",
       "⎝             2   2 ⎠   ⎝        2    2    ⎠"
      ]
     },
     "metadata": {},
     "output_type": "display_data"
    }
   ],
   "source": [
    "display(sym.solve(1 < g))"
   ]
  },
  {
   "cell_type": "code",
   "execution_count": 131,
   "metadata": {},
   "outputs": [
    {
     "data": {
      "image/png": "[encoded data removed]",
      "text/latex": [
       "$\\displaystyle 0 < x \\wedge x < 3$"
      ],
      "text/plain": [
       "0 < x ∧ x < 3"
      ]
     },
     "metadata": {},
     "output_type": "display_data"
    }
   ],
   "source": [
    "display(sym.solve(g < 2))"
   ]
  },
  {
   "cell_type": "markdown",
   "metadata": {},
   "source": [
    "Tedy \\(g(x)\\in (1,2)\\iff x\\in (0,3)\\cap [(-\\infty, (3 - \\sqrt{5})/2)\\cup \n",
    "((3+\\sqrt{5})/2,\\infty)].\\)"
   ]
  },
  {
   "cell_type": "code",
   "execution_count": 127,
   "metadata": {},
   "outputs": [
    {
     "data": {
      "image/png": "[encoded data removed]",
      "text/latex": [
       "$\\displaystyle \\left(0 < x \\wedge x < \\frac{3}{2} - \\frac{\\sqrt{5}}{2}\\right) \\vee \\left(x < 3 \\wedge \\frac{\\sqrt{5}}{2} + \\frac{3}{2} < x\\right)$"
      ],
      "text/plain": [
       "⎛            3   √5⎞   ⎛        √5   3    ⎞\n",
       "⎜0 < x ∧ x < ─ - ──⎟ ∨ ⎜x < 3 ∧ ── + ─ < x⎟\n",
       "⎝            2   2 ⎠   ⎝        2    2    ⎠"
      ]
     },
     "metadata": {},
     "output_type": "display_data"
    }
   ],
   "source": [
    "display(sym.solve(sym.S([g > 1, g < 2]), x))"
   ]
  },
  {
   "cell_type": "markdown",
   "metadata": {},
   "source": [
    "Tedy řešením soustavy nerovností:\n",
    "\\begin{equation}\n",
    "    1 < (x - 1)(x -2) < 2\n",
    "\\end{equation}\n",
    "je množina \\((0, \\frac{3-\\sqrt{5}}{2})\\cup (\\frac{3 + \\sqrt{5}}{2},3).\\)\n",
    "Napišme tedy předpis složené funkce:\n",
    "\\[\n",
    "    f(g(x))=\n",
    "    \\begin{cases}\n",
    "         k, \\ \\ \\ \\text{ pro   } x\\in (0, \\frac{3-\\sqrt{5}}{2})\\cup    (\\frac{3 + \\sqrt{5}}{2},3)  \\\\\n",
    "         0, \\ \\ \\ \\text{  pro   } x\\notin (0, \\frac{3-\\sqrt{5}}{2})\\cup (\\frac{3 + \\sqrt{5}}{2},3).\n",
    "    \\end{cases}\n",
    "\\]\n"
   ]
  },
  {
   "cell_type": "markdown",
   "metadata": {},
   "source": [
    "### Příklad 1"
   ]
  },
  {
   "cell_type": "markdown",
   "metadata": {},
   "source": [
    "Najděme hustotu pravděpodobnosti n.v. \\(Y = e^X,\\) pokud n.v. \\(X\\) má hustotu pravděpodobnosti:\n",
    "\\[f_X(x) = \n",
    "    \\begin{cases}\n",
    "        1,\\ \\text{pro}\\ \\ \\ x\\in(0,1)\\\\\n",
    "        0,\\ \\ \\ \\text{pro}\\ \\ \\ x\\notin(0,1).\n",
    "    \\end{cases}\n",
    " \\]"
   ]
  },
  {
   "cell_type": "markdown",
   "metadata": {},
   "source": [
    "#### Řešení"
   ]
  },
  {
   "cell_type": "markdown",
   "metadata": {},
   "source": [
    "Nyní je \\(y = g(x) = e^x.\\) Tato funkce je zřejmě rostoucí a má v každém bodě nenulovou derivaci. Pro určení využít buď vzorec (\\ref{eq: 3}) nebo vzorec (\\ref{eq: 4}). "
   ]
  },
  {
   "cell_type": "markdown",
   "metadata": {},
   "source": [
    "Inverzní funkcí je funkce:\n",
    "\\[\n",
    "    g^{-1}(y) = ln(y),\\ \\ \\ y \\in (0,\\infty).\n",
    "\\]"
   ]
  },
  {
   "cell_type": "markdown",
   "metadata": {},
   "source": [
    "Nyní tedy lze psát:\n"
   ]
  },
  {
   "cell_type": "code",
   "execution_count": 109,
   "metadata": {},
   "outputs": [],
   "source": [
    "######### Zde je hlavička ################\n",
    "import sympy as sym \n",
    "from sympy.plotting import plot3d\n",
    "from IPython.display import Math, display, Latex\n",
    "import numpy as np\n",
    "sym.init_printing()\n",
    "##########################################\n",
    "\n",
    "############# Definice funkcí ############\n",
    "\n",
    "y = sym.symbols('y')\n",
    "def f_X(x):\n",
    "    if 0 < x and x < 1:\n",
    "        return 1\n",
    "    else:\n",
    "        return 0\n",
    "def g(x):\n",
    "    return sym.exp(x)\n",
    "###########################################"
   ]
  },
  {
   "cell_type": "code",
   "execution_count": 46,
   "metadata": {},
   "outputs": [
    {
     "data": {
      "text/latex": [
       "$\\displaystyle \\text{Inverzní funkcí k funkci g je funkce}:            g^{-1}(y) = \\log{\\left(y \\right)}$"
      ],
      "text/plain": [
       "<IPython.core.display.Math object>"
      ]
     },
     "metadata": {},
     "output_type": "display_data"
    },
    {
     "data": {
      "text/latex": [
       "$\\displaystyle \\text{Derivace inverzní funkce: }            [g^{-1}]'(y) = \\frac{1}{y}$"
      ],
      "text/plain": [
       "<IPython.core.display.Math object>"
      ]
     },
     "metadata": {},
     "output_type": "display_data"
    }
   ],
   "source": [
    "#  Určeme inverzní funkci g^{-1}:\n",
    "eq = sym.Eq(g(x), y)\n",
    "# display(sym.solve(eq, x)[0])\n",
    "g_inv = sym.solve(eq, x)[0]\n",
    "Dg_inv = sym.diff(g_inv, y)\n",
    "display(Math(\"\\\\text{Inverzní funkcí k funkci g je funkce}:\\\n",
    "            g^{-1}(y) = %s\" %sym.latex(g_inv)))\n",
    "display(Math(\"\\\\text{Derivace inverzní funkce: }\\\n",
    "            [g^{-1}]'(y) = %s\" %sym.latex(Dg_inv)))\n"
   ]
  },
  {
   "cell_type": "markdown",
   "metadata": {},
   "source": [
    "Nyní dosaďme do vzorce (\\ref{eq: 4}):"
   ]
  },
  {
   "cell_type": "markdown",
   "metadata": {},
   "source": [
    "Nicméně, abychom správně spočetli funkční hodnotu složené funkce \\(f_X\\circ g^{-1}\\), je nutné řešit nerovnosti:\n",
    "\\(0 < g^{-1}(y) \\wedge g^{-1}(y) < 1.\\)"
   ]
  },
  {
   "cell_type": "code",
   "execution_count": 116,
   "metadata": {},
   "outputs": [
    {
     "data": {
      "image/png": "[encoded data removed]",
      "text/latex": [
       "$\\displaystyle 0 < y \\wedge 1 < y \\wedge y < e$"
      ],
      "text/plain": [
       "0 < y ∧ 1 < y ∧ y < ℯ"
      ]
     },
     "metadata": {},
     "output_type": "display_data"
    }
   ],
   "source": [
    "solns = sym.reduce_inequalities([g_inv < 1, g_inv > 0], y)\n",
    "display(solns)"
   ]
  },
  {
   "cell_type": "markdown",
   "metadata": {},
   "source": [
    "  Tedy nyní můžeme zapsat předpis hustoty pravděpodobnosti \\(f_Y\\):\n",
    "  \\[\n",
    "      f_Y(y) = \n",
    "      \\begin{cases}\n",
    "          1/y,\\ \\ \\ \\text{  pro  } y\\in (1,e)\\\\\n",
    "          0,\\ \\ \\ \\text{    pro  } y\\notin (1,e).  \n",
    "      \\end{cases}\n",
    "  \\]"
   ]
  },
  {
   "cell_type": "markdown",
   "metadata": {},
   "source": [
    "### Cvičení"
   ]
  },
  {
   "cell_type": "markdown",
   "metadata": {},
   "source": [
    "Najděte hustotu pravděpodobnosti náhodné veličiny $Y = 8X^3,$ pokud má n.v. $X$ má hustotu pravděpodobnosti:\n",
    "\\begin{equation}\\label{eq:}\n",
    "f_X(x) = \n",
    "    \\begin{cases}\n",
    "        2x,\\ \\ \\ \\text{ pro } x\\in(0,1)\\\\\n",
    "        0, \\ \\ \\ \\text{ pro } x\\notin (0,1). \n",
    "    \\end{cases}\n",
    "\\end{equation}\n"
   ]
  },
  {
   "cell_type": "code",
   "execution_count": null,
   "metadata": {},
   "outputs": [],
   "source": [
    " "
   ]
  }
 ],
 "metadata": {
  "kernelspec": {
   "display_name": "Python 3",
   "language": "python",
   "name": "python3"
  },
  "language_info": {
   "codemirror_mode": {
    "name": "ipython",
    "version": 3
   },
   "file_extension": ".py",
   "mimetype": "text/x-python",
   "name": "python",
   "nbconvert_exporter": "python",
   "pygments_lexer": "ipython3",
   "version": "3.6.9"
  },
  "latex_envs": {
   "LaTeX_envs_menu_present": true,
   "autoclose": false,
   "autocomplete": true,
   "bibliofile": "biblio.bib",
   "cite_by": "apalike",
   "current_citInitial": 1,
   "eqLabelWithNumbers": true,
   "eqNumInitial": 1,
   "hotkeys": {
    "equation": "Ctrl-E",
    "itemize": "Ctrl-I"
   },
   "labels_anchors": false,
   "latex_user_defs": false,
   "report_style_numbering": false,
   "user_envs_cfg": false
  },
  "toc": {
   "base_numbering": 1,
   "nav_menu": {},
   "number_sections": true,
   "sideBar": true,
   "skip_h1_title": false,
   "title_cell": "Table of Contents",
   "title_sidebar": "Obsah",
   "toc_cell": false,
   "toc_position": {
    "height": "calc(100% - 180px)",
    "left": "10px",
    "top": "150px",
    "width": "165px"
   },
   "toc_section_display": true,
   "toc_window_display": true
  }
 },
 "nbformat": 4,
 "nbformat_minor": 2
}

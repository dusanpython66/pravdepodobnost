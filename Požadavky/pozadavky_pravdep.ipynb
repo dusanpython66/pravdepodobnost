{
 "cells": [
  {
   "cell_type": "markdown",
   "metadata": {},
   "source": [
    "# Požadavky k ústní zkoušce z předmětu Pravděpodobnost"
   ]
  },
  {
   "cell_type": "markdown",
   "metadata": {},
   "source": [
    "\\begin{enumerate}\n",
    "\\item Definujte pojem náhodného výběru. Uveďte příklady.\n",
    "\\item Definujte pojem pravděpodobnostního prostoru a uveďte konkrétní příklady.\n",
    "\\item Co to je náhodný pokus. Uveďte příklady.\n",
    "\\item Vysvětlete pojem náhodného jevu a jeho zápisu.\n",
    "\\item Jak lze vyjádřit pravděpodobnost \\(P(A\\cup B)\\) pomocí pravděpodobností \\(P(A)\\) a \\(P(B)\\)?\n",
    "\\item Vysvětlete, proč je \\(P(A)\\le P(B)\\), pokud \\(A,B\\) jsou jevy, pro které platí, že \\(A\\subset B\\).\n",
    "\\item Vysvětlete, kdy pro jevy \\(A, B\\) platí vztah \\(P(A\\cup B) = P(A) + P(B)\\) ?\n",
    "\\item Definujte pojem tzv. podmíněné pravděpodobnosti.\n",
    "\\item Vysvětlete pojem nezávislosti jevů \\(A\\) a \\(B.\\)\n",
    "\\item Vyslovte větu o úplné pravděpodobnosti.\n",
    "\\item Vyslovte tzv. Bayesovu větu.\n",
    "\\item Vysvětlete co je to binomické rozdělení pravděpodobností.\n",
    "\\item Vysvětlete co znamená pojem náhodné veličiny. Ukažte příklady.\n",
    "\\item Co to je střední hodnota \\(EX\\) náhodné veličiny? Základní vlastnosti.\n",
    "\\item Co to je disperze (rozptyl) DX náhodné veličiny X? Vyjádřete pomocí centrálního momentu náhodné veličiny X.\n",
    "\\item Vysvětlete na konkrétním příkladě pojem distribuční funkce diskrétní náhodné veličiny.\n",
    "\\item Vysvětlete pojem pravděpodobnostní funkce \\(p_X\\) a její vztah k distribuční funkci \\(F_X\\).\n",
    "\\item Vysvětlete pojem absolutně spojité náhodné veličiny. Uveďte příklad takové náhodné veličiny.\n",
    "\\item Jaký předpis má náhodná veličina s normálním rozdělením N(0,1)? Jak vypadá předpis hustoty pravděpodobnosti normálního rozdělení \\(N(\\mu, \\sigma^2)\\)?\n",
    "\\item Jaké vlastnosti má distribuční funkce \\(F_X\\) náhodné veličiny \\(X\\)?\n",
    "\\item Vysvětlete pojem borelovsky měřitelné reálné funkce.\n",
    "\\item Co to je tzv. normovaná náhodná veličina a jaké má vlastnosti?\n",
    "\\item Uveďte tzv. Čebyševovu nerovnost.\n",
    "\\item Vyslovte Bernoulliho \"Zákon velkých čísel.\"\n",
    "\\item Vyslovte znění tzv. Centrální limitní věty.\n",
    "\\end{enumerate}\n"
   ]
  },
  {
   "cell_type": "markdown",
   "metadata": {},
   "source": [
    "# Doporučená literatura"
   ]
  },
  {
   "cell_type": "markdown",
   "metadata": {},
   "source": []
  }
 ],
 "metadata": {
  "kernelspec": {
   "display_name": "Python 3",
   "language": "python",
   "name": "python3"
  },
  "language_info": {
   "codemirror_mode": {
    "name": "ipython",
    "version": 3
   },
   "file_extension": ".py",
   "mimetype": "text/x-python",
   "name": "python",
   "nbconvert_exporter": "python",
   "pygments_lexer": "ipython3",
   "version": "3.6.9"
  },
  "latex_envs": {
   "LaTeX_envs_menu_present": true,
   "autoclose": false,
   "autocomplete": true,
   "bibliofile": "biblio.bib",
   "cite_by": "apalike",
   "current_citInitial": 1,
   "eqLabelWithNumbers": true,
   "eqNumInitial": 1,
   "hotkeys": {
    "equation": "Ctrl-E",
    "itemize": "Ctrl-I"
   },
   "labels_anchors": false,
   "latex_user_defs": false,
   "report_style_numbering": false,
   "user_envs_cfg": false
  },
  "toc": {
   "base_numbering": 1,
   "nav_menu": {},
   "number_sections": true,
   "sideBar": true,
   "skip_h1_title": false,
   "title_cell": "Table of Contents",
   "title_sidebar": "Obsah",
   "toc_cell": false,
   "toc_position": {},
   "toc_section_display": true,
   "toc_window_display": false
  }
 },
 "nbformat": 4,
 "nbformat_minor": 2
}

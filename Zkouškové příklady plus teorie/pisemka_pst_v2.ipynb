{
 "cells": [
  {
   "cell_type": "markdown",
   "metadata": {},
   "source": [
    "# Příklad"
   ]
  },
  {
   "cell_type": "markdown",
   "metadata": {},
   "source": [
    "Uvažujme náhodný pokus, při kterém hážeme nezávisle dvěma mincemi\n",
    "a nechť X označuje kolikrát padla panna na některé z těchto dvou mincí.\n",
    "Znázorněte pak graficky pravděpodobnostní funkci náhodné veličiny X."
   ]
  },
  {
   "cell_type": "markdown",
   "metadata": {},
   "source": [
    "## Řešení"
   ]
  },
  {
   "cell_type": "markdown",
   "metadata": {},
   "source": [
    "Možné hodnoty náhodné jsou: 0,1,2.\n",
    "\\(p_X(0) = P(X = 0) = 1/4,\\) \\(p_X(1) = P(X = 1) = 1/4,\\) \\(p_X(2) =\n",
    "P(X = 2) = 1/4.\\)"
   ]
  },
  {
   "cell_type": "code",
   "execution_count": 19,
   "metadata": {},
   "outputs": [],
   "source": [
    "import matplotlib.pyplot as plt\n",
    "import numpy as np\n",
    "from matplotlib import colors\n",
    "from matplotlib.ticker import PercentFormatter\n"
   ]
  },
  {
   "cell_type": "markdown",
   "metadata": {},
   "source": [
    "# Příklad"
   ]
  },
  {
   "cell_type": "markdown",
   "metadata": {},
   "source": [
    "Uvažujme náhodný pokus, při kterém hážeme dvakrát kostkou se šesti stěnami a o které \n",
    "předpokládáme, že je vyvážená. Spočítejte pravděpodobnost jevu, při kterém bude součet\n",
    "v obou hodech sudým číslem."
   ]
  },
  {
   "cell_type": "markdown",
   "metadata": {},
   "source": [
    "# Příklad"
   ]
  },
  {
   "cell_type": "markdown",
   "metadata": {},
   "source": [
    "V dílně pracují dva stroje (nezávisle na sobě). První stroj se porouchá s pravděpodobností 20%. Pravděpodobnost poruchy druhého stroje je 30%. Náhodná veličina bude\n",
    "označovat počet porouchaných strojů v dílně. Určete pravděpodobnostní funkci a distribuční\n",
    "funkci této náhodné veličiny."
   ]
  },
  {
   "cell_type": "markdown",
   "metadata": {},
   "source": [
    "## Řešení"
   ]
  },
  {
   "cell_type": "markdown",
   "metadata": {},
   "source": [
    "<img src='pisemka_pst_v2_pic2.png'>Řešení</img>"
   ]
  },
  {
   "cell_type": "markdown",
   "metadata": {},
   "source": [
    "<img src='pisemka_pst_v2_pic1.png'> Řešení</img>"
   ]
  },
  {
   "cell_type": "markdown",
   "metadata": {},
   "source": [
    "<img src='pisemka_pst_v2_pic3.png'> Řešení</img>"
   ]
  },
  {
   "cell_type": "markdown",
   "metadata": {},
   "source": [
    "<img src='pisemka_pst_v2_pic4.png'> Řešení</img>"
   ]
  },
  {
   "cell_type": "markdown",
   "metadata": {},
   "source": [
    "<img src='pisemka_pst_v2_pic5.png'> Řešení</img>"
   ]
  },
  {
   "cell_type": "markdown",
   "metadata": {},
   "source": [
    "# Příklad"
   ]
  },
  {
   "cell_type": "markdown",
   "metadata": {},
   "source": [
    "Vraťme se k diskrétní náhodné veličině 𝑋 (počet porouchaných strojů v dílně)\n",
    "z řešeného příkladu 3.1. Řešením příkladu 3.1 byl popis rozdělení této náhodné veličiny\n",
    "pomocí pravděpodobnostní i distribuční funkce. Nyní určete její\n",
    "\n",
    "a) střední hodnotu,\n",
    "\n",
    "b) rozptyl,\n",
    "\n",
    "c) směrodatnou odchylku."
   ]
  },
  {
   "cell_type": "markdown",
   "metadata": {
    "heading_collapsed": true
   },
   "source": [
    "## Řešení"
   ]
  },
  {
   "cell_type": "markdown",
   "metadata": {
    "hidden": true
   },
   "source": [
    "<img src='pisemka_pst_v2_pic6.png'> Řešení</img>"
   ]
  },
  {
   "cell_type": "markdown",
   "metadata": {
    "hidden": true
   },
   "source": [
    "<img src='pisemka_pst_v2_pic7.png'> Řešení</img>"
   ]
  },
  {
   "cell_type": "markdown",
   "metadata": {
    "hidden": true
   },
   "source": []
  }
 ],
 "metadata": {
  "kernelspec": {
   "display_name": "Python 3",
   "language": "python",
   "name": "python3"
  },
  "language_info": {
   "codemirror_mode": {
    "name": "ipython",
    "version": 3
   },
   "file_extension": ".py",
   "mimetype": "text/x-python",
   "name": "python",
   "nbconvert_exporter": "python",
   "pygments_lexer": "ipython3",
   "version": "3.6.9"
  },
  "latex_envs": {
   "LaTeX_envs_menu_present": true,
   "autoclose": false,
   "autocomplete": true,
   "bibliofile": "biblio.bib",
   "cite_by": "apalike",
   "current_citInitial": 1,
   "eqLabelWithNumbers": true,
   "eqNumInitial": 1,
   "hotkeys": {
    "equation": "Ctrl-E",
    "itemize": "Ctrl-I"
   },
   "labels_anchors": false,
   "latex_user_defs": false,
   "report_style_numbering": false,
   "user_envs_cfg": false
  },
  "toc": {
   "base_numbering": 1,
   "nav_menu": {},
   "number_sections": true,
   "sideBar": true,
   "skip_h1_title": false,
   "title_cell": "Table of Contents",
   "title_sidebar": "Contents",
   "toc_cell": false,
   "toc_position": {},
   "toc_section_display": true,
   "toc_window_display": true
  }
 },
 "nbformat": 4,
 "nbformat_minor": 2
}

{
 "cells": [
  {
   "cell_type": "markdown",
   "metadata": {},
   "source": [
    "# Zkoušková písemka Pravděpodobnost verze 1"
   ]
  },
  {
   "cell_type": "markdown",
   "metadata": {},
   "source": [
    "## Příklad "
   ]
  },
  {
   "cell_type": "markdown",
   "metadata": {},
   "source": [
    "Náhodný pokus spočívá v jednom hodu klasickou hrací kostkou se stěnami\n",
    "očíslovanými od 1 do 6. Náhodný jev 𝐴 nastane, jestliže padne liché číslo a náhodný jev 𝐵\n",
    "nastane, jestliže padne číslo menší než 4. Určete S, \\(𝐴^c\\),\\(B^c\\),\n",
    "𝐴 ∪ 𝐵, 𝐴 ∩ 𝐵, 𝐴 ∖ 𝐵, 𝐵 ∖ 𝐴. Určete také jevové pole \\(\\cal{A}.\\)"
   ]
  },
  {
   "cell_type": "markdown",
   "metadata": {
    "heading_collapsed": true
   },
   "source": [
    "### Řešení"
   ]
  },
  {
   "cell_type": "markdown",
   "metadata": {
    "hidden": true
   },
   "source": [
    "<a href=\"http://mi21.vsb.cz/sites/mi21.vsb.cz/files/unit/resene_priklady_pravdepodobnost.pdf\">  viz. zde\n",
    "</a>\n",
    "\n",
    "Řešení. Rozumné bude za základní prostor zvolit šestiprvkovou množinu . Její prvky jsou\n",
    "elementární jevy {1}, {2}, {3}, {4}, {5}, {6} . Jevy 𝐴 a 𝐵 jsou podmnožinami základního\n",
    "prostoru Ω.\n",
    "Příslušné jevové pole A je množinou všech podmnožin základního prostoru.\n",
    "\n",
    "\\(\\cal{A}\\) = {∅, {1}, {2}, {3}, {4}, {5}, {6}, {1, 2}, {1, 5}, . . . , {5, 6}, . . . , {2, 3, 4, 5, 6}, Ω}\n",
    "\n",
    "𝐴 = {1, 3, 5}...padne liché číslo,\n",
    "\n",
    "𝐵 = {1, 2, 3}...padne číslo menší než 4.\n",
    "\n",
    "Nyní můžeme určit hledané jevy.\n",
    "\n",
    "𝐴¯ = Ω − 𝐴 = {2, 4, 6}...padne sudé číslo,\n",
    "\n",
    "𝐵¯ = Ω − 𝐵 = {4, 5, 6}...padne číslo větší než 3,\n",
    "\n",
    "𝐴 ∪ 𝐵 = {1, 2, 3, 5}...padne liché číslo nebo 2,\n",
    "\n",
    "𝐴 ∩ 𝐵 = {1, 3}...padne 1 nebo 3,\n",
    "\n",
    "𝐴 ∖ 𝐵 = {5}...padne 5,\n",
    "𝐵 ∖ 𝐴 = {2}...padne 2.\n"
   ]
  },
  {
   "cell_type": "markdown",
   "metadata": {},
   "source": [
    "## Příklad"
   ]
  },
  {
   "cell_type": "markdown",
   "metadata": {},
   "source": [
    "Ve třídě 20 chlapců a 12 dívek jsou losem určeni 2 mluvčí. Jaká je pravděpodobnost, že oba mluvčí budou různého pohlaví?"
   ]
  },
  {
   "cell_type": "markdown",
   "metadata": {},
   "source": [
    "### Řešení"
   ]
  },
  {
   "cell_type": "markdown",
   "metadata": {},
   "source": [
    "Protože výběr mluvčích je prováděn losem, má každý z žáků třídy stejnou šanci\n",
    "stát se mluvčím. Pro výpočet hledané pravděpodobnosti proto použijeme klasickou definici\n",
    "pravděpodobnosti.\n",
    "Počet možných výsledků pokusu je dán počtem různých dvojic z 32 žáků (20 + 12) a lze jej\n",
    "vyjádřit kombinačním číslem C(2, 32). Počet příznivých výsledků je 240 (20 · 12). Hledaná\n",
    "pravděpodobnost je tedy dána podílem\n",
    "\\begin{equation}\n",
    "𝑃(𝐴) = \\frac{240}{32\\choose 2} \n",
    "\\approx 0, 484\n",
    "\\end{equation}\n",
    "Pravděpodobnost zkoumaného jevu je přibližně 0,484."
   ]
  },
  {
   "cell_type": "markdown",
   "metadata": {},
   "source": [
    "## Příklad"
   ]
  },
  {
   "cell_type": "markdown",
   "metadata": {},
   "source": [
    "Jaká je pravděpodobnost, že na poctivé hrací kostce padne dvakrát po sobě\n",
    "jednička?"
   ]
  },
  {
   "cell_type": "markdown",
   "metadata": {},
   "source": [
    "### Řešení"
   ]
  },
  {
   "cell_type": "markdown",
   "metadata": {},
   "source": [
    "Definujme si jevy 𝐴, 𝐵 takto:\n",
    "\n",
    "𝐴 – „padne jednička v prvním hodu“\n",
    "\n",
    "𝐵 – „padne jednička ve druhém hodu“\n",
    "\n",
    "Jestliže v prvním hodu padne jednička, nijak to neovlivní pravděpodobnost, že jednička\n",
    "padne také ve druhém hodu. Jevy 𝐴, 𝐵 jsou nezávislé, proto je pravděpodobnost, že v obou\n",
    "hodech padnou jedničky, součinem jednotlivých pravděpodobností.\n",
    "\\(𝑃(𝐴 ∩ 𝐵) = 𝑃(𝐴) · 𝑃(𝐵) = 1/36\\approx 0,028.\\)\n",
    "Pravděpodobnost, že při dvou hodech kostkou padnou dvě jedničky, je přibližně 2,00 %."
   ]
  },
  {
   "cell_type": "code",
   "execution_count": 3,
   "metadata": {},
   "outputs": [
    {
     "data": {
      "text/plain": [
       "0.028"
      ]
     },
     "execution_count": 3,
     "metadata": {},
     "output_type": "execute_result"
    }
   ],
   "source": [
    "round(1/36, 3)"
   ]
  },
  {
   "cell_type": "markdown",
   "metadata": {},
   "source": [
    "## Příklad"
   ]
  },
  {
   "cell_type": "markdown",
   "metadata": {},
   "source": [
    "Nechť 𝑋 je spojitá náhodná veličina definována hustotou pravděpodobnosti\n",
    "𝑓(𝑥).\n",
    "\\[𝑓(𝑥) = \n",
    "\\begin{cases}\n",
    "𝑐(1 − 𝑥)(1 + 𝑥)\\ \\ \\ −1 < 𝑥 < 1,\\\\ \n",
    "0\\ \\ \\ \\textrm{jinde.}\n",
    "\\end{cases}\n",
    "\\]\n",
    "\n",
    "a) Nalezněte konstantu 𝑐 tak, aby 𝑓(𝑥) byla korektně zadána.\n",
    "\n",
    "b) Nalezněte a zakreslete distribuční funkci 𝐹(𝑥)."
   ]
  },
  {
   "cell_type": "markdown",
   "metadata": {},
   "source": [
    "### Řešení"
   ]
  },
  {
   "cell_type": "markdown",
   "metadata": {},
   "source": [
    "a) Pro nalezení konstanty 𝑐 využijeme toho, že plocha pod křivkou hustoty pravděpodobnosti musí být rovna 1.\n",
    "\\[\\int_{-\\infty}^{\\infty}𝑓(𝑥)dx = 1\\]\n",
    "\\begin{eqnarray}\n",
    "\\int_{-\\infty}^{-1}0dx + \\int_{-1}^{1}c(1-x^2)dx + \\int_{1}^{\\infty}0dx &=& 1\\\\\n",
    "0 + c\\left[x - \\frac{x^3}{3}\\right]_{-1}^{1} + 0 &=& 1\\\\\n",
    "c\\cdot(4/3)&=& 1\\implies c=3/4.\n",
    "\\end{eqnarray}\n",
    "\n"
   ]
  },
  {
   "cell_type": "code",
   "execution_count": 1,
   "metadata": {},
   "outputs": [
    {
     "data": {
      "text/plain": [
       "0.75"
      ]
     },
     "execution_count": 1,
     "metadata": {},
     "output_type": "execute_result"
    }
   ],
   "source": [
    "3/4"
   ]
  },
  {
   "cell_type": "markdown",
   "metadata": {},
   "source": [
    "b) \n",
    "\\[\n",
    "    \\forall x\\in\\mathbb{R}:\\ F(x) = \\int_{-\\infty}^x f(t)dt.\n",
    "\\]"
   ]
  },
  {
   "cell_type": "markdown",
   "metadata": {},
   "source": [
    "<img src=\"pic.png\">Řešení</img>"
   ]
  },
  {
   "cell_type": "markdown",
   "metadata": {},
   "source": []
  }
 ],
 "metadata": {
  "kernelspec": {
   "display_name": "Python 3",
   "language": "python",
   "name": "python3"
  },
  "language_info": {
   "codemirror_mode": {
    "name": "ipython",
    "version": 3
   },
   "file_extension": ".py",
   "mimetype": "text/x-python",
   "name": "python",
   "nbconvert_exporter": "python",
   "pygments_lexer": "ipython3",
   "version": "3.6.9"
  },
  "latex_envs": {
   "LaTeX_envs_menu_present": true,
   "autoclose": false,
   "autocomplete": true,
   "bibliofile": "biblio.bib",
   "cite_by": "apalike",
   "current_citInitial": 1,
   "eqLabelWithNumbers": true,
   "eqNumInitial": 1,
   "hotkeys": {
    "equation": "Ctrl-E",
    "itemize": "Ctrl-I"
   },
   "labels_anchors": false,
   "latex_user_defs": false,
   "report_style_numbering": false,
   "user_envs_cfg": false
  },
  "toc": {
   "base_numbering": 1,
   "nav_menu": {},
   "number_sections": true,
   "sideBar": true,
   "skip_h1_title": false,
   "title_cell": "Table of Contents",
   "title_sidebar": "Contents",
   "toc_cell": false,
   "toc_position": {},
   "toc_section_display": true,
   "toc_window_display": true
  }
 },
 "nbformat": 4,
 "nbformat_minor": 2
}

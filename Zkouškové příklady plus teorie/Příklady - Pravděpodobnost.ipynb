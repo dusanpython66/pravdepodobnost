{
 "cells": [
  {
   "cell_type": "markdown",
   "metadata": {
    "heading_collapsed": true
   },
   "source": [
    "# Elementární pravděpodobnost"
   ]
  },
  {
   "cell_type": "markdown",
   "metadata": {
    "heading_collapsed": true,
    "hidden": true
   },
   "source": [
    "## Příklad (Moodle)"
   ]
  },
  {
   "cell_type": "markdown",
   "metadata": {
    "hidden": true
   },
   "source": [
    "Ve třídě 20 chlapců a 12 dívek jsou losem určeni 2 mluvčí. \n",
    "Jaká je pravděpodobnost, že oba mluvčí budou různého pohlaví?"
   ]
  },
  {
   "cell_type": "markdown",
   "metadata": {
    "hidden": true
   },
   "source": [
    "### Řešení"
   ]
  },
  {
   "cell_type": "markdown",
   "metadata": {
    "hidden": true
   },
   "source": [
    "Protože výběr mluvčích je prováděn losem, má každý z žáků třídy stejnou šanci\n",
    "stát se mluvčím. Pro výpočet hledané pravděpodobnosti proto použijeme klasickou definici\n",
    "pravděpodobnosti.\n",
    "Počet možných výsledků pokusu je dán počtem různých dvojic z 32 žáků (20 + 12) a lze jej\n",
    "vyjádřit kombinačním číslem C(2, 32). Počet příznivých výsledků je 240 (20 · 12). Hledaná\n",
    "pravděpodobnost je tedy dána podílem\n",
    "\\begin{equation}\n",
    "𝑃(𝐴) = \\frac{240}{32\\choose 2} \n",
    "\\approx 0, 484\n",
    "\\end{equation}\n",
    "Pravděpodobnost zkoumaného jevu je přibližně 0,484."
   ]
  },
  {
   "cell_type": "markdown",
   "metadata": {
    "heading_collapsed": true
   },
   "source": [
    "# Nezávislé jevy"
   ]
  },
  {
   "cell_type": "markdown",
   "metadata": {
    "heading_collapsed": true,
    "hidden": true
   },
   "source": [
    "## Příklad(Moodle)"
   ]
  },
  {
   "cell_type": "markdown",
   "metadata": {
    "hidden": true
   },
   "source": [
    "Jaká je pravděpodobnost, že na poctivé hrací kostce padne dvakrát po sobě\n",
    "\n",
    "jednička?\n",
    "\n",
    "(Výsledek uveďte ve tvaru desetinného čísla s přesností na tisíciny!)"
   ]
  },
  {
   "cell_type": "markdown",
   "metadata": {
    "heading_collapsed": true,
    "hidden": true
   },
   "source": [
    "### Řešení"
   ]
  },
  {
   "cell_type": "markdown",
   "metadata": {
    "hidden": true
   },
   "source": [
    "Definujme si jevy 𝐴, 𝐵 takto:\n",
    "\n",
    "𝐴 – „padne jednička v prvním hodu“\n",
    "\n",
    "𝐵 – „padne jednička ve druhém hodu“\n",
    "\n",
    "Jestliže v prvním hodu padne jednička, nijak to neovlivní pravděpodobnost, že jednička\n",
    "padne také ve druhém hodu. Jevy 𝐴, 𝐵 jsou nezávislé, proto je pravděpodobnost, že v obou\n",
    "hodech padnou jedničky, součinem jednotlivých pravděpodobností.\n",
    "\\(𝑃(𝐴 ∩ 𝐵) = 𝑃(𝐴) · 𝑃(𝐵) = 1/36\\approx 0,028.\\)\n",
    "Pravděpodobnost, že při dvou hodech kostkou padnou dvě jedničky, je přibližně 2,00 %."
   ]
  },
  {
   "cell_type": "markdown",
   "metadata": {},
   "source": [
    "# Podmíněná pravděpodobnost"
   ]
  },
  {
   "cell_type": "markdown",
   "metadata": {},
   "source": [
    "## Příklad (Moodle)"
   ]
  },
  {
   "cell_type": "markdown",
   "metadata": {},
   "source": [
    "Uvažujme náhodný pokus při němž jsou vrženy nezávisle dvě hrací kostky. Nyní definujme dva náhodné jevy:\n",
    "\\(A = \\{\\textrm{suma ok na obou kostkách je rovna 8} \\}\\),\n",
    "\n",
    "\\(B = \\{\\textrm{na kostkách padl stejný počet ok} \\}.\\)\n",
    "\n",
    "Vypočítejte podmíněnou pravděpodobnost \\(P(B|A).\\)"
   ]
  },
  {
   "cell_type": "markdown",
   "metadata": {},
   "source": [
    "**Řešení:**\n",
    "Vzorec: \\(P(B|A) = \\frac{P(A\\cap B)}{P(A)}.\\)"
   ]
  },
  {
   "cell_type": "code",
   "execution_count": 2,
   "metadata": {},
   "outputs": [
    {
     "name": "stdout",
     "output_type": "stream",
     "text": [
      "{(3, 5), (2, 6), (4, 4), (6, 2), (5, 3)}\n",
      "počet prvků množiny A je roven 5\n"
     ]
    }
   ],
   "source": [
    "A = []\n",
    "for i in range(1,7):\n",
    "    for j in range(1,7):\n",
    "        if i + j == 8:\n",
    "            A.append((i,j))\n",
    "print(set(A))\n",
    "print(f\"počet prvků množiny A je roven {len(A)}\")"
   ]
  },
  {
   "cell_type": "code",
   "execution_count": 3,
   "metadata": {},
   "outputs": [
    {
     "name": "stdout",
     "output_type": "stream",
     "text": [
      "{(3, 3), (5, 5), (6, 6), (4, 4), (2, 2), (1, 1)}\n",
      "počet prvků množiny B je roven 6\n"
     ]
    }
   ],
   "source": [
    "B = []\n",
    "for i in range(1, 7):\n",
    "    for j in range(1,7):\n",
    "        if i == j:\n",
    "            B.append((i,j))\n",
    "print(set(B))\n",
    "print(f\"počet prvků množiny B je roven {len(B)}\")"
   ]
  },
  {
   "cell_type": "code",
   "execution_count": 6,
   "metadata": {},
   "outputs": [
    {
     "data": {
      "text/plain": [
       "0.19999999999999998"
      ]
     },
     "execution_count": 6,
     "metadata": {},
     "output_type": "execute_result"
    }
   ],
   "source": [
    "A = set(A)\n",
    "B = set(B)\n",
    "(1/36)/(5/36)"
   ]
  },
  {
   "cell_type": "markdown",
   "metadata": {},
   "source": [
    "# Věta o úplné pravděpodobnosti"
   ]
  },
  {
   "cell_type": "markdown",
   "metadata": {},
   "source": [
    "## Příklad"
   ]
  },
  {
   "cell_type": "markdown",
   "metadata": {},
   "source": [
    "V každé ze tří krabic je 6 černých a 4 bílé koule. Z první krabice je náhodně vybrána koule a vložena do druhé krabice, potom je z druhé krabice vybrána náhodně koule a vložena do třetí krabice, nakonec je náhodně vybrána koule ze třetí krabice. Najděme pravděpodobnost jevu \\(A\\), že koule vytažená ze třetí krabice je bílá."
   ]
  },
  {
   "cell_type": "markdown",
   "metadata": {},
   "source": [
    "### Řešení"
   ]
  },
  {
   "cell_type": "markdown",
   "metadata": {},
   "source": [
    "Označme \\(B_1,\\ B_2\\) tyto náhodné jevy:\n",
    "\n",
    "\\(B_1 :\\) z první krabice byla do druhé krabice přenesena bílá koule,\n",
    "\n",
    "\\(B_2 :\\) z druhé krabice byla do třetí přenesena bílá koule.\n",
    "\n",
    "\\(A :\\) jedná se o jev kdy koule vytažená ze třetí krabice má bílou barvu.\n",
    "Pro výpočet pravděpodobnosti \\(P(A)\\) použijeme vzorec pro úplnou pravděpodobnost:\n",
    "\\[\n",
    "    P(A) = P(A|B_2)P(B_2) + P(A|B_2^c)P(B_2^c).\n",
    "\\]\n",
    "Zde pak lze vyjádřit: \\(P(A|B_2) = \\frac{5}{11}\\) (pokud byla přenesena do třetí krabice bílá koule,\n",
    "potom bylo ve třetí krabici celkem 11 koulí a z toho bylo 5 koulí bílých !)\n",
    "Dále obdobnou úvahou zjistíme, že \\(P(A|B_2^c) = \\frac{4}{11}.\\)"
   ]
  },
  {
   "cell_type": "markdown",
   "metadata": {},
   "source": [
    "Dále pro vyjádření pravděpodobnosti využijeme opět vzorec pro vyjádření úplné pravděpodobnosti:\n",
    "\\[\n",
    "    P(B_2) = P(B_2|B_1)P(B_1) + P(B_2|B_1^c)P(B_1^c),\n",
    "\\]\n",
    "kde \\(P(B_2|B_1) = \\frac{5}{11}\\) a \\(P(B_2|B_1^c) = \\frac{4}{11}.\\)\n",
    "Dále pak platí: \n",
    "\\(P(B_1) = \\frac{4}{10}\\), \\(P(B_1^c) = \\frac{6}{10}\\). Potom je \n",
    "\n",
    "\\(P(B_2) = \\frac{5}{10}\\cdot\\frac{4}{10} + \\frac{4}{11}\\cdot\\frac{6}{10} = \\frac{44}{110} = 0,4.\\)\n",
    "\n",
    "\\(P(B_2^c) = 1 - P(B_2) = 0,6.\\)\n",
    "\n"
   ]
  },
  {
   "cell_type": "markdown",
   "metadata": {},
   "source": [
    "Z výše uvedeného vyplývá, že \n",
    "\n",
    "\\[\n",
    "    P(A) = \\frac{5}{11}\\cdot 0,4 + \\frac{4}{11}\\cdot 0,6 = 0,4.\n",
    "\\]"
   ]
  },
  {
   "cell_type": "markdown",
   "metadata": {},
   "source": [
    "# Bayesova věta"
   ]
  },
  {
   "cell_type": "markdown",
   "metadata": {},
   "source": [
    "## Příklad"
   ]
  },
  {
   "cell_type": "markdown",
   "metadata": {},
   "source": []
  },
  {
   "cell_type": "markdown",
   "metadata": {
    "heading_collapsed": true
   },
   "source": [
    "# Hustota pravděpodobnosti SNV"
   ]
  },
  {
   "cell_type": "markdown",
   "metadata": {
    "heading_collapsed": true,
    "hidden": true
   },
   "source": [
    "## Příklad (Moodle)"
   ]
  },
  {
   "cell_type": "markdown",
   "metadata": {
    "hidden": true
   },
   "source": [
    "Nechť 𝑋 je spojitá náhodná veličina definována hustotou pravděpodobnosti\n",
    "\n",
    "𝑓(𝑥).\n",
    "\n",
    "\\[𝑓(𝑥) = \n",
    "\\begin{cases}\n",
    "𝑐(1 − 𝑥)(1 + 𝑥)\\ \\ \\ −1 < 𝑥 < 1,\\\\ \n",
    "0\\ \\ \\ \\textrm{jinde.}\n",
    "\\end{cases}\n",
    "\\]\n",
    "\n",
    "Nalezněte konstantu 𝑐 tak, aby 𝑓(𝑥) byla korektně zadána. Výsledek uveďte ve tvaru desetinného čísla\n",
    "\n",
    "s přesností na setiny !"
   ]
  },
  {
   "cell_type": "markdown",
   "metadata": {
    "heading_collapsed": true,
    "hidden": true
   },
   "source": [
    "### Řešení"
   ]
  },
  {
   "cell_type": "markdown",
   "metadata": {
    "hidden": true
   },
   "source": [
    "Pro nalezení konstanty 𝑐 využijeme toho, že plocha pod křivkou hustoty pravděpodobnosti musí být rovna 1.\n",
    "\\[\\int_{-\\infty}^{\\infty}𝑓(𝑥)dx = 1\\]\n",
    "\\begin{eqnarray}\n",
    "\\int_{-\\infty}^{-1}0dx + \\int_{-1}^{1}c(1-x^2)dx + \\int_{1}^{\\infty}0dx &=& 1\\\\\n",
    "0 + c\\left[x - \\frac{x^3}{3}\\right]_{-1}^{1} + 0 &=& 1\\\\\n",
    "c\\cdot(4/3)&=& 1\\implies c=3/4.\n",
    "\\end{eqnarray}\n",
    "\n"
   ]
  },
  {
   "cell_type": "markdown",
   "metadata": {
    "hidden": true
   },
   "source": [
    "## Příklad (Moodle)"
   ]
  },
  {
   "cell_type": "markdown",
   "metadata": {
    "hidden": true
   },
   "source": [
    "Spojitá náhodná veličina \\(X\\) má hustotu pravděpodobnosti \\(f(x) = (3/2)\\cdot\\sin(3x)\\) na intervalu \\((0,\\frac{1}{3}\\pi),\\) kdežto vně tohoto\n",
    "intervalu je \\(f(x) = 0.\\) Najděme pravděpodobnost, že náhodná veličina \\(X\\) nabude hodnoty z intervalu \\((\\frac{1}{6}\\pi,\\frac{k}{4}\\pi).\\)"
   ]
  },
  {
   "cell_type": "markdown",
   "metadata": {
    "hidden": true
   },
   "source": [
    "### Řešení"
   ]
  },
  {
   "cell_type": "code",
   "execution_count": 7,
   "metadata": {
    "hidden": true
   },
   "outputs": [],
   "source": [
    "from math import pi\n",
    "import sympy as sym\n",
    "k, x = sym.symbols('k x')\n",
    "f = (3/2) * sym.sin(3 * x)\n",
    "a = (1/6) * sym.pi\n",
    "b = (k/4) * sym.pi\n"
   ]
  },
  {
   "cell_type": "code",
   "execution_count": 9,
   "metadata": {
    "hidden": true
   },
   "outputs": [
    {
     "data": {
      "text/latex": [
       "$\\displaystyle 0.5$"
      ],
      "text/plain": [
       "0.500000000000000"
      ]
     },
     "execution_count": 9,
     "metadata": {},
     "output_type": "execute_result"
    }
   ],
   "source": [
    "# Předchozí integrál nezohledňuje případ, kdy je (1/3) * pi < b.\n",
    "# Napišme nyní funkci, která bude vracet výsledek úlohy v závislosti\n",
    "# na parametru k.\n",
    "def vysl(k):\n",
    "    if (k/4) * sym.pi <= (1/3) * sym.pi:\n",
    "        return sym.integrate(f, (x, a, (k/4) * sym.pi)).evalf()\n",
    "    else:\n",
    "        return sym.integrate(f, (x, a, (1/3) * sym.pi))\n",
    "vysl(5)"
   ]
  },
  {
   "cell_type": "code",
   "execution_count": 25,
   "metadata": {
    "hidden": true
   },
   "outputs": [
    {
     "data": {
      "text/latex": [
       "$\\displaystyle 1.0$"
      ],
      "text/plain": [
       "1.00000000000000"
      ]
     },
     "execution_count": 25,
     "metadata": {},
     "output_type": "execute_result"
    }
   ],
   "source": [
    "# Ověřme ještě, že je daná funkce skutečně hustotou nějaké náhodné\n",
    "# veličiny:\n",
    "sym.integrate(f, (x,0, (1/3) * pi))"
   ]
  },
  {
   "cell_type": "code",
   "execution_count": 26,
   "metadata": {
    "hidden": true
   },
   "outputs": [
    {
     "data": {
      "text/latex": [
       "$\\displaystyle 0.353553390593274$"
      ],
      "text/plain": [
       "0.353553390593274"
      ]
     },
     "metadata": {},
     "output_type": "display_data"
    },
    {
     "data": {
      "text/latex": [
       "$\\displaystyle 0.5$"
      ],
      "text/plain": [
       "0.500000000000000"
      ]
     },
     "metadata": {},
     "output_type": "display_data"
    },
    {
     "data": {
      "text/latex": [
       "$\\displaystyle 0.5$"
      ],
      "text/plain": [
       "0.500000000000000"
      ]
     },
     "metadata": {},
     "output_type": "display_data"
    },
    {
     "data": {
      "text/latex": [
       "$\\displaystyle 0.5$"
      ],
      "text/plain": [
       "0.500000000000000"
      ]
     },
     "metadata": {},
     "output_type": "display_data"
    },
    {
     "data": {
      "text/latex": [
       "$\\displaystyle 0.5$"
      ],
      "text/plain": [
       "0.500000000000000"
      ]
     },
     "metadata": {},
     "output_type": "display_data"
    },
    {
     "data": {
      "text/latex": [
       "$\\displaystyle 0.5$"
      ],
      "text/plain": [
       "0.500000000000000"
      ]
     },
     "metadata": {},
     "output_type": "display_data"
    },
    {
     "data": {
      "text/latex": [
       "$\\displaystyle 0.5$"
      ],
      "text/plain": [
       "0.500000000000000"
      ]
     },
     "metadata": {},
     "output_type": "display_data"
    },
    {
     "data": {
      "text/latex": [
       "$\\displaystyle 0.5$"
      ],
      "text/plain": [
       "0.500000000000000"
      ]
     },
     "metadata": {},
     "output_type": "display_data"
    },
    {
     "data": {
      "text/latex": [
       "$\\displaystyle 0.5$"
      ],
      "text/plain": [
       "0.500000000000000"
      ]
     },
     "metadata": {},
     "output_type": "display_data"
    }
   ],
   "source": [
    "for i in range(1, 10):\n",
    "    display(vysl(i))"
   ]
  },
  {
   "cell_type": "code",
   "execution_count": 27,
   "metadata": {
    "hidden": true
   },
   "outputs": [
    {
     "name": "stdout",
     "output_type": "stream",
     "text": [
      " P_1(0.166666666666667*pi < X <pi*k/4) = 0.35\n",
      " P_2(0.166666666666667*pi < X <pi*k/4) = 0.50\n",
      " P_3(0.166666666666667*pi < X <pi*k/4) = 0.50\n",
      " P_5(0.166666666666667*pi < X <pi*k/4) = 0.50\n"
     ]
    }
   ],
   "source": [
    "for i in [1, 2, 3, 5]:\n",
    "    pravd = vysl(i).round(2)\n",
    "    print(f\" P_{i}({a} < X <{b}) = {pravd}\")"
   ]
  },
  {
   "cell_type": "markdown",
   "metadata": {
    "hidden": true
   },
   "source": [
    "## Příklad"
   ]
  },
  {
   "cell_type": "markdown",
   "metadata": {
    "hidden": true
   },
   "source": [
    "Předpokládejme, že Náhodná veličina \\(X\\) má distribuční funkci \\(F(x)\\) danou předpisem:\n",
    "\\(F(x) = \\frac{1}{2} + \\frac{1}{\\pi}arctg(\\frac{x}{2}).\\)\n",
    "Najděte takové číslo \\(t\\in\\mathbb R\\), aby pravděpodobnost jevu \\(\\{X > t\\}\\) byla rovna hodnotě 0,25.\n",
    "Výsledek uveďte ve tvaru desetinného čísla s desetinnou čárkou a s přesností na jedno desetinné místo !"
   ]
  },
  {
   "cell_type": "markdown",
   "metadata": {
    "hidden": true
   },
   "source": [
    "`Řešení:` (Viz sbírka Jirásek III, str. 269)"
   ]
  },
  {
   "cell_type": "markdown",
   "metadata": {
    "hidden": true
   },
   "source": [
    "**Odpověď:**\n",
    "\\(t = 2tg(\\frac{\\pi}{4}) = 2.\\)"
   ]
  },
  {
   "cell_type": "markdown",
   "metadata": {
    "heading_collapsed": true
   },
   "source": [
    "# Střední hodnota DNV"
   ]
  },
  {
   "cell_type": "markdown",
   "metadata": {
    "heading_collapsed": true,
    "hidden": true
   },
   "source": [
    "## Příklad (Moodle)"
   ]
  },
  {
   "cell_type": "markdown",
   "metadata": {
    "hidden": true
   },
   "source": [
    "V dílně pracují dva stroje (nezávisle na sobě). První stroj se porouchá s pravděpodobností 20%. Pravděpodobnost poruchy druhého stroje je 30%. Náhodná veličina X bude označovat počet porouchaných strojů v dílně.  Určete pak střední hodnotu \\(EX.\\) Výsledek uveďte ve tvaru desetinného čísla s přesností na setiny !\n",
    "\n"
   ]
  },
  {
   "cell_type": "markdown",
   "metadata": {
    "heading_collapsed": true,
    "hidden": true
   },
   "source": [
    "### Řešení"
   ]
  },
  {
   "cell_type": "markdown",
   "metadata": {
    "hidden": true
   },
   "source": [
    "Určeme nejdříve pravděpodobnostní funkci \\(P_X\\).\n",
    "Označme jako \\(S_1\\) jev, že se porouchá 1. stroj a \n",
    "jako \\(S_2\\) jev, kdy se porouchá druhý stroj.\n",
    "Potom platí, že \n",
    "\\[\n",
    "\\{X=0\\} = S_1^c\\cap S_2^c.\n",
    "\\]\n",
    "\\[\n",
    "\\{X=1\\} = (S_1\\cap S_2^c)\\cup (S_1^c\\cap S_2).\n",
    "\\]\n",
    "\\[\n",
    "\\{X=2\\} = S_1\\cap S_2.\n",
    "\\]"
   ]
  },
  {
   "cell_type": "code",
   "execution_count": 24,
   "metadata": {
    "hidden": true
   },
   "outputs": [],
   "source": [
    "######### Zde je hlavička ################\n",
    "import sympy as sym \n",
    "from sympy.plotting import plot3d\n",
    "from IPython.display import Math, display, Latex\n",
    "import numpy as np\n",
    "sym.init_printing()\n",
    "###########################################\n",
    "P1  = 0.2; P2 = 0.3\n",
    "p_0 = round((1 - P1) * (1 - P2),2)\n",
    "p_1 = round((P1 * (1 - P2)) + ((1 - P1) * P2), 2)\n",
    "p_2 = round(P1 * P2, 2)"
   ]
  },
  {
   "cell_type": "code",
   "execution_count": 34,
   "metadata": {
    "hidden": true
   },
   "outputs": [
    {
     "data": {
      "text/plain": [
       "array([0.56, 0.38, 0.06])"
      ]
     },
     "execution_count": 34,
     "metadata": {},
     "output_type": "execute_result"
    }
   ],
   "source": [
    "p = np.array([p_0, p_1, p_2])\n",
    "p"
   ]
  },
  {
   "cell_type": "code",
   "execution_count": 35,
   "metadata": {
    "hidden": true
   },
   "outputs": [
    {
     "data": {
      "image/png": "[encoded data removed]",
      "text/latex": [
       "$\\displaystyle 0.5$"
      ],
      "text/plain": [
       "0.5"
      ]
     },
     "execution_count": 35,
     "metadata": {},
     "output_type": "execute_result"
    }
   ],
   "source": [
    "# Konstrukce sřední hodnoty:\n",
    "# EX = střední hodnoty n.v. X\n",
    "rangeX = np.array([0, 1, 2])\n",
    "EX = sum(p * rangeX)\n",
    "EX"
   ]
  },
  {
   "cell_type": "code",
   "execution_count": 40,
   "metadata": {
    "hidden": true
   },
   "outputs": [],
   "source": [
    "def stredHod(P1, P2):\n",
    "    p_0 = (1 - P1) * (1 - P2)\n",
    "    p_1 = (P1 * (1 - P2)) + ((1 - P1) * P2)\n",
    "    p_2 = P1 * P2\n",
    "    p = np.array([p_0, p_1, p_2])\n",
    "    rangeX = np.array([0, 1, 2])\n",
    "    EX = sum(p * rangeX)\n",
    "    return EX\n"
   ]
  },
  {
   "cell_type": "code",
   "execution_count": 55,
   "metadata": {
    "hidden": true,
    "scrolled": false
   },
   "outputs": [
    {
     "name": "stdout",
     "output_type": "stream",
     "text": [
      "P1 = 0.1, P2 = 0.1\n"
     ]
    },
    {
     "data": {
      "text/latex": [
       "$\\displaystyle \\text{Střední hodnota } EX = 0.2$"
      ],
      "text/plain": [
       "<IPython.core.display.Math object>"
      ]
     },
     "metadata": {},
     "output_type": "display_data"
    },
    {
     "name": "stdout",
     "output_type": "stream",
     "text": [
      "####################\n",
      "P1 = 0.1, P2 = 0.2\n"
     ]
    },
    {
     "data": {
      "text/latex": [
       "$\\displaystyle \\text{Střední hodnota } EX = 0.3$"
      ],
      "text/plain": [
       "<IPython.core.display.Math object>"
      ]
     },
     "metadata": {},
     "output_type": "display_data"
    },
    {
     "name": "stdout",
     "output_type": "stream",
     "text": [
      "####################\n",
      "P1 = 0.1, P2 = 0.3\n"
     ]
    },
    {
     "data": {
      "text/latex": [
       "$\\displaystyle \\text{Střední hodnota } EX = 0.4$"
      ],
      "text/plain": [
       "<IPython.core.display.Math object>"
      ]
     },
     "metadata": {},
     "output_type": "display_data"
    },
    {
     "name": "stdout",
     "output_type": "stream",
     "text": [
      "####################\n",
      "P1 = 0.1, P2 = 0.4\n"
     ]
    },
    {
     "data": {
      "text/latex": [
       "$\\displaystyle \\text{Střední hodnota } EX = 0.5$"
      ],
      "text/plain": [
       "<IPython.core.display.Math object>"
      ]
     },
     "metadata": {},
     "output_type": "display_data"
    },
    {
     "name": "stdout",
     "output_type": "stream",
     "text": [
      "####################\n",
      "P1 = 0.1, P2 = 0.5\n"
     ]
    },
    {
     "data": {
      "text/latex": [
       "$\\displaystyle \\text{Střední hodnota } EX = 0.6$"
      ],
      "text/plain": [
       "<IPython.core.display.Math object>"
      ]
     },
     "metadata": {},
     "output_type": "display_data"
    },
    {
     "name": "stdout",
     "output_type": "stream",
     "text": [
      "####################\n",
      "P1 = 0.2, P2 = 0.1\n"
     ]
    },
    {
     "data": {
      "text/latex": [
       "$\\displaystyle \\text{Střední hodnota } EX = 0.3$"
      ],
      "text/plain": [
       "<IPython.core.display.Math object>"
      ]
     },
     "metadata": {},
     "output_type": "display_data"
    },
    {
     "name": "stdout",
     "output_type": "stream",
     "text": [
      "####################\n",
      "P1 = 0.2, P2 = 0.2\n"
     ]
    },
    {
     "data": {
      "text/latex": [
       "$\\displaystyle \\text{Střední hodnota } EX = 0.4$"
      ],
      "text/plain": [
       "<IPython.core.display.Math object>"
      ]
     },
     "metadata": {},
     "output_type": "display_data"
    },
    {
     "name": "stdout",
     "output_type": "stream",
     "text": [
      "####################\n",
      "P1 = 0.2, P2 = 0.3\n"
     ]
    },
    {
     "data": {
      "text/latex": [
       "$\\displaystyle \\text{Střední hodnota } EX = 0.5$"
      ],
      "text/plain": [
       "<IPython.core.display.Math object>"
      ]
     },
     "metadata": {},
     "output_type": "display_data"
    },
    {
     "name": "stdout",
     "output_type": "stream",
     "text": [
      "####################\n",
      "P1 = 0.2, P2 = 0.4\n"
     ]
    },
    {
     "data": {
      "text/latex": [
       "$\\displaystyle \\text{Střední hodnota } EX = 0.6$"
      ],
      "text/plain": [
       "<IPython.core.display.Math object>"
      ]
     },
     "metadata": {},
     "output_type": "display_data"
    },
    {
     "name": "stdout",
     "output_type": "stream",
     "text": [
      "####################\n",
      "P1 = 0.2, P2 = 0.5\n"
     ]
    },
    {
     "data": {
      "text/latex": [
       "$\\displaystyle \\text{Střední hodnota } EX = 0.7$"
      ],
      "text/plain": [
       "<IPython.core.display.Math object>"
      ]
     },
     "metadata": {},
     "output_type": "display_data"
    },
    {
     "name": "stdout",
     "output_type": "stream",
     "text": [
      "####################\n",
      "P1 = 0.3, P2 = 0.1\n"
     ]
    },
    {
     "data": {
      "text/latex": [
       "$\\displaystyle \\text{Střední hodnota } EX = 0.4$"
      ],
      "text/plain": [
       "<IPython.core.display.Math object>"
      ]
     },
     "metadata": {},
     "output_type": "display_data"
    },
    {
     "name": "stdout",
     "output_type": "stream",
     "text": [
      "####################\n",
      "P1 = 0.3, P2 = 0.2\n"
     ]
    },
    {
     "data": {
      "text/latex": [
       "$\\displaystyle \\text{Střední hodnota } EX = 0.5$"
      ],
      "text/plain": [
       "<IPython.core.display.Math object>"
      ]
     },
     "metadata": {},
     "output_type": "display_data"
    },
    {
     "name": "stdout",
     "output_type": "stream",
     "text": [
      "####################\n",
      "P1 = 0.3, P2 = 0.3\n"
     ]
    },
    {
     "data": {
      "text/latex": [
       "$\\displaystyle \\text{Střední hodnota } EX = 0.6$"
      ],
      "text/plain": [
       "<IPython.core.display.Math object>"
      ]
     },
     "metadata": {},
     "output_type": "display_data"
    },
    {
     "name": "stdout",
     "output_type": "stream",
     "text": [
      "####################\n",
      "P1 = 0.3, P2 = 0.4\n"
     ]
    },
    {
     "data": {
      "text/latex": [
       "$\\displaystyle \\text{Střední hodnota } EX = 0.7$"
      ],
      "text/plain": [
       "<IPython.core.display.Math object>"
      ]
     },
     "metadata": {},
     "output_type": "display_data"
    },
    {
     "name": "stdout",
     "output_type": "stream",
     "text": [
      "####################\n",
      "P1 = 0.3, P2 = 0.5\n"
     ]
    },
    {
     "data": {
      "text/latex": [
       "$\\displaystyle \\text{Střední hodnota } EX = 0.8$"
      ],
      "text/plain": [
       "<IPython.core.display.Math object>"
      ]
     },
     "metadata": {},
     "output_type": "display_data"
    },
    {
     "name": "stdout",
     "output_type": "stream",
     "text": [
      "####################\n",
      "P1 = 0.4, P2 = 0.1\n"
     ]
    },
    {
     "data": {
      "text/latex": [
       "$\\displaystyle \\text{Střední hodnota } EX = 0.5$"
      ],
      "text/plain": [
       "<IPython.core.display.Math object>"
      ]
     },
     "metadata": {},
     "output_type": "display_data"
    },
    {
     "name": "stdout",
     "output_type": "stream",
     "text": [
      "####################\n",
      "P1 = 0.4, P2 = 0.2\n"
     ]
    },
    {
     "data": {
      "text/latex": [
       "$\\displaystyle \\text{Střední hodnota } EX = 0.6$"
      ],
      "text/plain": [
       "<IPython.core.display.Math object>"
      ]
     },
     "metadata": {},
     "output_type": "display_data"
    },
    {
     "name": "stdout",
     "output_type": "stream",
     "text": [
      "####################\n",
      "P1 = 0.4, P2 = 0.3\n"
     ]
    },
    {
     "data": {
      "text/latex": [
       "$\\displaystyle \\text{Střední hodnota } EX = 0.7$"
      ],
      "text/plain": [
       "<IPython.core.display.Math object>"
      ]
     },
     "metadata": {},
     "output_type": "display_data"
    },
    {
     "name": "stdout",
     "output_type": "stream",
     "text": [
      "####################\n",
      "P1 = 0.4, P2 = 0.4\n"
     ]
    },
    {
     "data": {
      "text/latex": [
       "$\\displaystyle \\text{Střední hodnota } EX = 0.8$"
      ],
      "text/plain": [
       "<IPython.core.display.Math object>"
      ]
     },
     "metadata": {},
     "output_type": "display_data"
    },
    {
     "name": "stdout",
     "output_type": "stream",
     "text": [
      "####################\n",
      "P1 = 0.4, P2 = 0.5\n"
     ]
    },
    {
     "data": {
      "text/latex": [
       "$\\displaystyle \\text{Střední hodnota } EX = 0.9$"
      ],
      "text/plain": [
       "<IPython.core.display.Math object>"
      ]
     },
     "metadata": {},
     "output_type": "display_data"
    },
    {
     "name": "stdout",
     "output_type": "stream",
     "text": [
      "####################\n",
      "P1 = 0.5, P2 = 0.1\n"
     ]
    },
    {
     "data": {
      "text/latex": [
       "$\\displaystyle \\text{Střední hodnota } EX = 0.6$"
      ],
      "text/plain": [
       "<IPython.core.display.Math object>"
      ]
     },
     "metadata": {},
     "output_type": "display_data"
    },
    {
     "name": "stdout",
     "output_type": "stream",
     "text": [
      "####################\n",
      "P1 = 0.5, P2 = 0.2\n"
     ]
    },
    {
     "data": {
      "text/latex": [
       "$\\displaystyle \\text{Střední hodnota } EX = 0.7$"
      ],
      "text/plain": [
       "<IPython.core.display.Math object>"
      ]
     },
     "metadata": {},
     "output_type": "display_data"
    },
    {
     "name": "stdout",
     "output_type": "stream",
     "text": [
      "####################\n",
      "P1 = 0.5, P2 = 0.3\n"
     ]
    },
    {
     "data": {
      "text/latex": [
       "$\\displaystyle \\text{Střední hodnota } EX = 0.8$"
      ],
      "text/plain": [
       "<IPython.core.display.Math object>"
      ]
     },
     "metadata": {},
     "output_type": "display_data"
    },
    {
     "name": "stdout",
     "output_type": "stream",
     "text": [
      "####################\n",
      "P1 = 0.5, P2 = 0.4\n"
     ]
    },
    {
     "data": {
      "text/latex": [
       "$\\displaystyle \\text{Střední hodnota } EX = 0.9$"
      ],
      "text/plain": [
       "<IPython.core.display.Math object>"
      ]
     },
     "metadata": {},
     "output_type": "display_data"
    },
    {
     "name": "stdout",
     "output_type": "stream",
     "text": [
      "####################\n",
      "P1 = 0.5, P2 = 0.5\n"
     ]
    },
    {
     "data": {
      "text/latex": [
       "$\\displaystyle \\text{Střední hodnota } EX = 1$"
      ],
      "text/plain": [
       "<IPython.core.display.Math object>"
      ]
     },
     "metadata": {},
     "output_type": "display_data"
    },
    {
     "name": "stdout",
     "output_type": "stream",
     "text": [
      "####################\n"
     ]
    }
   ],
   "source": [
    "for i in range(5):\n",
    "    for j in range(5):\n",
    "        P1 = round(0.1 + i * 0.1, 1)\n",
    "        P2  = round(0.1 + j * 0.1, 1)\n",
    "        print(f\"P1 = {P1}, P2 = {P2}\")\n",
    "        display(Math(\"\\\\text{Střední hodnota } EX = %g\" %stredHod(P1, P2)))\n",
    "        print(\"#\" * 20)"
   ]
  },
  {
   "cell_type": "markdown",
   "metadata": {
    "heading_collapsed": true
   },
   "source": [
    "# Rozdělení pravděpodobnosti DNV"
   ]
  },
  {
   "cell_type": "markdown",
   "metadata": {
    "heading_collapsed": true,
    "hidden": true
   },
   "source": [
    "## Příklad (Moodle)"
   ]
  },
  {
   "cell_type": "markdown",
   "metadata": {
    "hidden": true
   },
   "source": [
    "Předpokládejme, že pravděpodobnost narození dívky je rovna číslu \\(p = 0,49.\\)\n",
    "Jaká je pravděpodobnost, že v rodině s 8 dětmi jsou právě 3 dívky ?"
   ]
  },
  {
   "cell_type": "markdown",
   "metadata": {
    "heading_collapsed": true,
    "hidden": true
   },
   "source": [
    "### Řešení"
   ]
  },
  {
   "cell_type": "markdown",
   "metadata": {
    "hidden": true
   },
   "source": [
    "Označme jako \\(X\\) počet dívek narozených v rodině. \\(X\\) lze považovat za náhodnou proměnnou. Tato náhodná proměnná má binomické rozdělení pravděpodobnosti.\n",
    "Platí tedy, že \n",
    "\\[\n",
    "P(X=k) = \\binom{8}{k} p^k(1-p)^{8-k}\n",
    "\\]"
   ]
  },
  {
   "cell_type": "code",
   "execution_count": 10,
   "metadata": {
    "hidden": true
   },
   "outputs": [
    {
     "data": {
      "text/latex": [
       "$\\displaystyle 0.22$"
      ],
      "text/plain": [
       "0.22"
      ]
     },
     "execution_count": 10,
     "metadata": {},
     "output_type": "execute_result"
    }
   ],
   "source": [
    "def prob(p, k):\n",
    "    return sym.binomial(8, k) * p**k * (1 - p)**(8 - k)\n",
    "prob(0.5, 3).round(2)"
   ]
  },
  {
   "cell_type": "code",
   "execution_count": 11,
   "metadata": {
    "hidden": true
   },
   "outputs": [
    {
     "data": {
      "text/latex": [
       "$\\displaystyle 56 p^{3} \\left(1 - p\\right)^{5}$"
      ],
      "text/plain": [
       "56*p**3*(1 - p)**5"
      ]
     },
     "execution_count": 11,
     "metadata": {},
     "output_type": "execute_result"
    }
   ],
   "source": [
    "p, k = sym.symbols('p k')\n",
    "prob(p, 3)"
   ]
  },
  {
   "cell_type": "code",
   "execution_count": 18,
   "metadata": {
    "hidden": true
   },
   "outputs": [
    {
     "data": {
      "text/latex": [
       "$\\displaystyle 0.21875$"
      ],
      "text/plain": [
       "0.218750000000000"
      ]
     },
     "execution_count": 18,
     "metadata": {},
     "output_type": "execute_result"
    }
   ],
   "source": [
    "prob(0.5, 3)"
   ]
  },
  {
   "cell_type": "markdown",
   "metadata": {
    "heading_collapsed": true
   },
   "source": [
    "# Rozptyl diskrétní náhodné veličiny"
   ]
  },
  {
   "cell_type": "markdown",
   "metadata": {
    "hidden": true
   },
   "source": [
    "## Příklad (zatím bez řešení)"
   ]
  },
  {
   "cell_type": "markdown",
   "metadata": {
    "hidden": true
   },
   "source": [
    " V dílně pracují dva stroje (nezávisle na sobě). První stroj se porouchá s pravděpodobností {P1}. Pravděpodobnost poruchy druhého stroje je {P2}. Náhodná veličina X bude označovat počet porouchaných strojů v dílně. Určete pak rozptyl \\(DX\\).\n",
    "Výsledek uveďte ve tvaru desetinného čísla s přesností na setiny !"
   ]
  },
  {
   "cell_type": "markdown",
   "metadata": {
    "hidden": true
   },
   "source": [
    " ### Řešení"
   ]
  },
  {
   "cell_type": "code",
   "execution_count": null,
   "metadata": {
    "hidden": true
   },
   "outputs": [],
   "source": []
  },
  {
   "cell_type": "markdown",
   "metadata": {},
   "source": [
    "# Střední hodnota spojité náhodné veličiny"
   ]
  },
  {
   "cell_type": "markdown",
   "metadata": {},
   "source": [
    "## Příklad (Moodle)"
   ]
  },
  {
   "cell_type": "markdown",
   "metadata": {},
   "source": [
    "Najděte střední hodnotu \\(EX\\) náhodné veličiny \\(X\\), jejíž hustota pravděpodobnosti  \\(f(x)\\) má předpis:\n",
    "\\(f(x) = 2-2x\\) pro \\(x\\in\\langle 0,1\\rangle\\) a \\(f(x) = 0\\) pro \\(x \\notin\\langle 0,1\\rangle.\\)"
   ]
  },
  {
   "cell_type": "markdown",
   "metadata": {},
   "source": [
    "### Řešení."
   ]
  },
  {
   "cell_type": "markdown",
   "metadata": {},
   "source": [
    "`Řešení`(Jirásek III, str. 272):\n",
    "\\(EX = \\int_{-\\infty}^{\\infty}xf(x) = 1/3 \\approx 0,33.\\)"
   ]
  },
  {
   "cell_type": "markdown",
   "metadata": {
    "heading_collapsed": true
   },
   "source": [
    "# Transformace náhodné veličiny"
   ]
  },
  {
   "cell_type": "markdown",
   "metadata": {
    "hidden": true
   },
   "source": [
    "## Příklad"
   ]
  },
  {
   "cell_type": "code",
   "execution_count": 64,
   "metadata": {
    "hidden": true
   },
   "outputs": [],
   "source": [
    "## Příklad\n",
    "\n",
    "from IPython.display import HTML, display, Math, Latex\n",
    "import sympy as sym"
   ]
  },
  {
   "cell_type": "markdown",
   "metadata": {
    "hidden": true
   },
   "source": [
    "Náhodná veličina $X$ je určena tabulkou rozdělení pravděpodobností. Určete střední hodnotu náhodné veličiny $X$ a náhodné veličiny $Y$ definované vztahem $Y = kX^2 - 1.$ \n",
    "<table>\n",
    "<tr>\n",
    "    <th>$x_i$</th>\n",
    "    <th>0</th>\n",
    "    <th>2</th>\n",
    "    <th>4</th>\n",
    "    <th>6</th>\n",
    "</tr>\n",
    "<tr>\n",
    "    <th>$p(x_i)$</th>\n",
    "    <th>0.2</th>\n",
    "    <th>0.3</th>\n",
    "    <th>0.4</th>\n",
    "    <th>0.1</th>\n",
    "</tr>\n",
    "</table>"
   ]
  },
  {
   "cell_type": "code",
   "execution_count": 60,
   "metadata": {
    "hidden": true
   },
   "outputs": [
    {
     "data": {
      "text/latex": [
       "$\\displaystyle EX = \\sum_{i=1}^{4} x_ip(x_i) =  2.8$"
      ],
      "text/plain": [
       "<IPython.core.display.Math object>"
      ]
     },
     "metadata": {},
     "output_type": "display_data"
    }
   ],
   "source": [
    "### Řešení\n",
    "\n",
    "import numpy as np\n",
    "x = np.array([0, 2, 4, 6])\n",
    "p = np.array([0.2, 0.3, 0.4, 0.1])\n",
    "EX = np.dot(x, p)\n",
    "display(Math(\"EX = \\\\sum_{i=1}^{%g} x_ip(x_i) =  %g\" %(len(x),EX)))"
   ]
  },
  {
   "cell_type": "markdown",
   "metadata": {
    "hidden": true
   },
   "source": [
    "K výpočtu střední hodnoty n.v. $Y$ využijeme vlastnost (7) z Věty 1.\n",
    "Pak totiž máme:\n",
    "$$\n",
    "EY = E(4X^2 -1)= 4EX^2 -E1 = 4EX^2 - 1.\n",
    "$$"
   ]
  },
  {
   "cell_type": "code",
   "execution_count": 67,
   "metadata": {
    "hidden": true
   },
   "outputs": [
    {
     "data": {
      "text/latex": [
       "$\\displaystyle EX^2 = \\sum_{i=1}^{4}        x_i^2\\cdot p(x_i) =  11.2$"
      ],
      "text/plain": [
       "<IPython.core.display.Math object>"
      ]
     },
     "metadata": {},
     "output_type": "display_data"
    },
    {
     "name": "stdout",
     "output_type": "stream",
     "text": [
      "A dále pokračujeme ve výpočtu: \n"
     ]
    },
    {
     "data": {
      "image/png": "[encoded data removed]",
      "text/latex": [
       "$\\displaystyle 11.2 k - 1$"
      ],
      "text/plain": [
       "11.2⋅k - 1"
      ]
     },
     "metadata": {},
     "output_type": "display_data"
    }
   ],
   "source": [
    "k = sym.symbols('k')\n",
    "E = np.dot(x**2, p)\n",
    "display(Math(\"EX^2 = \\\\sum_{i=1}^{%g}\\\n",
    "        x_i^2\\\\cdot p(x_i) =  %g\" %(len(x),E)))\n",
    "print(\"A dále pokračujeme ve výpočtu: \")\n",
    "EY = k * E - 1\n",
    "display(EY)\n",
    "# display(Math(\"EY = 4EX^2 - 1 = 4\\\\cdot %g - 1= %g\" %(E, EY)))"
   ]
  },
  {
   "cell_type": "code",
   "execution_count": 1,
   "metadata": {
    "hidden": true
   },
   "outputs": [
    {
     "data": {
      "text/plain": [
       "99.8"
      ]
     },
     "execution_count": 1,
     "metadata": {},
     "output_type": "execute_result"
    }
   ],
   "source": [
    "round(11.2 * 9 - 1, 2)"
   ]
  },
  {
   "cell_type": "markdown",
   "metadata": {
    "heading_collapsed": true
   },
   "source": [
    "# Čebyševova nerovnost"
   ]
  },
  {
   "cell_type": "markdown",
   "metadata": {
    "hidden": true
   },
   "source": [
    "## Příklad"
   ]
  },
  {
   "cell_type": "markdown",
   "metadata": {
    "hidden": true
   },
   "source": [
    "Hážeme dvěma hracími kostkami. Určete rozdělení pravděpodobnosti součtu hozených bodů a modus."
   ]
  },
  {
   "cell_type": "markdown",
   "metadata": {
    "hidden": true
   },
   "source": [
    "## Příklad (Moodle)"
   ]
  },
  {
   "cell_type": "markdown",
   "metadata": {
    "hidden": true
   },
   "source": [
    "Uvažujme náhodnou veličinu \\(X\\) jejíž střední hodnota je \\(EX = 8\\) a disperze je \\(DX = 5.\\) Rozhodněte, zdali je pravda, že \\(P(\\{X\\in (5,11)\\})\\) je větší než \\(0,4\\)."
   ]
  },
  {
   "cell_type": "code",
   "execution_count": 1,
   "metadata": {
    "hidden": true
   },
   "outputs": [
    {
     "data": {
      "text/plain": [
       "0.4444444444444444"
      ]
     },
     "execution_count": 1,
     "metadata": {},
     "output_type": "execute_result"
    }
   ],
   "source": [
    "4/9"
   ]
  },
  {
   "cell_type": "markdown",
   "metadata": {
    "heading_collapsed": true
   },
   "source": [
    "# Centrální limitní věta"
   ]
  },
  {
   "cell_type": "code",
   "execution_count": null,
   "metadata": {
    "hidden": true
   },
   "outputs": [],
   "source": []
  }
 ],
 "metadata": {
  "kernelspec": {
   "display_name": "Python 3",
   "language": "python",
   "name": "python3"
  },
  "language_info": {
   "codemirror_mode": {
    "name": "ipython",
    "version": 3
   },
   "file_extension": ".py",
   "mimetype": "text/x-python",
   "name": "python",
   "nbconvert_exporter": "python",
   "pygments_lexer": "ipython3",
   "version": "3.6.10"
  },
  "latex_envs": {
   "LaTeX_envs_menu_present": true,
   "autoclose": false,
   "autocomplete": true,
   "bibliofile": "biblio.bib",
   "cite_by": "apalike",
   "current_citInitial": 1,
   "eqLabelWithNumbers": true,
   "eqNumInitial": 1,
   "hotkeys": {
    "equation": "Ctrl-E",
    "itemize": "Ctrl-I"
   },
   "labels_anchors": false,
   "latex_user_defs": false,
   "report_style_numbering": false,
   "user_envs_cfg": false
  },
  "toc": {
   "base_numbering": 1,
   "nav_menu": {},
   "number_sections": true,
   "sideBar": true,
   "skip_h1_title": false,
   "title_cell": "Table of Contents",
   "title_sidebar": "Contents",
   "toc_cell": false,
   "toc_position": {
    "height": "calc(100% - 180px)",
    "left": "10px",
    "top": "150px",
    "width": "232.06521606445312px"
   },
   "toc_section_display": true,
   "toc_window_display": true
  }
 },
 "nbformat": 4,
 "nbformat_minor": 2
}

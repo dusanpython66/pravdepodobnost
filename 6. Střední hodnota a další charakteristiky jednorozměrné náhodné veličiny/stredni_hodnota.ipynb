{
 "cells": [
  {
   "cell_type": "markdown",
   "metadata": {},
   "source": [
    "# Střední hodnota náhodné veličiny"
   ]
  },
  {
   "cell_type": "markdown",
   "metadata": {},
   "source": [
    "## Definice střední hodnoty"
   ]
  },
  {
   "cell_type": "markdown",
   "metadata": {},
   "source": [
    "**Definice**\n",
    "Nechť $X$ je náhodná veličina. **Střední hodnotou náhodné veličiny $X$** budeme nazývat číslo\n",
    "$EX$, definované vztahem:\n",
    "$$\n",
    "EX = \\sum_i x_ip_(x_i) \\ \\ \\ \\  \\text{pro diskrétní n.v.}  \n",
    "$$\n",
    "$$\n",
    "EX = \\int_{-\\infty}^{\\infty} xf(x)dx \\ \\ \\ \\text{pro spojitou náhodnou n.v.}  \n",
    "$$\n",
    "**Rozptylem (disperzí)** náhodné veličiny $X$ rozumíme číslo:\n",
    "$$\n",
    "DX = E[(X-EX)^2].\n",
    "$$\n",
    "\n",
    "\n"
   ]
  },
  {
   "cell_type": "markdown",
   "metadata": {},
   "source": [
    "## Vlastnosti střední hodnoty"
   ]
  },
  {
   "cell_type": "markdown",
   "metadata": {},
   "source": [
    "**Věta.**\n",
    "\n",
    "(a) Nechť $k$ je konstanta a $X = k$, potom\n",
    "$$\n",
    "EX = Ek = k,\\ \\ \\ E(kX) = k\\cdot EX.\n",
    "$$\n",
    "(b) Jsou-li $X,Y$ dvě náhodné veličiny, pak platí: \n",
    "$$\n",
    "E(X+Y) = EX + EY.\n",
    "$$\n",
    "(c) Nechť $X_1,\\ldots,X_n$ jsou náhodné veličiny. Potom platí:\n",
    "$$\n",
    "E(X_1 + X_2 +\\ldots + X_n) = EX_1 + EX_2 +\\ldots + EX_n.\n",
    "$$\n",
    "(d) Nechť $X_1,\\ldots,X_n$ je libovolná n-tice nahodných veličin, nechť\n",
    "$k_1,k_2,\\ldots,k_n,b$ jsou libovolné konstanty a $n\\in\\mathbb N.$ Potom platí:\n",
    "$$\n",
    "E(\\sum_{i=1}^n k_i X_i + b) = \\sum_{i=1}^n k_i EX_i + b.\n",
    "$$\n",
    "(e) Jsou-li $Y,Y$ dvě nezávislé náhodné veličiny, pak platí:\n",
    "$$\n",
    "E(XY) = EX\\cdot EY.\n",
    "$$\n",
    "Jsou-li $X_1,\\ldots,X_n$ nezávislé náhodné veličiny a $n\\in\\mathbb N,$ potom platí:\n",
    "$$\n",
    "    E(\\prod_{i=1}^n X_i) = \\prod_{i=1}^n EX_i.\n",
    "$$\n",
    "\n"
   ]
  },
  {
   "cell_type": "markdown",
   "metadata": {},
   "source": [
    "## Příklad"
   ]
  },
  {
   "cell_type": "code",
   "execution_count": 15,
   "metadata": {},
   "outputs": [],
   "source": [
    "from IPython.display import HTML, display, Math, Latex"
   ]
  },
  {
   "cell_type": "markdown",
   "metadata": {},
   "source": [
    "Náhodná veličina $X$ je tabulkou rozdělení pravděpodobností. Určete střední hodnotu náhodné veličiny $X$ a náhodné veličiny $Y$ definované vztahem $Y = 4X^2 - 1.$ \n",
    "<table>\n",
    "<tr>\n",
    "    <th>$x_i$</th>\n",
    "    <th>0</th>\n",
    "    <th>2</th>\n",
    "    <th>4</th>\n",
    "    <th>6</th>\n",
    "</tr>\n",
    "<tr>\n",
    "    <th>$p(x_i)$</th>\n",
    "    <th>0.2</th>\n",
    "    <th>0.3</th>\n",
    "    <th>0.4</th>\n",
    "    <th>0.1</th>\n",
    "</tr>\n",
    "</table>"
   ]
  },
  {
   "cell_type": "markdown",
   "metadata": {},
   "source": [
    "### Řešení"
   ]
  },
  {
   "cell_type": "code",
   "execution_count": 30,
   "metadata": {},
   "outputs": [
    {
     "data": {
      "text/latex": [
       "$\\displaystyle EX = \\sum_{i=1}^{4} x_ip(x_i) =  2.8$"
      ],
      "text/plain": [
       "<IPython.core.display.Math object>"
      ]
     },
     "metadata": {},
     "output_type": "display_data"
    }
   ],
   "source": [
    "import numpy as np\n",
    "x = np.array([0, 2, 4, 6])\n",
    "p = np.array([0.2, 0.3, 0.4, 0.1])\n",
    "EX = np.dot(x, p)\n",
    "display(Math(\"EX = \\\\sum_{i=1}^{%g} x_ip(x_i) =  %g\" %(len(x),EX)))"
   ]
  },
  {
   "cell_type": "markdown",
   "metadata": {},
   "source": [
    "K výpočtu střední hodnoty n.v. $Y$ využijeme vlastnost (7) z Věty 1.\n",
    "Pak totiž máme:\n",
    "$$\n",
    "EY = E(4X^2 -1)= 4EX^2 -E1 = 4EX^2 - 1.\n",
    "$$"
   ]
  },
  {
   "cell_type": "code",
   "execution_count": 31,
   "metadata": {},
   "outputs": [
    {
     "data": {
      "text/latex": [
       "$\\displaystyle EX^2 = \\sum_{i=1}^{4}        x_i^2\\cdot p(x_i) =  11.2$"
      ],
      "text/plain": [
       "<IPython.core.display.Math object>"
      ]
     },
     "metadata": {},
     "output_type": "display_data"
    },
    {
     "name": "stdout",
     "output_type": "stream",
     "text": [
      "A dále pokračujeme ve výpočtu: \n"
     ]
    },
    {
     "data": {
      "text/latex": [
       "$\\displaystyle EY = 4EX^2 - 1 = 4\\cdot 11.2 - 1= 43.8$"
      ],
      "text/plain": [
       "<IPython.core.display.Math object>"
      ]
     },
     "metadata": {},
     "output_type": "display_data"
    }
   ],
   "source": [
    "E = np.dot(x**2, p)\n",
    "display(Math(\"EX^2 = \\\\sum_{i=1}^{%g}\\\n",
    "        x_i^2\\\\cdot p(x_i) =  %g\" %(len(x),E)))\n",
    "print(\"A dále pokračujeme ve výpočtu: \")\n",
    "EY = 4 * E - 1\n",
    "display(Math(\"EY = 4EX^2 - 1 = 4\\\\cdot %g - 1= %g\" %(E, EY)))"
   ]
  },
  {
   "cell_type": "markdown",
   "metadata": {},
   "source": [
    "## Příklad"
   ]
  },
  {
   "cell_type": "markdown",
   "metadata": {},
   "source": [
    "Při hře Člověče, nezlob se může hráč nasadit první figuru na hrací pole až tehdy, když mu padne na hrací kostce šestka. Definujme náhodnou veličinu tak, aby vyjadřovala počet provedených hodů do zahájení hry a vypočítejte střední hodnotu této náhodné veličiny."
   ]
  },
  {
   "cell_type": "markdown",
   "metadata": {},
   "source": [
    "### Řešení"
   ]
  },
  {
   "cell_type": "markdown",
   "metadata": {},
   "source": [
    "Náhodná veličina $X$ nabývá hodnot $1,2,3,\\ldots$ \n",
    "Nejdříve vypočítáme pravděpodobnosti pro jednotlivé hodnoty:\n",
    "$P(\\{X=k\\}) = (5/6)^{k-1}\\cdot (1/6), k = 1, 2, 3,\\ldots$\n",
    "$$\n",
    "EX = \\sum_{i=1}^{\\infty} x_ip(x_i)\n",
    "$$"
   ]
  },
  {
   "cell_type": "code",
   "execution_count": 47,
   "metadata": {},
   "outputs": [
    {
     "data": {
      "image/png": "[encoded data removed]",
      "text/latex": [
       "$\\displaystyle 5.9927476019382695$"
      ],
      "text/plain": [
       "5.9927476019382695"
      ]
     },
     "execution_count": 47,
     "metadata": {},
     "output_type": "execute_result"
    }
   ],
   "source": [
    "######### Zde je hlavička ################\n",
    "import sympy as sym \n",
    "from sympy.plotting import plot3d\n",
    "from IPython.display import Math, display, Latex\n",
    "import numpy as np\n",
    "sym.init_printing()\n",
    "# Numericky sečteme částečnou sumu (12)\n",
    "def s(n):\n",
    "    x = np.array([i for i in range(n)])\n",
    "    p = np.array([(5/6)**(i - 1) * (1/6) for i in range(n)])\n",
    "    EX = np.dot(x, p)\n",
    "    return EX\n",
    "s(50)\n"
   ]
  },
  {
   "cell_type": "code",
   "execution_count": 65,
   "metadata": {},
   "outputs": [
    {
     "data": {
      "text/latex": [
       "$\\displaystyle \\text{Častečný součet je roven sumě: }              s_n = \\sum_{i=1}^n             x_ip(x_i) = \\sum_{i=1}^{n} \\frac{\\left(\\frac{5}{6}\\right)^{i - 1} i}{6}$"
      ],
      "text/plain": [
       "<IPython.core.display.Math object>"
      ]
     },
     "metadata": {},
     "output_type": "display_data"
    },
    {
     "data": {
      "text/latex": [
       "$\\displaystyle s_n = \\sum_{i=1}^{n} \\frac{\\left(\\frac{5}{6}\\right)^{i - 1} i}{6}  = 6^{- n} \\left(- 5^{n} n - 6 \\cdot 5^{n} + 6^{n + 1}\\right)$"
      ],
      "text/plain": [
       "<IPython.core.display.Math object>"
      ]
     },
     "metadata": {},
     "output_type": "display_data"
    },
    {
     "data": {
      "text/latex": [
       "$\\displaystyle EX = \\lim_{n\\to\\infty}              (\\sum_{i=1}^{n} \\frac{\\left(\\frac{5}{6}\\right)^{i - 1} i}{6}) = 6.$"
      ],
      "text/plain": [
       "<IPython.core.display.Math object>"
      ]
     },
     "metadata": {},
     "output_type": "display_data"
    }
   ],
   "source": [
    "x_i = i\n",
    "p_i = sym.Rational(5,6)**(i - 1) * sym.Rational(1,6)\n",
    "suma = sym.Sum(x_i * p_i, (i, 1, n))\n",
    "display(Math(\"\\\\text{Častečný součet je roven sumě: }\\\n",
    "              s_n = \\\\sum_{i=1}^n\\\n",
    "             x_ip(x_i) = %s\" %sym.latex(suma)))\n",
    "sn = suma.doit()\n",
    "display(Math(\"s_n = %s  = %s\"\\\n",
    "             %(sym.latex(suma), sym.latex(suma.doit().simplify()))))\n",
    "EX = sym.limit_seq(sn)\n",
    "display(Math(\"EX = \\\\lim_{n\\\\to\\infty}\\\n",
    "              (%s) = %s.\" %(sym.latex(suma), EX)))"
   ]
  },
  {
   "cell_type": "markdown",
   "metadata": {},
   "source": [
    "## Příklad"
   ]
  },
  {
   "cell_type": "markdown",
   "metadata": {},
   "source": [
    "Vypočtěte disperzi(rozptyl) náhodné veličiny $X$ z předchozího příkladu. **Disperzi** spočítáme podle vzorce:\n",
    "$$\n",
    "DX = EX^2 -(EX)^2.\n",
    "$$"
   ]
  },
  {
   "cell_type": "markdown",
   "metadata": {},
   "source": [
    "### Řešení"
   ]
  },
  {
   "cell_type": "markdown",
   "metadata": {},
   "source": [
    "Spočítejme nejdříve střední hodnotu $EX^2.$"
   ]
  },
  {
   "cell_type": "code",
   "execution_count": 67,
   "metadata": {},
   "outputs": [
    {
     "data": {
      "image/png": "[encoded data removed]",
      "text/latex": [
       "$\\displaystyle \\sum_{i=1}^{n} \\frac{\\left(\\frac{5}{6}\\right)^{i - 1} i^{2}}{6}$"
      ],
      "text/plain": [
       "  n              \n",
       " ____            \n",
       " ╲               \n",
       "  ╲      i - 1  2\n",
       "   ╲  5/6     ⋅i \n",
       "   ╱  ───────────\n",
       "  ╱        6     \n",
       " ╱               \n",
       " ‾‾‾‾            \n",
       "i = 1            "
      ]
     },
     "metadata": {},
     "output_type": "display_data"
    },
    {
     "data": {
      "image/png": "[encoded data removed]",
      "text/latex": [
       "$\\displaystyle - \\left(\\frac{5}{6}\\right)^{n} n^{2} - 12 \\left(\\frac{5}{6}\\right)^{n} n - 66 \\left(\\frac{5}{6}\\right)^{n} + 66$"
      ],
      "text/plain": [
       "     n  2         n           n     \n",
       "- 5/6 ⋅n  - 12⋅5/6 ⋅n - 66⋅5/6  + 66"
      ]
     },
     "metadata": {},
     "output_type": "display_data"
    },
    {
     "data": {
      "image/png": "[encoded data removed]",
      "text/latex": [
       "$\\displaystyle 66$"
      ],
      "text/plain": [
       "66"
      ]
     },
     "metadata": {},
     "output_type": "display_data"
    },
    {
     "data": {
      "text/latex": [
       "$\\displaystyle EX^2 = \\sum_{i=1}^{\\infty}x_i^2p(x_i) =               \\lim_n(\\sum_{i=1}^{n} \\frac{\\left(\\frac{5}{6}\\right)^{i - 1} i^{2}}{6}) = 66$"
      ],
      "text/plain": [
       "<IPython.core.display.Math object>"
      ]
     },
     "metadata": {},
     "output_type": "display_data"
    }
   ],
   "source": [
    "suma2 = sym.Sum(x_i**2 * p_i, (i, 1, n))\n",
    "s_2n = suma2.doit()\n",
    "display(suma2)\n",
    "display(s_2n)\n",
    "EX2 = sym.limit_seq(s_2n)\n",
    "display(EX2)\n",
    "display(Math(\"EX^2 = \\\\sum_{i=1}^{\\infty}x_i^2p(x_i) = \\\n",
    "              \\\\lim_n(%s) = %s\" %(sym.latex(suma2),EX2)))"
   ]
  },
  {
   "cell_type": "markdown",
   "metadata": {},
   "source": [
    "Nyní dosaďme do vzorce (13):"
   ]
  },
  {
   "cell_type": "code",
   "execution_count": 68,
   "metadata": {},
   "outputs": [
    {
     "data": {
      "text/latex": [
       "$\\displaystyle DX = EX^2 -(EX)^2 = 66 - (6)^2 =               30.$"
      ],
      "text/plain": [
       "<IPython.core.display.Math object>"
      ]
     },
     "metadata": {},
     "output_type": "display_data"
    }
   ],
   "source": [
    "DX = EX2 - (EX)**2\n",
    "display(Math(\"DX = EX^2 -(EX)^2 = %g - (%g)^2 = \\\n",
    "              %g.\" %(EX2, EX, DX)))\n"
   ]
  },
  {
   "cell_type": "markdown",
   "metadata": {},
   "source": [
    "## Příklad"
   ]
  },
  {
   "cell_type": "markdown",
   "metadata": {},
   "source": [
    "Uvažujme náhodnou veličinu $X$, která má hustotu pravděpodobnosti danou předpisem:\n",
    "\n",
    "\\[\n",
    "    f(x)=\n",
    "    \\begin{cases}\n",
    "        \\frac{-1}{12}(x^2 -5),\\ \\ \\ x\\in\\langle -1,2\\rangle\\\\\n",
    "        0,\\ \\ \\ x\\notin\\langle -1,2\\rangle.\n",
    "    \\end{cases}\n",
    "\\]\n",
    "(a) Nakreslete graf hustoty pravděpodobnosti a distribuční funkce.\n",
    "\n",
    "(b) Spočítejme střední hodnotu n.v. X.\n",
    "\n",
    "(c) Spočítejme modus a medián n.v. $X.$"
   ]
  },
  {
   "cell_type": "markdown",
   "metadata": {},
   "source": [
    "### Řešení"
   ]
  },
  {
   "cell_type": "code",
   "execution_count": 70,
   "metadata": {},
   "outputs": [
    {
     "data": {
      "image/png": "[encoded data removed]",
      "text/plain": [
       "<Figure size 432x288 with 1 Axes>"
      ]
     },
     "metadata": {
      "needs_background": "light"
     },
     "output_type": "display_data"
    }
   ],
   "source": [
    "x = sym.symbols('x')\n",
    "y1 = 0\n",
    "y2 = (-1/12) * (x**2 - 5)\n",
    "y3 = 0\n",
    "p = sym.plotting.plot(y2,(x,-1,2),show=False )\n",
    "# p[0].label = '$%s$'%y\n",
    "p.extend( sym.plotting.plot(y1,(x,-5,-1),show=False ) )\n",
    "p[1].line_color = \"r\"\n",
    "p.extend( sym.plotting.plot(y3,(x,2,5),show=False ) )\n",
    "p[2].line_color = \"g\"\n",
    "# p.legend = True\n",
    "p.title = \"Graf hustoty pravděpodobnosti\"\n",
    "p.show()"
   ]
  },
  {
   "cell_type": "markdown",
   "metadata": {},
   "source": [
    "Nyní hledejme přepis distribuční funkce $F_X$ n.v. X.\n",
    "Zjistíme, že \n",
    "$$\n",
    "    F_X(x) = \n",
    "    \\begin{cases}\n",
    "        0,                        \\ \\ \\ x\\in (-\\infty,-1\\rangle\\\\\n",
    "        \\frac{-1}{36}(x^3-15x-14),\\ \\ \\ x\\in(-1,2\\rangle\\\\\n",
    "        1,                        \\ \\ \\ x\\in(2,\\infty).\n",
    "    \\end{cases}\n",
    "$$\n",
    "Zde jak víme platí:\n",
    "$$\n",
    "F_X(x) = \\int_{-\\infty}^x f(t)dt\n",
    "$$\n",
    "a skoro všude platí, že $F_X'(x) = f(x).$"
   ]
  },
  {
   "cell_type": "code",
   "execution_count": 71,
   "metadata": {},
   "outputs": [
    {
     "data": {
      "image/png": "[encoded data removed]",
      "text/plain": [
       "<Figure size 432x288 with 1 Axes>"
      ]
     },
     "metadata": {
      "needs_background": "light"
     },
     "output_type": "display_data"
    }
   ],
   "source": [
    "x = sym.symbols('x')\n",
    "y1 = 0\n",
    "y2 = (-1/36) * (x**3 - 15 * x -14)\n",
    "y3 = 1\n",
    "p = sym.plotting.plot(y2,(x,-1,2),show=False )\n",
    "# p[0].label = '$%s$'%y\n",
    "p.extend( sym.plotting.plot(y1,(x,-5,-1),show=False ) )\n",
    "p[1].line_color = \"r\"\n",
    "p.extend( sym.plotting.plot(y3,(x,2,5),show=False ) )\n",
    "p[2].line_color = \"g\"\n",
    "# p.legend = True\n",
    "p.title = \"Graf distribuční funkce F_X\"\n",
    "p.show()"
   ]
  },
  {
   "cell_type": "markdown",
   "metadata": {},
   "source": [
    "(b) Spočítejme střední hodnotu n.v. X."
   ]
  },
  {
   "cell_type": "markdown",
   "metadata": {},
   "source": [
    "$$\n",
    "EX = \\int_{-\\infty}^{\\infty} x\\cdot f(x)dx = \\int_{-\\infty}^{-1}x\\cdot 0dx + \\int_{-1}^2 x\\cdot\\frac{-1}{12}(x^2-5)dx + \\int_2^{\\infty} x\\cdot 0dx\n",
    "$$"
   ]
  },
  {
   "cell_type": "code",
   "execution_count": 72,
   "metadata": {},
   "outputs": [
    {
     "data": {
      "text/latex": [
       "$\\displaystyle EX  = 0 + \\int_{-1}^2 x\\cdot\\frac{-1}{12}(x^2-5)dx                + 0 = 0.3125.$"
      ],
      "text/plain": [
       "<IPython.core.display.Math object>"
      ]
     },
     "metadata": {},
     "output_type": "display_data"
    }
   ],
   "source": [
    "EX = 0 + sym.integrate(x * (-1/12) * (x**2 - 5), (x, -1, 2)) + 0\n",
    "display(Math(\"EX  = 0 + \\int_{-1}^2 x\\\\cdot\\\\frac{-1}{12}(x^2-5)dx\\\n",
    "                + 0 = %g.\" %EX))"
   ]
  },
  {
   "cell_type": "markdown",
   "metadata": {},
   "source": [
    "(c) Spočítejme nyní modus a medián n.v. $X.$\n",
    "Pro spojitou n.v. $X$ definujeme **medián** jako číslo $m_e$ splňující podmínku:\n",
    "\\begin{equation}\\label{eq: median}\n",
    "F_X(x) = 0.5\n",
    "\\end{equation}\n"
   ]
  },
  {
   "cell_type": "markdown",
   "metadata": {},
   "source": [
    "  Řešme proto rovnici:"
   ]
  },
  {
   "cell_type": "code",
   "execution_count": 23,
   "metadata": {},
   "outputs": [
    {
     "data": {
      "text/latex": [
       "$\\displaystyle - 0.0277777777777778 x^{3} + 0.416666666666667 x + 0.388888888888889 = 0.5$"
      ],
      "text/plain": [
       "Eq(-0.0277777777777778*x**3 + 0.416666666666667*x + 0.388888888888889, 0.5)"
      ]
     },
     "metadata": {},
     "output_type": "display_data"
    },
    {
     "data": {
      "text/plain": [
       "[-4.00000000000000, 0.267949192431123, 3.73205080756888]"
      ]
     },
     "execution_count": 23,
     "metadata": {},
     "output_type": "execute_result"
    }
   ],
   "source": [
    "from sympy import *\n",
    "x = symbols('x') \n",
    "eq = Eq(S(-1/36) * (x**3 - 15 * x - 14), S(1/2))\n",
    "display(eq)\n",
    "solve(eq, domain = S.Reals )"
   ]
  },
  {
   "cell_type": "markdown",
   "metadata": {},
   "source": [
    "Mediánem je bod \\(m_e \\approx 0.2679.\\)"
   ]
  },
  {
   "cell_type": "markdown",
   "metadata": {},
   "source": [
    "   Zbývá určit **modus** n.v. X.\n",
    "   Hledejme maximum funkce \\(f_X(x)\\) na intervalu \\((-1,2)\\)."
   ]
  },
  {
   "cell_type": "markdown",
   "metadata": {},
   "source": [
    " Budeme derivovat funkci: \\(f_X(x)\\):\n"
   ]
  },
  {
   "cell_type": "code",
   "execution_count": 25,
   "metadata": {},
   "outputs": [
    {
     "data": {
      "text/latex": [
       "$\\displaystyle - 0.166666666666667 x$"
      ],
      "text/plain": [
       "-0.166666666666667*x"
      ]
     },
     "metadata": {},
     "output_type": "display_data"
    }
   ],
   "source": [
    "f_X = (-1/12) * (x**2 - 5)  \n",
    "Df_X = diff(f_X, x)\n",
    "display(Df_X)"
   ]
  },
  {
   "cell_type": "markdown",
   "metadata": {},
   "source": [
    "Hledejme nulový bod 1. derivace v intervalu \\((-1,2)\\)."
   ]
  },
  {
   "cell_type": "code",
   "execution_count": 28,
   "metadata": {},
   "outputs": [
    {
     "data": {
      "text/latex": [
       "$\\displaystyle 0.0$"
      ],
      "text/plain": [
       "0.0"
      ]
     },
     "metadata": {},
     "output_type": "display_data"
    }
   ],
   "source": [
    "nulBod = solve(Df_X)[0]\n",
    "display(nulBod)"
   ]
  },
  {
   "cell_type": "markdown",
   "metadata": {},
   "source": [
    "Funkční hodnota hustoty pravděpodobnosti je \\(f_X(0) = 5/12.\\)\n",
    "Modus je roven číslu 0."
   ]
  },
  {
   "cell_type": "code",
   "execution_count": null,
   "metadata": {},
   "outputs": [],
   "source": []
  }
 ],
 "metadata": {
  "kernelspec": {
   "display_name": "Python 3",
   "language": "python",
   "name": "python3"
  },
  "language_info": {
   "codemirror_mode": {
    "name": "ipython",
    "version": 3
   },
   "file_extension": ".py",
   "mimetype": "text/x-python",
   "name": "python",
   "nbconvert_exporter": "python",
   "pygments_lexer": "ipython3",
   "version": "3.6.9"
  },
  "latex_envs": {
   "LaTeX_envs_menu_present": true,
   "autoclose": false,
   "autocomplete": true,
   "bibliofile": "biblio.bib",
   "cite_by": "apalike",
   "current_citInitial": 1,
   "eqLabelWithNumbers": true,
   "eqNumInitial": 1,
   "hotkeys": {
    "equation": "Ctrl-E",
    "itemize": "Ctrl-I"
   },
   "labels_anchors": false,
   "latex_user_defs": false,
   "report_style_numbering": false,
   "user_envs_cfg": false
  },
  "toc": {
   "base_numbering": 1,
   "nav_menu": {},
   "number_sections": true,
   "sideBar": true,
   "skip_h1_title": false,
   "title_cell": "Table of Contents",
   "title_sidebar": "Contents",
   "toc_cell": false,
   "toc_position": {},
   "toc_section_display": true,
   "toc_window_display": true
  }
 },
 "nbformat": 4,
 "nbformat_minor": 2
}

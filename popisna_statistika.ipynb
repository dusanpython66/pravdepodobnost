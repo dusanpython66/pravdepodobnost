{
  "nbformat": 4,
  "nbformat_minor": 0,
  "metadata": {
    "colab": {
      "name": "popisna-statistika.ipynb",
      "provenance": [],
      "collapsed_sections": [],
      "authorship_tag": "ABX9TyOFtrOBCdJk2sJPp6QflfvY",
      "include_colab_link": true
    },
    "kernelspec": {
      "name": "python3",
      "display_name": "Python 3"
    },
    "language_info": {
      "name": "python"
    }
  },
  "cells": [
    {
      "cell_type": "markdown",
      "metadata": {
        "id": "view-in-github",
        "colab_type": "text"
      },
      "source": [
        "<a href=\"https://colab.research.google.com/github/dusanpython66/pravdepodobnost/blob/main/popisna_statistika.ipynb\" target=\"_parent\"><img src=\"https://colab.research.google.com/assets/colab-badge.svg\" alt=\"Open In Colab\"/></a>"
      ]
    },
    {
      "cell_type": "markdown",
      "source": [
        "# Koláčový a sloupcový graf"
      ],
      "metadata": {
        "id": "rvqrLvugRg_3"
      }
    },
    {
      "cell_type": "markdown",
      "source": [
        "## Příklad 1\n",
        "Předpokládejme, že ve volbách do parlamentu bylo odevzdáno celkem 2,521,879 hlasů a stranu A volilo 612,632 voličů, stranu B volilo 534,852 voličů, stranu C volilo 369,236 voličů, stranu D volilo 316,456 voličů a stranu E volilo 312,839 voličů. Pak lze výsledek prezentovat pomocí tzv. **sloupcového grafu:**"
      ],
      "metadata": {
        "id": "Q98AwIsxucd8"
      }
    },
    {
      "cell_type": "code",
      "source": [
        "###################### Zde je hlavička ####################\n",
        "from math import *\n",
        "import sympy as sym\n",
        "import matplotlib.pyplot as plt\n",
        "from sympy.plotting import plot3d\n",
        "from IPython.display import Math, display, Latex\n",
        "import numpy as np\n",
        "sym.init_printing()\n",
        "###########################################################"
      ],
      "metadata": {
        "id": "V9YNUFqGE7WR"
      },
      "execution_count": null,
      "outputs": []
    },
    {
      "cell_type": "code",
      "source": [
        "celkemVolicu = 2521879\n",
        "strany = [\"A\", \"B\", \"C\", \"D\", \"E\"]\n",
        "numA = 612632 ; numB = 534852; numC = 369236; numD = 316456; numE = 312839\n",
        "suma = numA + numB + numC + numD + numE\n",
        "ostatni = celkemVolicu - suma\n",
        "volici_pocty = [numA, numB, numC, numD, numE, ostatni]\n",
        "procenta = [(numA / celkemVolicu) * 100, (numB / celkemVolicu) * 100, (numC / celkemVolicu) * 100,\n",
        "(numD / celkemVolicu) * 100, (numE / celkemVolicu) * 100, (ostatni / celkemVolicu) * 100]\n",
        "procenta"
      ],
      "metadata": {
        "id": "k_OjX4_ayWNS",
        "colab": {
          "base_uri": "https://localhost:8080/"
        },
        "outputId": "6ca9c8ae-1b7c-4564-c1d4-7e0507330e0b"
      },
      "execution_count": null,
      "outputs": [
        {
          "output_type": "execute_result",
          "data": {
            "text/plain": [
              "[24.292680180135527,\n",
              " 21.208471936996183,\n",
              " 14.641305153815864,\n",
              " 12.548421236704854,\n",
              " 12.404996433215075,\n",
              " 14.904125059132495]"
            ]
          },
          "metadata": {},
          "execution_count": 17
        }
      ]
    },
    {
      "cell_type": "markdown",
      "source": [
        "### Koláčový graf"
      ],
      "metadata": {
        "id": "vJog5_zcO0_p"
      }
    },
    {
      "cell_type": "code",
      "source": [
        "import matplotlib.pyplot as plt\n",
        "import numpy as np\n",
        "\n",
        "y = np.array(procenta)\n",
        "\n",
        "plt.pie(y)\n",
        "plt.show() "
      ],
      "metadata": {
        "colab": {
          "base_uri": "https://localhost:8080/",
          "height": 248
        },
        "id": "BORbfaHgNK4R",
        "outputId": "9e39bbf2-d3f4-410d-dd0b-de0cae3b6b56"
      },
      "execution_count": null,
      "outputs": [
        {
          "output_type": "display_data",
          "data": {
            "text/plain": [
              "<Figure size 432x288 with 1 Axes>"
            ],
            "image/png": "[encoded data removed]"
          },
          "metadata": {}
        }
      ]
    },
    {
      "cell_type": "markdown",
      "source": [
        "### Sloupcové grafy"
      ],
      "metadata": {
        "id": "PKoH3jnFPExb"
      }
    },
    {
      "cell_type": "code",
      "source": [
        "plt.bar(strany, volici_pocty)\n",
        "plt.show()"
      ],
      "metadata": {
        "colab": {
          "base_uri": "https://localhost:8080/",
          "height": 265
        },
        "id": "niQpT-VtNMfj",
        "outputId": "4d2ce24f-3771-41f1-ec32-aa637b17b9fa"
      },
      "execution_count": null,
      "outputs": [
        {
          "output_type": "display_data",
          "data": {
            "text/plain": [
              "<Figure size 432x288 with 1 Axes>"
            ],
            "image/png": "[encoded data removed]"
          },
          "metadata": {
            "needs_background": "light"
          }
        }
      ]
    },
    {
      "cell_type": "code",
      "source": [
        "plt.bar(strany, procenta)\n",
        "plt.show()"
      ],
      "metadata": {
        "colab": {
          "base_uri": "https://localhost:8080/",
          "height": 265
        },
        "id": "YwcXl1VCAlAB",
        "outputId": "3be0ff12-98a4-4ab5-a765-b9db8486aee6"
      },
      "execution_count": null,
      "outputs": [
        {
          "output_type": "display_data",
          "data": {
            "text/plain": [
              "<Figure size 432x288 with 1 Axes>"
            ],
            "image/png": "[encoded data removed]"
          },
          "metadata": {
            "needs_background": "light"
          }
        }
      ]
    },
    {
      "cell_type": "markdown",
      "source": [
        "## Příklad 2\n",
        "Sociologická firma realizovala předvolební průzkum, ve kterém oslovila 1000 náhodně vybraných voličů. V průzkumu se voličů ptala, kterou stranu by volili, kdyby volby proběhly dnes. Zjistilo se, že stranu A by volilo 203 z dotázaných, stranu B by volilo 201 dotázaných, stranu C by volilo 160 z dotázaných, stranu D by volilo 134 z dotázaných a stranu E by volilo 120 z dotázaných. \n",
        "Načrtněte sloupcový a koláčový graf prezentující výsledky výzkumu."
      ],
      "metadata": {
        "id": "87EOYINnBQBT"
      }
    },
    {
      "cell_type": "code",
      "source": [
        "###################### Zde je hlavička ####################\n",
        "from math import *\n",
        "import sympy as sym\n",
        "import matplotlib.pyplot as plt\n",
        "from sympy.plotting import plot3d\n",
        "from IPython.display import Math, display, Latex\n",
        "import numpy as np\n",
        "sym.init_printing()\n",
        "###########################################################\n"
      ],
      "metadata": {
        "id": "3s7Rs-X6KvRj"
      },
      "execution_count": null,
      "outputs": []
    },
    {
      "cell_type": "code",
      "source": [
        "strany = [\"A\", \"B\", \"C\", \"D\", \"E\"]\n",
        "poctyVolicu = [203, 201, 160, 134, 120]\n",
        "# [x for x in fruits if \"a\" in x]\n",
        "procenta = [(item / sum(poctyVolicu)) * 100  for item in poctyVolicu]\n",
        "for strana, item in zip(strany, procenta):\n",
        "    print(f\"Stranu {strana} volilo {round(item, 2)}% voličů.\")\n",
        "#print(procenta)\n",
        "y = np.array(procenta)"
      ],
      "metadata": {
        "id": "NQzSoaVYA5Gb",
        "colab": {
          "base_uri": "https://localhost:8080/"
        },
        "outputId": "0b0dcd54-bb47-4709-f419-77e206920027"
      },
      "execution_count": null,
      "outputs": [
        {
          "output_type": "stream",
          "name": "stdout",
          "text": [
            "Stranu A volilo 24.82% voličů.\n",
            "Stranu B volilo 24.57% voličů.\n",
            "Stranu C volilo 19.56% voličů.\n",
            "Stranu D volilo 16.38% voličů.\n",
            "Stranu E volilo 14.67% voličů.\n"
          ]
        }
      ]
    },
    {
      "cell_type": "markdown",
      "source": [
        "### Koláčový graf"
      ],
      "metadata": {
        "id": "Q8CsM5T6OpcZ"
      }
    },
    {
      "cell_type": "code",
      "source": [
        "plt.pie(y)\n",
        "plt.show()"
      ],
      "metadata": {
        "colab": {
          "base_uri": "https://localhost:8080/",
          "height": 248
        },
        "id": "gqH0OXiGKvRk",
        "outputId": "f13e05ea-8d20-43a7-95ec-0d8d85355551"
      },
      "execution_count": null,
      "outputs": [
        {
          "output_type": "display_data",
          "data": {
            "text/plain": [
              "<Figure size 432x288 with 1 Axes>"
            ],
            "image/png": "[encoded data removed]"
          },
          "metadata": {}
        }
      ]
    },
    {
      "cell_type": "markdown",
      "source": [
        "### Sloupcový graf"
      ],
      "metadata": {
        "id": "mFpoMiBsOtGB"
      }
    },
    {
      "cell_type": "code",
      "source": [
        "obr = plt.bar(strany, poctyVolicu)\n",
        "plt.title(\"Graf počtu voličů\")\n",
        "plt.xlabel(\"Strany\")\n",
        "plt.ylabel(\"Počty voličů\")\n",
        "#plt.label(\"Počty voličů\")\n",
        "plt.show(obr)"
      ],
      "metadata": {
        "colab": {
          "base_uri": "https://localhost:8080/",
          "height": 296
        },
        "id": "rSr6wYwjLXX5",
        "outputId": "06bdb5c2-afd8-4e4b-eeab-a6557503bbcc"
      },
      "execution_count": null,
      "outputs": [
        {
          "output_type": "display_data",
          "data": {
            "text/plain": [
              "<Figure size 432x288 with 1 Axes>"
            ],
            "image/png": "[encoded data removed]"
          },
          "metadata": {
            "needs_background": "light"
          }
        }
      ]
    },
    {
      "cell_type": "markdown",
      "source": [
        "# Medián"
      ],
      "metadata": {
        "id": "47ZaYHPfR-k1"
      }
    },
    {
      "cell_type": "markdown",
      "source": [
        "## Příklad 3\n",
        "Předpokládejme, že máme zakoupeny podílové listy 7 podílových fondů a máme data o ročním výnosu těchto fondů (v procentech).\n",
        "\n",
        "<table>\n",
        "    <caption>Výnosy fondů</caption>\n",
        "    <tr>\n",
        "        <th scope=\"col\">Fond</th>\n",
        "        <th scope=\"col\">A</th>\n",
        "        <th scope=\"col\">B</th>\n",
        "        <th scope=\"col\">C</th>\n",
        "        <th scope=\"col\">D</th>\n",
        "        <th scope=\"col\">E</th>\n",
        "        <th scope=\"col\">F</th>\n",
        "        <th scope=\"col\">G</th>\n",
        "    </tr>\n",
        "    <tr>\n",
        "        <th scope=\"row\">Výnos</th>\n",
        "        <td>2.7</td>\n",
        "        <td>9.2</td>\n",
        "        <td>11.4</td>\n",
        "        <td>4.6</td>\n",
        "        <td>5.2</td>\n",
        "        <td>5.6</td>\n",
        "        <td>-2.4</td>\n",
        "    </tr>\n",
        "</table>\n",
        "\n",
        "Určeme **medián** těchto hodnot."
      ],
      "metadata": {
        "id": "Rw3IBTxSSF6b"
      }
    },
    {
      "cell_type": "markdown",
      "source": [
        "**Definice mediánu.** Mediánem souboru $n$ hodnot/pozorování seřazených vzestupně budeme rozumět:\n",
        "\n",
        "a) hodnotu s pořadovým číslem $\\frac{n+1}{2},$ je-li $n$ liché.\n",
        "\n",
        "b) Střed mezi $\\frac{n}{2}-$tou hodnotou a $\\frac{n}{2}+1-$tou hodnotou v souboru."
      ],
      "metadata": {
        "id": "QMqRMnKgVYB4"
      }
    },
    {
      "cell_type": "code",
      "source": [
        "''' Nyní určeme tzv. medián v souboru uvedeném v předchozí tabulce. '''\n",
        "# Seřadíme vzestupně hodnoty v souboru\n",
        "vynosy = [2.7, 9.2,\t11.4, 4.6, 5.2,\t5.6, -2.4]\n",
        "vynosySorted = sorted(vynosy)\n",
        "\n",
        "# Určíme počet prvků a je-li sudý\n",
        "sudy = True\n",
        "n = len(vynosy)\n",
        "if n % 2 == 0:\n",
        "    sudy = True\n",
        "else:\n",
        "    sudy = False\n",
        "\n",
        "# Nyní určíme samotný medián\n",
        "if not(sudy):\n",
        "    median = vynosySorted[int((n+1)/2-1)]\n",
        "else:\n",
        "    median = (vynosySorted[int(n/2 - 1)] + vynosySorted[int(n/2)]) / 2\n",
        "print(median)"
      ],
      "metadata": {
        "colab": {
          "base_uri": "https://localhost:8080/"
        },
        "id": "R9bzIQvfSEiL",
        "outputId": "61fb1e64-cdda-407d-eb9c-5bbd25111cce"
      },
      "execution_count": null,
      "outputs": [
        {
          "output_type": "stream",
          "name": "stdout",
          "text": [
            "5.2\n"
          ]
        }
      ]
    },
    {
      "cell_type": "markdown",
      "source": [
        "## Příklad 4\n",
        "Najděme medián souboru hodnot:"
      ],
      "metadata": {
        "id": "7vMcNeYgAQw6"
      }
    },
    {
      "cell_type": "code",
      "source": [
        "hodnoty = [\"1.5%\", \"2.3%\", \"-3.4%\", \"-5.6%\", \"0.3%\", \"-3.4%\", \"3.2%\", \"2.2%\"]"
      ],
      "metadata": {
        "id": "90S2DYgX5dmn"
      },
      "execution_count": null,
      "outputs": []
    },
    {
      "cell_type": "code",
      "source": [
        "def median(s):\n",
        "    # Seřadíme vzestupně hodnoty v souboru\n",
        "    souborSorted = sorted(s)\n",
        "    # Určíme počet prvků a je-li sudý\n",
        "    n = len(s)\n",
        "    sudy = True\n",
        "    if n % 2 == 0:  # testujeme, je-li zbytek po dělení 2 roven nule\n",
        "        sudy = True\n",
        "    else:\n",
        "        sudy = False\n",
        "\n",
        "    # Nyní určíme samotný medián\n",
        "    if not(sudy):     # je-li n liche => not(sudy) = True\n",
        "        median = souborSorted[int((n+1)/2-1)]   \n",
        "    else:\n",
        "        median = (souborSorted[int(n/2 - 1)] + souborSorted[int(n/2)]) / 2\n",
        "    return median\n"
      ],
      "metadata": {
        "id": "69JF_RXSg1_H"
      },
      "execution_count": null,
      "outputs": []
    },
    {
      "cell_type": "markdown",
      "source": [
        "Nyní odstraníme uvozovky a symbol procent..."
      ],
      "metadata": {
        "id": "CXitLzaBBfqn"
      }
    },
    {
      "cell_type": "code",
      "source": [
        "hodnoty = [float(item.replace(\"%\", \"\")) for item in hodnoty]\n",
        "hodnoty"
      ],
      "metadata": {
        "colab": {
          "base_uri": "https://localhost:8080/"
        },
        "id": "gGtYv1Yx78Dl",
        "outputId": "777df42b-2c36-4e2c-be3f-fe8703482e69"
      },
      "execution_count": null,
      "outputs": [
        {
          "output_type": "execute_result",
          "data": {
            "text/plain": [
              "[1.5, 2.3, -3.4, -5.6, 0.3, -3.4, 3.2, 2.2]"
            ]
          },
          "metadata": {},
          "execution_count": 12
        }
      ]
    },
    {
      "cell_type": "code",
      "source": [
        "m = median(hodnoty)\n",
        "print(f\"Mediánem souboru je hodnota {m}%.\")"
      ],
      "metadata": {
        "id": "W-tZI4l8qhkW",
        "colab": {
          "base_uri": "https://localhost:8080/"
        },
        "outputId": "83886930-6a7b-4d17-c6fe-d5ab5256b575"
      },
      "execution_count": null,
      "outputs": [
        {
          "output_type": "stream",
          "name": "stdout",
          "text": [
            "Mediánem souboru je hodnota 0.9%.\n"
          ]
        }
      ]
    },
    {
      "cell_type": "markdown",
      "source": [
        "# Kvartily a Modus"
      ],
      "metadata": {
        "id": "796iezXnuyMa"
      }
    },
    {
      "cell_type": "markdown",
      "source": [
        ""
      ],
      "metadata": {
        "id": "hrQJbC6Su2Tz"
      }
    },
    {
      "cell_type": "code",
      "source": [
        ""
      ],
      "metadata": {
        "id": "qiPhg06CrS6x"
      },
      "execution_count": null,
      "outputs": []
    }
  ]
}